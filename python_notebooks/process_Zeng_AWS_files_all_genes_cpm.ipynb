{
 "cells": [
  {
   "cell_type": "code",
   "execution_count": null,
   "id": "5bec77e9",
   "metadata": {},
   "outputs": [],
   "source": [
    "#this script was used for testing the markers provided for the Zeng dataset\n",
    "import numpy as np\n",
    "import pandas as pd\n",
    "import scanpy as sc\n",
    "import pymn\n",
    "import anndata as ad\n",
    "import time\n",
    "import os\n",
    "from pyprojroot import here\n",
    "import resource"
   ]
  },
  {
   "cell_type": "code",
   "execution_count": null,
   "id": "ec3d037f",
   "metadata": {},
   "outputs": [],
   "source": [
    "here()\n",
    "#base_data_folder = \"/data/bican\" #for the Gillis lab\n",
    "#base_data_folder = \"/grid/gillis/data/lfrench\" #for the Elzar cluster\n",
    "base_data_folder = \"/grid/gillis/data_norepl/lfrench\""
   ]
  },
  {
   "cell_type": "code",
   "execution_count": null,
   "id": "d8825291",
   "metadata": {},
   "outputs": [],
   "source": []
  },
  {
   "cell_type": "code",
   "execution_count": null,
   "id": "94a15cf8",
   "metadata": {},
   "outputs": [],
   "source": [
    "adata_Zeng_v2 = sc.read_h5ad(base_data_folder + \"/whole_mouse_brain/zeng/from_aws/AIT21.0/AIT21_10Xv2.h5ad\") "
   ]
  },
  {
   "cell_type": "code",
   "execution_count": null,
   "id": "88f6fdeb",
   "metadata": {},
   "outputs": [],
   "source": [
    "adata_Zeng_v2.obs"
   ]
  },
  {
   "cell_type": "code",
   "execution_count": null,
   "id": "71acbbf3",
   "metadata": {},
   "outputs": [],
   "source": [
    "#replace the main log-normalized count matrix with the raw counts"
   ]
  },
  {
   "cell_type": "code",
   "execution_count": null,
   "id": "ea3d7ab4",
   "metadata": {},
   "outputs": [],
   "source": [
    "adata_Zeng_v2.X = adata_Zeng_v2.layers['rawcount']"
   ]
  },
  {
   "cell_type": "code",
   "execution_count": null,
   "id": "7b1ce9e4",
   "metadata": {},
   "outputs": [],
   "source": [
    "del adata_Zeng_v2.layers['rawcount']"
   ]
  },
  {
   "cell_type": "code",
   "execution_count": null,
   "id": "a054c805",
   "metadata": {},
   "outputs": [],
   "source": []
  },
  {
   "cell_type": "code",
   "execution_count": null,
   "id": "d2007fd8",
   "metadata": {},
   "outputs": [],
   "source": [
    "adata_Zeng_v3 = sc.read_h5ad(base_data_folder + \"/whole_mouse_brain/zeng/from_aws/AIT21.0/AIT21_10Xv3.h5ad\") "
   ]
  },
  {
   "cell_type": "code",
   "execution_count": null,
   "id": "cd1a7cc4",
   "metadata": {},
   "outputs": [],
   "source": [
    "adata_Zeng_v3.X = adata_Zeng_v3.layers['rawcount']\n",
    "del adata_Zeng_v3.layers['rawcount']"
   ]
  },
  {
   "cell_type": "code",
   "execution_count": null,
   "id": "09343268",
   "metadata": {},
   "outputs": [],
   "source": []
  },
  {
   "cell_type": "code",
   "execution_count": null,
   "id": "633b788a",
   "metadata": {},
   "outputs": [],
   "source": []
  },
  {
   "cell_type": "code",
   "execution_count": null,
   "id": "7df83c0e",
   "metadata": {},
   "outputs": [],
   "source": [
    "adata_Zeng_v2.obs.shape"
   ]
  },
  {
   "cell_type": "code",
   "execution_count": null,
   "id": "02c38dea",
   "metadata": {},
   "outputs": [],
   "source": [
    "adata_Zeng_v3.obs.shape"
   ]
  },
  {
   "cell_type": "code",
   "execution_count": null,
   "id": "fb8d5eee",
   "metadata": {},
   "outputs": [],
   "source": [
    "adata_Zeng_v2.var.shape"
   ]
  },
  {
   "cell_type": "code",
   "execution_count": null,
   "id": "da30176f",
   "metadata": {},
   "outputs": [],
   "source": [
    "adata_Zeng_v3.var.shape"
   ]
  },
  {
   "cell_type": "code",
   "execution_count": null,
   "id": "0e80da54",
   "metadata": {},
   "outputs": [],
   "source": [
    "adata_Zeng_v3.var"
   ]
  },
  {
   "cell_type": "code",
   "execution_count": null,
   "id": "830b104a",
   "metadata": {},
   "outputs": [],
   "source": [
    "adata_Zeng_multiome = sc.read_h5ad(base_data_folder + \"/whole_mouse_brain/zeng/from_aws/AIT21.0/AIT21_multiome.h5ad\")"
   ]
  },
  {
   "cell_type": "code",
   "execution_count": null,
   "id": "940e7f3f",
   "metadata": {},
   "outputs": [],
   "source": [
    "adata_Zeng_multiome.X = adata_Zeng_multiome.layers['rawcount']\n",
    "del adata_Zeng_multiome.layers['rawcount']"
   ]
  },
  {
   "cell_type": "code",
   "execution_count": null,
   "id": "4ebc787b",
   "metadata": {},
   "outputs": [],
   "source": [
    "adata_Zeng_multiome.obs.shape"
   ]
  },
  {
   "cell_type": "code",
   "execution_count": null,
   "id": "0dae94b3",
   "metadata": {},
   "outputs": [],
   "source": [
    "adata_Zeng_multiome.var"
   ]
  },
  {
   "cell_type": "code",
   "execution_count": null,
   "id": "f85093a6",
   "metadata": {
    "scrolled": true
   },
   "outputs": [],
   "source": [
    "#add in ensmbl ID's\n",
    "adata_Zeng_multiome.var = adata_Zeng_multiome.var.merge(adata_Zeng_v3.var, left_index=True,right_index=True, how='left')"
   ]
  },
  {
   "cell_type": "code",
   "execution_count": null,
   "id": "5bbe98d8",
   "metadata": {},
   "outputs": [],
   "source": [
    "adata_Zeng_multiome.shape"
   ]
  },
  {
   "cell_type": "code",
   "execution_count": null,
   "id": "a5209cb5",
   "metadata": {},
   "outputs": [],
   "source": []
  },
  {
   "cell_type": "code",
   "execution_count": null,
   "id": "176691fa",
   "metadata": {},
   "outputs": [],
   "source": [
    "merged=ad.concat([adata_Zeng_v2, adata_Zeng_v3, adata_Zeng_multiome], join=\"inner\")"
   ]
  },
  {
   "cell_type": "code",
   "execution_count": null,
   "id": "9e9fc18e",
   "metadata": {},
   "outputs": [],
   "source": [
    "merged"
   ]
  },
  {
   "cell_type": "code",
   "execution_count": null,
   "id": "80d67c9d",
   "metadata": {},
   "outputs": [],
   "source": [
    "merged.var"
   ]
  },
  {
   "cell_type": "code",
   "execution_count": null,
   "id": "b5128c1d",
   "metadata": {},
   "outputs": [],
   "source": [
    "#seems the var data gets lost in merge, add it back\n",
    "merged.var = adata_Zeng_v2.var"
   ]
  },
  {
   "cell_type": "code",
   "execution_count": null,
   "id": "1519dd96",
   "metadata": {},
   "outputs": [],
   "source": [
    "merged.shape"
   ]
  },
  {
   "cell_type": "code",
   "execution_count": null,
   "id": "80883d22",
   "metadata": {},
   "outputs": [],
   "source": [
    "merged.obs.iloc[1,:]"
   ]
  },
  {
   "cell_type": "code",
   "execution_count": null,
   "id": "a7bee843",
   "metadata": {},
   "outputs": [],
   "source": [
    "merged.obs['external_donor_name'] = merged.obs['external_donor_name'].astype(str)"
   ]
  },
  {
   "cell_type": "code",
   "execution_count": null,
   "id": "b3868181",
   "metadata": {},
   "outputs": [],
   "source": [
    "merged.write_h5ad(base_data_folder + \"/whole_mouse_brain/processed/zeng/subsets/AIT21.0.merged.with_multiome_all_genes.h5ad\")"
   ]
  },
  {
   "cell_type": "code",
   "execution_count": null,
   "id": "a4494119",
   "metadata": {},
   "outputs": [],
   "source": [
    "merged.obs"
   ]
  },
  {
   "cell_type": "code",
   "execution_count": null,
   "id": "af462d0e",
   "metadata": {},
   "outputs": [],
   "source": [
    "print(\"Done merge write!\")"
   ]
  },
  {
   "cell_type": "code",
   "execution_count": null,
   "id": "b42efb1e",
   "metadata": {},
   "outputs": [],
   "source": [
    "sc.pp.normalize_total(merged, target_sum=1e6, inplace=True)"
   ]
  },
  {
   "cell_type": "code",
   "execution_count": null,
   "id": "ee322c12",
   "metadata": {},
   "outputs": [],
   "source": [
    "merged.write_h5ad(base_data_folder + \"/whole_mouse_brain/processed/zeng/subsets/AIT21.0.merged.with_multiome_all_genes.cpm.h5ad\")"
   ]
  },
  {
   "cell_type": "code",
   "execution_count": null,
   "id": "a8ff4712",
   "metadata": {},
   "outputs": [],
   "source": [
    "print(\"Done CPM!\")"
   ]
  }
 ],
 "metadata": {
  "kernelspec": {
   "display_name": "Python 3 (ipykernel)",
   "language": "python",
   "name": "python3"
  },
  "language_info": {
   "codemirror_mode": {
    "name": "ipython",
    "version": 3
   },
   "file_extension": ".py",
   "mimetype": "text/x-python",
   "name": "python",
   "nbconvert_exporter": "python",
   "pygments_lexer": "ipython3",
   "version": "3.10.6"
  }
 },
 "nbformat": 4,
 "nbformat_minor": 5
}
