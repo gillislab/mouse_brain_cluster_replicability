{
 "cells": [
  {
   "cell_type": "code",
   "execution_count": null,
   "id": "ba904a7d",
   "metadata": {},
   "outputs": [],
   "source": [
    "#This code needs a high memory machine to run"
   ]
  },
  {
   "cell_type": "code",
   "execution_count": 4,
   "id": "fab89f79",
   "metadata": {},
   "outputs": [],
   "source": [
    "import numpy as np\n",
    "import pandas as pd\n",
    "import scanpy as sc\n",
    "import pymn\n",
    "import anndata as ad\n",
    "import time\n",
    "import os\n",
    "from pyprojroot import here\n",
    "import resource"
   ]
  },
  {
   "cell_type": "code",
   "execution_count": 5,
   "id": "9f6f3f62",
   "metadata": {},
   "outputs": [],
   "source": [
    "base_data_folder = \"/vault/lfrench/mouse_brain_cluster_replicability/data/\""
   ]
  },
  {
   "cell_type": "code",
   "execution_count": 9,
   "id": "d0e30141",
   "metadata": {},
   "outputs": [],
   "source": [
    "#from braincelldata.org\n",
    "adata_macosko = sc.read_h5ad(base_data_folder + \"/whole_mouse_brain/macosko/from_google_drive/Macosko_Mouse_Atlas_Single_Nuclei.Use_Backed.h5ad\")"
   ]
  },
  {
   "cell_type": "code",
   "execution_count": 11,
   "id": "2047a27b",
   "metadata": {},
   "outputs": [],
   "source": [
    "adata_macosko.obs['cell.type'] = adata_macosko.obs['ClusterNm'].astype(str)\n",
    "adata_macosko.obs['study_id'] = \"Macosko\"\n",
    "adata_macosko.obs.index = adata_macosko.obs.index.to_numpy(dtype=\"str\")"
   ]
  },
  {
   "cell_type": "code",
   "execution_count": 12,
   "id": "fa368f93",
   "metadata": {},
   "outputs": [
    {
     "name": "stdout",
     "output_type": "stream",
     "text": [
      "Number of Macosko cell types: 5030\n"
     ]
    }
   ],
   "source": [
    "print(\"Number of Macosko cell types: \" + str(len(set(adata_macosko.obs[\"cell.type\"]))))\n"
   ]
  },
  {
   "cell_type": "code",
   "execution_count": 13,
   "id": "375cba2a",
   "metadata": {},
   "outputs": [],
   "source": [
    "##########\n",
    "### Zeng\n",
    "##########"
   ]
  },
  {
   "cell_type": "code",
   "execution_count": 14,
   "id": "fbfc6736",
   "metadata": {},
   "outputs": [],
   "source": [
    "adata_Zeng = sc.read_h5ad(base_data_folder + \"/whole_mouse_brain/processed/zeng/subsets/AIT21.0.merged.with_multiome.h5ad\")"
   ]
  },
  {
   "cell_type": "code",
   "execution_count": 15,
   "id": "8f044287",
   "metadata": {},
   "outputs": [
    {
     "name": "stderr",
     "output_type": "stream",
     "text": [
      "/tmp/ipykernel_2454542/781402409.py:1: FutureWarning: The default of observed=False is deprecated and will be changed to True in a future version of pandas. Pass observed=False to retain current behavior or observed=True to adopt the future default and silence this warning.\n",
      "  adata_Zeng.obs.groupby('method').count()\n"
     ]
    },
    {
     "data": {
      "text/html": [
       "<div>\n",
       "<style scoped>\n",
       "    .dataframe tbody tr th:only-of-type {\n",
       "        vertical-align: middle;\n",
       "    }\n",
       "\n",
       "    .dataframe tbody tr th {\n",
       "        vertical-align: top;\n",
       "    }\n",
       "\n",
       "    .dataframe thead th {\n",
       "        text-align: right;\n",
       "    }\n",
       "</style>\n",
       "<table border=\"1\" class=\"dataframe\">\n",
       "  <thead>\n",
       "    <tr style=\"text-align: right;\">\n",
       "      <th></th>\n",
       "      <th>library_prep</th>\n",
       "      <th>gene.counts.0</th>\n",
       "      <th>doublet_score</th>\n",
       "      <th>roi</th>\n",
       "      <th>umi.counts</th>\n",
       "      <th>sex</th>\n",
       "      <th>external_donor_name</th>\n",
       "      <th>age</th>\n",
       "      <th>medical_conditions</th>\n",
       "      <th>cl</th>\n",
       "    </tr>\n",
       "    <tr>\n",
       "      <th>method</th>\n",
       "      <th></th>\n",
       "      <th></th>\n",
       "      <th></th>\n",
       "      <th></th>\n",
       "      <th></th>\n",
       "      <th></th>\n",
       "      <th></th>\n",
       "      <th></th>\n",
       "      <th></th>\n",
       "      <th></th>\n",
       "    </tr>\n",
       "  </thead>\n",
       "  <tbody>\n",
       "    <tr>\n",
       "      <th>10Xv2</th>\n",
       "      <td>1700767</td>\n",
       "      <td>1700767</td>\n",
       "      <td>1700767</td>\n",
       "      <td>1700767</td>\n",
       "      <td>1700767</td>\n",
       "      <td>1700767</td>\n",
       "      <td>1700767</td>\n",
       "      <td>1700767</td>\n",
       "      <td>1700767</td>\n",
       "      <td>1700767</td>\n",
       "    </tr>\n",
       "    <tr>\n",
       "      <th>10Xv3</th>\n",
       "      <td>2342082</td>\n",
       "      <td>2342082</td>\n",
       "      <td>2342082</td>\n",
       "      <td>2342082</td>\n",
       "      <td>2342082</td>\n",
       "      <td>2342082</td>\n",
       "      <td>2342082</td>\n",
       "      <td>2342082</td>\n",
       "      <td>2342082</td>\n",
       "      <td>2342082</td>\n",
       "    </tr>\n",
       "    <tr>\n",
       "      <th>10xMulti</th>\n",
       "      <td>1687</td>\n",
       "      <td>1687</td>\n",
       "      <td>1687</td>\n",
       "      <td>1687</td>\n",
       "      <td>1687</td>\n",
       "      <td>1687</td>\n",
       "      <td>1687</td>\n",
       "      <td>1687</td>\n",
       "      <td>1687</td>\n",
       "      <td>1687</td>\n",
       "    </tr>\n",
       "  </tbody>\n",
       "</table>\n",
       "</div>"
      ],
      "text/plain": [
       "          library_prep  gene.counts.0  doublet_score      roi  umi.counts  \\\n",
       "method                                                                      \n",
       "10Xv2          1700767        1700767        1700767  1700767     1700767   \n",
       "10Xv3          2342082        2342082        2342082  2342082     2342082   \n",
       "10xMulti          1687           1687           1687     1687        1687   \n",
       "\n",
       "              sex  external_donor_name      age  medical_conditions       cl  \n",
       "method                                                                        \n",
       "10Xv2     1700767              1700767  1700767             1700767  1700767  \n",
       "10Xv3     2342082              2342082  2342082             2342082  2342082  \n",
       "10xMulti     1687                 1687     1687                1687     1687  "
      ]
     },
     "execution_count": 15,
     "metadata": {},
     "output_type": "execute_result"
    }
   ],
   "source": [
    "adata_Zeng.obs.groupby('method').count()"
   ]
  },
  {
   "cell_type": "code",
   "execution_count": 18,
   "id": "06c311f0",
   "metadata": {},
   "outputs": [
    {
     "data": {
      "text/plain": [
       "'/vault/lfrench/mouse_brain_cluster_replicability/data/whole_mouse_brain/zeng/from_aws/'"
      ]
     },
     "execution_count": 18,
     "metadata": {},
     "output_type": "execute_result"
    }
   ],
   "source": [
    "base_data_folder + \"whole_mouse_brain/zeng/from_aws/\""
   ]
  },
  {
   "cell_type": "code",
   "execution_count": 19,
   "id": "6bb2abc9",
   "metadata": {},
   "outputs": [],
   "source": [
    "Zeng_cluster_info_AWS = pd.read_csv(base_data_folder + \"/whole_mouse_brain/zeng/from_aws/AIT21.0/AIT21_annotation_freeze_081523.tsv\", sep = '\\t')"
   ]
  },
  {
   "cell_type": "code",
   "execution_count": 20,
   "id": "b4c2ab12",
   "metadata": {},
   "outputs": [],
   "source": [
    "#set study ID here to prevent view as actual memory grabs \n",
    "Zeng_cluster_info_AWS['study_id'] = \"Zeng\"\n",
    "Zeng_cluster_info_AWS['cell.type'] = Zeng_cluster_info_AWS['cl'].astype(str)"
   ]
  },
  {
   "cell_type": "code",
   "execution_count": 21,
   "id": "88c46417",
   "metadata": {},
   "outputs": [],
   "source": [
    "#set it to be strings\n",
    "adata_Zeng.obs['cl'] = adata_Zeng.obs['cl'].astype(str)\n",
    "Zeng_cluster_info_AWS['cl'] = Zeng_cluster_info_AWS['cl'].astype(str)"
   ]
  },
  {
   "cell_type": "code",
   "execution_count": 22,
   "id": "d076650d",
   "metadata": {},
   "outputs": [],
   "source": [
    "adata_Zeng.obs.index = adata_Zeng.obs.index.astype(str)\n",
    "adata_Zeng.obs = adata_Zeng.obs.merge(Zeng_cluster_info_AWS, how=\"left\", on='cl')"
   ]
  },
  {
   "cell_type": "code",
   "execution_count": 23,
   "id": "d95b2f38",
   "metadata": {},
   "outputs": [],
   "source": [
    "#use ensmbl ID as index\n",
    "adata_Zeng.var = adata_Zeng.var.set_index(\"gene_identifier\")"
   ]
  },
  {
   "cell_type": "code",
   "execution_count": 25,
   "id": "62a9fb56",
   "metadata": {},
   "outputs": [
    {
     "data": {
      "text/plain": [
       "0"
      ]
     },
     "execution_count": 25,
     "metadata": {},
     "output_type": "execute_result"
    }
   ],
   "source": [
    "#cells lost\n",
    "adata_Zeng.obs['cluster_id'].isna().sum() #none it seems"
   ]
  },
  {
   "cell_type": "code",
   "execution_count": 26,
   "id": "92605a98",
   "metadata": {},
   "outputs": [
    {
     "data": {
      "text/plain": [
       "1560"
      ]
     },
     "execution_count": 26,
     "metadata": {},
     "output_type": "execute_result"
    }
   ],
   "source": [
    "#LQ or low quality cells\n",
    "sum(adata_Zeng.obs['subclass_label'] == \"LQ\")"
   ]
  },
  {
   "cell_type": "code",
   "execution_count": 27,
   "id": "699150eb",
   "metadata": {},
   "outputs": [
    {
     "name": "stderr",
     "output_type": "stream",
     "text": [
      "/tmp/ipykernel_2454542/3891690664.py:5: ImplicitModificationWarning: Trying to modify index of attribute `.obs` of view, initializing view as actual.\n",
      "  adata_Zeng.obs.index = adata_Zeng.obs.index.astype(str)\n"
     ]
    },
    {
     "ename": "ValueError",
     "evalue": "To copy an AnnData object in backed mode, pass a filename: `.copy(filename='myfilename.h5ad')`. To load the object into memory, use `.to_memory()`.",
     "output_type": "error",
     "traceback": [
      "\u001b[0;31m---------------------------------------------------------------------------\u001b[0m",
      "\u001b[0;31mValueError\u001b[0m                                Traceback (most recent call last)",
      "Cell \u001b[0;32mIn [27], line 5\u001b[0m\n\u001b[1;32m      3\u001b[0m adata_Zeng\u001b[38;5;241m.\u001b[39mobs[\u001b[38;5;124m\"\u001b[39m\u001b[38;5;124mfilter_out\u001b[39m\u001b[38;5;124m\"\u001b[39m] \u001b[38;5;241m=\u001b[39m adata_Zeng\u001b[38;5;241m.\u001b[39mobs[\u001b[38;5;124m'\u001b[39m\u001b[38;5;124msubclass_label\u001b[39m\u001b[38;5;124m'\u001b[39m] \u001b[38;5;241m==\u001b[39m \u001b[38;5;124m\"\u001b[39m\u001b[38;5;124mLQ\u001b[39m\u001b[38;5;124m\"\u001b[39m\n\u001b[1;32m      4\u001b[0m adata_Zeng \u001b[38;5;241m=\u001b[39m adata_Zeng[\u001b[38;5;241m~\u001b[39madata_Zeng\u001b[38;5;241m.\u001b[39mobs[\u001b[38;5;124m\"\u001b[39m\u001b[38;5;124mfilter_out\u001b[39m\u001b[38;5;124m\"\u001b[39m],:]\n\u001b[0;32m----> 5\u001b[0m adata_Zeng\u001b[38;5;241m.\u001b[39mobs\u001b[38;5;241m.\u001b[39mindex \u001b[38;5;241m=\u001b[39m adata_Zeng\u001b[38;5;241m.\u001b[39mobs\u001b[38;5;241m.\u001b[39mindex\u001b[38;5;241m.\u001b[39mastype(\u001b[38;5;28mstr\u001b[39m)\n",
      "File \u001b[0;32m~/miniconda3/envs/mouse_brain_cells/lib/python3.10/site-packages/anndata/_core/views.py:285\u001b[0m, in \u001b[0;36mDataFrameView.__setattr__\u001b[0;34m(self, key, value)\u001b[0m\n\u001b[1;32m    278\u001b[0m \u001b[38;5;28;01mif\u001b[39;00m key \u001b[38;5;241m==\u001b[39m \u001b[38;5;124m\"\u001b[39m\u001b[38;5;124mindex\u001b[39m\u001b[38;5;124m\"\u001b[39m:\n\u001b[1;32m    279\u001b[0m     warnings\u001b[38;5;241m.\u001b[39mwarn(\n\u001b[1;32m    280\u001b[0m         \u001b[38;5;124mf\u001b[39m\u001b[38;5;124m\"\u001b[39m\u001b[38;5;124mTrying to modify \u001b[39m\u001b[38;5;132;01m{\u001b[39;00mkey\u001b[38;5;132;01m}\u001b[39;00m\u001b[38;5;124m of attribute `.\u001b[39m\u001b[38;5;132;01m{\u001b[39;00m\u001b[38;5;28mself\u001b[39m\u001b[38;5;241m.\u001b[39m_view_args\u001b[38;5;241m.\u001b[39mattrname\u001b[38;5;132;01m}\u001b[39;00m\u001b[38;5;124m` of view, \u001b[39m\u001b[38;5;124m\"\u001b[39m\n\u001b[1;32m    281\u001b[0m         \u001b[38;5;124m\"\u001b[39m\u001b[38;5;124minitializing view as actual.\u001b[39m\u001b[38;5;124m\"\u001b[39m,\n\u001b[1;32m    282\u001b[0m         ImplicitModificationWarning,\n\u001b[1;32m    283\u001b[0m         stacklevel\u001b[38;5;241m=\u001b[39m\u001b[38;5;241m2\u001b[39m,\n\u001b[1;32m    284\u001b[0m     )\n\u001b[0;32m--> 285\u001b[0m     \u001b[38;5;28;01mwith\u001b[39;00m view_update(\u001b[38;5;241m*\u001b[39m\u001b[38;5;28mself\u001b[39m\u001b[38;5;241m.\u001b[39m_view_args) \u001b[38;5;28;01mas\u001b[39;00m container:\n\u001b[1;32m    286\u001b[0m         \u001b[38;5;28msetattr\u001b[39m(container, key, value)\n\u001b[1;32m    287\u001b[0m \u001b[38;5;28;01melse\u001b[39;00m:\n",
      "File \u001b[0;32m~/miniconda3/envs/mouse_brain_cells/lib/python3.10/contextlib.py:135\u001b[0m, in \u001b[0;36m_GeneratorContextManager.__enter__\u001b[0;34m(self)\u001b[0m\n\u001b[1;32m    133\u001b[0m \u001b[38;5;28;01mdel\u001b[39;00m \u001b[38;5;28mself\u001b[39m\u001b[38;5;241m.\u001b[39margs, \u001b[38;5;28mself\u001b[39m\u001b[38;5;241m.\u001b[39mkwds, \u001b[38;5;28mself\u001b[39m\u001b[38;5;241m.\u001b[39mfunc\n\u001b[1;32m    134\u001b[0m \u001b[38;5;28;01mtry\u001b[39;00m:\n\u001b[0;32m--> 135\u001b[0m     \u001b[38;5;28;01mreturn\u001b[39;00m \u001b[38;5;28;43mnext\u001b[39;49m\u001b[43m(\u001b[49m\u001b[38;5;28;43mself\u001b[39;49m\u001b[38;5;241;43m.\u001b[39;49m\u001b[43mgen\u001b[49m\u001b[43m)\u001b[49m\n\u001b[1;32m    136\u001b[0m \u001b[38;5;28;01mexcept\u001b[39;00m \u001b[38;5;167;01mStopIteration\u001b[39;00m:\n\u001b[1;32m    137\u001b[0m     \u001b[38;5;28;01mraise\u001b[39;00m \u001b[38;5;167;01mRuntimeError\u001b[39;00m(\u001b[38;5;124m\"\u001b[39m\u001b[38;5;124mgenerator didn\u001b[39m\u001b[38;5;124m'\u001b[39m\u001b[38;5;124mt yield\u001b[39m\u001b[38;5;124m\"\u001b[39m) \u001b[38;5;28;01mfrom\u001b[39;00m \u001b[38;5;28mNone\u001b[39m\n",
      "File \u001b[0;32m~/miniconda3/envs/mouse_brain_cells/lib/python3.10/site-packages/anndata/_core/views.py:53\u001b[0m, in \u001b[0;36mview_update\u001b[0;34m(adata_view, attr_name, keys)\u001b[0m\n\u001b[1;32m     33\u001b[0m \u001b[38;5;129m@contextmanager\u001b[39m\n\u001b[1;32m     34\u001b[0m \u001b[38;5;28;01mdef\u001b[39;00m \u001b[38;5;21mview_update\u001b[39m(adata_view: AnnData, attr_name: \u001b[38;5;28mstr\u001b[39m, keys: \u001b[38;5;28mtuple\u001b[39m[\u001b[38;5;28mstr\u001b[39m, \u001b[38;5;241m.\u001b[39m\u001b[38;5;241m.\u001b[39m\u001b[38;5;241m.\u001b[39m]):\n\u001b[1;32m     35\u001b[0m     \u001b[38;5;124;03m\"\"\"Context manager for updating a view of an AnnData object.\u001b[39;00m\n\u001b[1;32m     36\u001b[0m \n\u001b[1;32m     37\u001b[0m \u001b[38;5;124;03m    Contains logic for \"actualizing\" a view. Yields the object to be modified in-place.\u001b[39;00m\n\u001b[0;32m   (...)\u001b[0m\n\u001b[1;32m     51\u001b[0m \u001b[38;5;124;03m    `adata.attr[key1][key2][keyn]...`\u001b[39;00m\n\u001b[1;32m     52\u001b[0m \u001b[38;5;124;03m    \"\"\"\u001b[39;00m\n\u001b[0;32m---> 53\u001b[0m     new \u001b[38;5;241m=\u001b[39m \u001b[43madata_view\u001b[49m\u001b[38;5;241;43m.\u001b[39;49m\u001b[43mcopy\u001b[49m\u001b[43m(\u001b[49m\u001b[43m)\u001b[49m\n\u001b[1;32m     54\u001b[0m     attr \u001b[38;5;241m=\u001b[39m \u001b[38;5;28mgetattr\u001b[39m(new, attr_name)\n\u001b[1;32m     55\u001b[0m     container \u001b[38;5;241m=\u001b[39m reduce(\u001b[38;5;28;01mlambda\u001b[39;00m d, k: d[k], keys, attr)\n",
      "File \u001b[0;32m~/miniconda3/envs/mouse_brain_cells/lib/python3.10/site-packages/anndata/_core/anndata.py:1449\u001b[0m, in \u001b[0;36mAnnData.copy\u001b[0;34m(self, filename)\u001b[0m\n\u001b[1;32m   1446\u001b[0m \u001b[38;5;28;01mfrom\u001b[39;00m \u001b[38;5;21;01m.\u001b[39;00m\u001b[38;5;21;01m.\u001b[39;00m\u001b[38;5;21;01mio\u001b[39;00m \u001b[38;5;28;01mimport\u001b[39;00m read_h5ad, write_h5ad\n\u001b[1;32m   1448\u001b[0m \u001b[38;5;28;01mif\u001b[39;00m filename \u001b[38;5;129;01mis\u001b[39;00m \u001b[38;5;28;01mNone\u001b[39;00m:\n\u001b[0;32m-> 1449\u001b[0m     \u001b[38;5;28;01mraise\u001b[39;00m \u001b[38;5;167;01mValueError\u001b[39;00m(\n\u001b[1;32m   1450\u001b[0m         \u001b[38;5;124m\"\u001b[39m\u001b[38;5;124mTo copy an AnnData object in backed mode, \u001b[39m\u001b[38;5;124m\"\u001b[39m\n\u001b[1;32m   1451\u001b[0m         \u001b[38;5;124m\"\u001b[39m\u001b[38;5;124mpass a filename: `.copy(filename=\u001b[39m\u001b[38;5;124m'\u001b[39m\u001b[38;5;124mmyfilename.h5ad\u001b[39m\u001b[38;5;124m'\u001b[39m\u001b[38;5;124m)`. \u001b[39m\u001b[38;5;124m\"\u001b[39m\n\u001b[1;32m   1452\u001b[0m         \u001b[38;5;124m\"\u001b[39m\u001b[38;5;124mTo load the object into memory, use `.to_memory()`.\u001b[39m\u001b[38;5;124m\"\u001b[39m\n\u001b[1;32m   1453\u001b[0m     )\n\u001b[1;32m   1454\u001b[0m mode \u001b[38;5;241m=\u001b[39m \u001b[38;5;28mself\u001b[39m\u001b[38;5;241m.\u001b[39mfile\u001b[38;5;241m.\u001b[39m_filemode\n\u001b[1;32m   1455\u001b[0m write_h5ad(filename, \u001b[38;5;28mself\u001b[39m)\n",
      "\u001b[0;31mValueError\u001b[0m: To copy an AnnData object in backed mode, pass a filename: `.copy(filename='myfilename.h5ad')`. To load the object into memory, use `.to_memory()`."
     ]
    }
   ],
   "source": [
    "#remove #LQ \n",
    "adata_Zeng.obs.index = adata_Zeng.obs.index.astype(str)\n",
    "adata_Zeng.obs[\"filter_out\"] = adata_Zeng.obs['subclass_label'] == \"LQ\"\n",
    "adata_Zeng = adata_Zeng[~adata_Zeng.obs[\"filter_out\"],:]\n",
    "adata_Zeng.obs.index = adata_Zeng.obs.index.astype(str)"
   ]
  },
  {
   "cell_type": "code",
   "execution_count": 28,
   "id": "ebe1ada5",
   "metadata": {},
   "outputs": [
    {
     "name": "stdout",
     "output_type": "stream",
     "text": [
      "Number of Zeng cell types: 5322\n"
     ]
    }
   ],
   "source": [
    "print(\"Number of Zeng cell types: \" + str(len(set(adata_Zeng.obs[\"cell.type\"]))))"
   ]
  },
  {
   "cell_type": "code",
   "execution_count": null,
   "id": "5b26168b",
   "metadata": {},
   "outputs": [],
   "source": [
    "merged=ad.concat([adata_Zeng, adata_macosko], join=\"inner\")"
   ]
  },
  {
   "cell_type": "code",
   "execution_count": null,
   "id": "30bee5e2",
   "metadata": {},
   "outputs": [],
   "source": [
    "#free memory\n",
    "adata_Zeng = None\n",
    "adata_macosko = None"
   ]
  },
  {
   "cell_type": "code",
   "execution_count": null,
   "id": "f97b0de0",
   "metadata": {},
   "outputs": [],
   "source": [
    "pymn.variableGenes(merged, study_col='study_id')"
   ]
  },
  {
   "cell_type": "code",
   "execution_count": null,
   "id": "19e1a2d6",
   "metadata": {},
   "outputs": [],
   "source": [
    "sum(merged.var.highly_variable)"
   ]
  },
  {
   "cell_type": "code",
   "execution_count": null,
   "id": "5b9a6d04",
   "metadata": {},
   "outputs": [],
   "source": [
    "#subset to highly variable genes to free up memory\n",
    "merged = merged[:, merged.var.highly_variable]"
   ]
  },
  {
   "cell_type": "code",
   "execution_count": null,
   "id": "b21843c6",
   "metadata": {},
   "outputs": [],
   "source": [
    "merged.obs['cell.type'] = merged.obs['cell.type'].to_numpy(dtype=\"str\")\n",
    "merged.obs['study_id'] = merged.obs['study_id'].to_numpy(dtype=\"str\")\n",
    "merged.obs.index = merged.obs.index.to_numpy(dtype=\"str\")"
   ]
  },
  {
   "cell_type": "code",
   "execution_count": null,
   "id": "00c2ef07",
   "metadata": {},
   "outputs": [],
   "source": [
    "#use numpy types instead of pandas\n",
    "merged.var.highly_variable = merged.var.highly_variable.to_numpy(dtype=\"bool\")\n",
    "merged.var.index = merged.var.index.to_numpy(dtype=\"str\")"
   ]
  },
  {
   "cell_type": "code",
   "execution_count": null,
   "id": "ffcb4a9b",
   "metadata": {},
   "outputs": [],
   "source": [
    "#make cell indices unique\n",
    "merged.obs_names_make_unique()"
   ]
  },
  {
   "cell_type": "code",
   "execution_count": null,
   "id": "f249ac5e",
   "metadata": {},
   "outputs": [],
   "source": [
    "#save\n",
    "merged.write(base_data_folder + '/whole_mouse_brain/processed/merged_Zeng_AWS.Oct2023.h5ad')"
   ]
  }
 ],
 "metadata": {
  "kernelspec": {
   "display_name": "Python [conda env:mouse_brain_cells] *",
   "language": "python",
   "name": "conda-env-mouse_brain_cells-py"
  },
  "language_info": {
   "codemirror_mode": {
    "name": "ipython",
    "version": 3
   },
   "file_extension": ".py",
   "mimetype": "text/x-python",
   "name": "python",
   "nbconvert_exporter": "python",
   "pygments_lexer": "ipython3",
   "version": "3.10.6"
  }
 },
 "nbformat": 4,
 "nbformat_minor": 5
}
