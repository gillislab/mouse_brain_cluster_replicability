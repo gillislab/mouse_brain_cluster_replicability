{
 "cells": [
  {
   "cell_type": "code",
   "execution_count": 5,
   "id": "74782332",
   "metadata": {},
   "outputs": [],
   "source": [
    "import numpy as np\n",
    "from scipy import sparse, stats\n",
    "import pandas as pd\n",
    "import bottleneck\n",
    "import gc\n",
    "import warnings\n",
    "import scanpy as sc\n",
    "import anndata as ad\n",
    "import time\n",
    "import os\n",
    "from scipy import stats, sparse\n",
    "import concurrent.futures\n",
    "import statistics\n",
    "import random\n",
    "import threading\n",
    "import concurrent.futures\n",
    "from scipy.sparse import csr_matrix\n",
    "from scipy.stats import zscore\n",
    "\n",
    "from pyprojroot import here\n",
    "import pymn\n",
    "import resource"
   ]
  },
  {
   "cell_type": "code",
   "execution_count": 6,
   "id": "703a7203",
   "metadata": {},
   "outputs": [],
   "source": [
    "here()\n",
    "base_data_folder = \"/vault/lfrench/mouse_brain_cluster_replicability/data/\""
   ]
  },
  {
   "cell_type": "code",
   "execution_count": 7,
   "id": "906ccc63",
   "metadata": {},
   "outputs": [],
   "source": [
    "#common universe of markers\n",
    "cluster_annotations = pd.read_csv(base_data_folder + \"/whole_mouse_brain/zeng/from_aws/AIT21.0/AIT21_annotation_freeze_081523.tsv\", sep=\"\\t\")\n",
    "all_markers = set(cluster_annotations['cluster.markers'].str.split(',').explode().tolist())\n",
    "all_Zeng_markers = [x for x in all_markers if pd.notna(x)]\n",
    "all_Zeng_markers = set(all_Zeng_markers)\n",
    "#load Macosko universe and markers\n",
    "\n"
   ]
  },
  {
   "cell_type": "code",
   "execution_count": 8,
   "id": "8f8270b6",
   "metadata": {},
   "outputs": [],
   "source": [
    "#load Macosko marker lists from preprint supplement table\n",
    "Macosko_supplement_table = pd.read_excel(base_data_folder + \"/whole_mouse_brain/processed/macosko/paper_supplements/41586_2023_6818_MOESM10_ESM.xlsx\", sheet_name = \"Whole Brain Set Cover\")\n",
    "#just the most specific markers\n",
    "Macosko_supplement_table = Macosko_supplement_table[Macosko_supplement_table[\"Exclude up to N Nearest Neighbors\"] == 0]\n",
    "\n",
    "Macosko_supplement_table = Macosko_supplement_table[[\"Cell Type Name\", \"Optimally-Sized Gene List\"]]\n",
    "Macosko_markers = Macosko_supplement_table['Optimally-Sized Gene List'].str.split('|', expand=True)\n",
    "Macosko_markers = pd.concat([Macosko_supplement_table['Cell Type Name'], Macosko_markers], axis=1)\n",
    "Macosko_markers = pd.melt(Macosko_markers, id_vars = 'Cell Type Name', value_name='gene_symbol', var_name='order')\n",
    "Macosko_markers['gene_symbol'] = Macosko_markers['gene_symbol'].str.replace(\"=.*\", \"\", regex=True)\n",
    "Macosko_markers.dropna(subset=['gene_symbol'], inplace=True)\n",
    "Macosko_markers = Macosko_markers.rename(columns = {\"gene_symbol\":\"gene\"})\n",
    "Macosko_markers = Macosko_markers.rename(columns = {\"Cell Type Name\":\"Macosko_cluster\"})\n"
   ]
  },
  {
   "cell_type": "code",
   "execution_count": null,
   "id": "c7d49a8d",
   "metadata": {},
   "outputs": [],
   "source": []
  },
  {
   "cell_type": "code",
   "execution_count": 9,
   "id": "d1c43bf8",
   "metadata": {},
   "outputs": [],
   "source": [
    "all_Macosko_markers = set(Macosko_markers.gene)"
   ]
  },
  {
   "cell_type": "code",
   "execution_count": 10,
   "id": "bcb434dd",
   "metadata": {},
   "outputs": [
    {
     "data": {
      "text/plain": [
       "2706"
      ]
     },
     "execution_count": 10,
     "metadata": {},
     "output_type": "execute_result"
    }
   ],
   "source": [
    "len(all_Macosko_markers)"
   ]
  },
  {
   "cell_type": "code",
   "execution_count": 11,
   "id": "1f4dc84d",
   "metadata": {},
   "outputs": [
    {
     "data": {
      "text/plain": [
       "2725"
      ]
     },
     "execution_count": 11,
     "metadata": {},
     "output_type": "execute_result"
    }
   ],
   "source": [
    "len(all_Zeng_markers)"
   ]
  },
  {
   "cell_type": "code",
   "execution_count": null,
   "id": "d9a4bdf5",
   "metadata": {},
   "outputs": [],
   "source": [
    "#for subsetting\n",
    "#all_Zeng_cpm = sc.read_h5ad(base_data_folder + \"/whole_mouse_brain/processed/zeng/subsets/AIT21.0.merged.with_multiome_all_genes.cpm.h5ad\") \n",
    "\n"
   ]
  },
  {
   "cell_type": "code",
   "execution_count": 13,
   "id": "9104b417",
   "metadata": {},
   "outputs": [],
   "source": [
    "#for when it's already been subsetted\n",
    "#all_Zeng_cpm = sc.read_h5ad(base_data_folder + \"/whole_mouse_brain/processed/zeng/subsets/AIT21.0.merged.with_multiome_3309_markers_only.cpm.h5ad\") \n",
    "all_Zeng_cpm = sc.read_h5ad(base_data_folder + \"/whole_mouse_brain/processed/zeng/subsets/AIT21.0.merged.with_multiome_3820_markers_only.cpm.h5ad\") "
   ]
  },
  {
   "cell_type": "code",
   "execution_count": 14,
   "id": "415fa2a7",
   "metadata": {},
   "outputs": [],
   "source": [
    "adata_macosko = sc.read_h5ad(base_data_folder + \"/whole_mouse_brain/macosko/from_google_drive/Macosko_Mouse_Atlas_Single_Nuclei.Use_Backed.h5ad\", backed = \"r\")\n",
    "gene_map = adata_macosko.var\n",
    "Macosko_universe = set(gene_map['gene_name'].to_list())\n",
    "Zeng_universe = set(all_Zeng_cpm.var.gene_symbol.to_list())"
   ]
  },
  {
   "cell_type": "code",
   "execution_count": 15,
   "id": "f2481821",
   "metadata": {},
   "outputs": [],
   "source": [
    "#join with universes\n",
    "all_Macosko_markers = all_Macosko_markers.intersection(Zeng_universe)"
   ]
  },
  {
   "cell_type": "code",
   "execution_count": 16,
   "id": "a389932e",
   "metadata": {},
   "outputs": [
    {
     "data": {
      "text/plain": [
       "2673"
      ]
     },
     "execution_count": 16,
     "metadata": {},
     "output_type": "execute_result"
    }
   ],
   "source": [
    "len(all_Macosko_markers)"
   ]
  },
  {
   "cell_type": "code",
   "execution_count": 17,
   "id": "a271f803",
   "metadata": {},
   "outputs": [
    {
     "data": {
      "text/plain": [
       "2725"
      ]
     },
     "execution_count": 17,
     "metadata": {},
     "output_type": "execute_result"
    }
   ],
   "source": [
    "len(all_Zeng_markers)"
   ]
  },
  {
   "cell_type": "code",
   "execution_count": 18,
   "id": "37cda401",
   "metadata": {},
   "outputs": [
    {
     "data": {
      "text/plain": [
       "1578"
      ]
     },
     "execution_count": 18,
     "metadata": {},
     "output_type": "execute_result"
    }
   ],
   "source": [
    "len(all_Macosko_markers.intersection(all_Zeng_markers))"
   ]
  },
  {
   "cell_type": "code",
   "execution_count": 19,
   "id": "bb008c74",
   "metadata": {},
   "outputs": [
    {
     "data": {
      "text/plain": [
       "3309"
      ]
     },
     "execution_count": 19,
     "metadata": {},
     "output_type": "execute_result"
    }
   ],
   "source": [
    "len(Macosko_universe.intersection(Zeng_universe))"
   ]
  },
  {
   "cell_type": "code",
   "execution_count": 20,
   "id": "f1ed5c69",
   "metadata": {},
   "outputs": [],
   "source": [
    "combined_markers = all_Zeng_markers.union(all_Macosko_markers)"
   ]
  },
  {
   "cell_type": "code",
   "execution_count": 21,
   "id": "2f063bf8",
   "metadata": {},
   "outputs": [
    {
     "data": {
      "text/plain": [
       "3820"
      ]
     },
     "execution_count": 21,
     "metadata": {},
     "output_type": "execute_result"
    }
   ],
   "source": [
    "len(combined_markers)"
   ]
  },
  {
   "cell_type": "code",
   "execution_count": null,
   "id": "d41a4cf7",
   "metadata": {},
   "outputs": [],
   "source": [
    "##subset to marker genes, and write out, used once\n",
    "#all_Zeng_cpm.var[\"is_Marker\"] = all_Zeng_cpm.var.gene_symbol.isin(combined_markers)\n",
    "#all_Zeng_cpm = all_Zeng_cpm[:, all_Zeng_cpm.var[\"is_Marker\"]]\n",
    "#all_Zeng_cpm.write_h5ad(base_data_folder + \"/whole_mouse_brain/processed/zeng/subsets/AIT21.0.merged.with_multiome_3820_markers_only.cpm.h5ad\") "
   ]
  },
  {
   "cell_type": "code",
   "execution_count": 22,
   "id": "74af2f0a",
   "metadata": {},
   "outputs": [],
   "source": [
    "if not os.path.isdir(os.path.join(here(), \"results\", \"marker_results\")):\n",
    "  os.mkdir(os.path.join(here(), \"results\", \"marker_results\"))"
   ]
  },
  {
   "cell_type": "code",
   "execution_count": 23,
   "id": "b5fb3c30",
   "metadata": {},
   "outputs": [],
   "source": [
    "Zeng_cluster_info_AWS = pd.read_csv(base_data_folder + \"/whole_mouse_brain/zeng/from_aws/AIT21.0/AIT21_annotation_freeze_081523.tsv\", sep = '\\t')\n",
    "#remove low quality cells\n",
    "LQ_clusters = Zeng_cluster_info_AWS.cl[Zeng_cluster_info_AWS['subclass_label'] == \"LQ\"].to_list()\n",
    "LQ_clusters = [str(i) for i in LQ_clusters]\n",
    "all_Zeng_cpm.obs[\"is_LQ\"] = all_Zeng_cpm.obs.cl.isin(LQ_clusters)\n",
    "all_Zeng_cpm = all_Zeng_cpm[~all_Zeng_cpm.obs[\"is_LQ\"], :]\n"
   ]
  },
  {
   "cell_type": "code",
   "execution_count": 24,
   "id": "ea00cadd",
   "metadata": {},
   "outputs": [
    {
     "data": {
      "text/plain": [
       "View of AnnData object with n_obs × n_vars = 4042976 × 3819\n",
       "    obs: 'library_prep', 'gene.counts.0', 'doublet_score', 'roi', 'umi.counts', 'method', 'sex', 'external_donor_name', 'age', 'medical_conditions', 'cl', 'is_LQ'\n",
       "    var: 'gene_symbol', 'gene_identifier', 'is_Marker'"
      ]
     },
     "execution_count": 24,
     "metadata": {},
     "output_type": "execute_result"
    }
   ],
   "source": [
    "all_Zeng_cpm"
   ]
  },
  {
   "cell_type": "code",
   "execution_count": 22,
   "id": "e89ef402",
   "metadata": {},
   "outputs": [],
   "source": [
    "#%%time\n",
    "all_Zeng_cpm_X = sparse.csr_matrix(all_Zeng_cpm.X)\n",
    "df = pd.DataFrame.sparse.from_spmatrix(all_Zeng_cpm_X)\n",
    "df.index = all_Zeng_cpm.obs.index  # Assuming row labels are stored in `.obs_names`\n",
    "df.columns = all_Zeng_cpm.var.index"
   ]
  },
  {
   "cell_type": "code",
   "execution_count": 23,
   "id": "d66c8999",
   "metadata": {},
   "outputs": [],
   "source": [
    "#%%time\n",
    "numeric_cols = df.select_dtypes(include=[np.number]).columns\n",
    "for col in numeric_cols:\n",
    "    df[col] = zscore(df[col].to_numpy())"
   ]
  },
  {
   "cell_type": "code",
   "execution_count": 24,
   "id": "fb435353",
   "metadata": {},
   "outputs": [],
   "source": [
    "all_clusters_Zeng = Zeng_cluster_info_AWS.cl.tolist()\n",
    "all_clusters_Zeng = [str(i) for i in all_clusters_Zeng]"
   ]
  },
  {
   "cell_type": "code",
   "execution_count": 25,
   "id": "dee90c24",
   "metadata": {},
   "outputs": [],
   "source": [
    "#restrict to what we have cells for - handles LQ clusters\n",
    "all_clusters_Zeng = list(set(all_clusters_Zeng).intersection(all_Zeng_cpm.obs.cl))"
   ]
  },
  {
   "cell_type": "code",
   "execution_count": 26,
   "id": "1efdf969",
   "metadata": {},
   "outputs": [
    {
     "data": {
      "text/plain": [
       "5322"
      ]
     },
     "execution_count": 26,
     "metadata": {},
     "output_type": "execute_result"
    }
   ],
   "source": [
    "len(set(all_Zeng_cpm.obs.cl))"
   ]
  },
  {
   "cell_type": "code",
   "execution_count": 27,
   "id": "394f597a",
   "metadata": {},
   "outputs": [
    {
     "data": {
      "text/plain": [
       "5322"
      ]
     },
     "execution_count": 27,
     "metadata": {},
     "output_type": "execute_result"
    }
   ],
   "source": [
    "len(all_clusters_Zeng)"
   ]
  },
  {
   "cell_type": "code",
   "execution_count": 28,
   "id": "08c4203f",
   "metadata": {},
   "outputs": [],
   "source": [
    "all_clusters_Macosko = Macosko_markers.Macosko_cluster.tolist()"
   ]
  },
  {
   "cell_type": "code",
   "execution_count": 29,
   "id": "daa0e3d7",
   "metadata": {},
   "outputs": [],
   "source": [
    "#for testing\n",
    "#all_clusters_Macosko = all_clusters_Macosko[1:100]\n",
    "#all_clusters_Zeng = all_clusters_Zeng[1:100]"
   ]
  },
  {
   "cell_type": "code",
   "execution_count": 30,
   "id": "7b59b4dc",
   "metadata": {},
   "outputs": [],
   "source": [
    "all_clusters= list(set(all_clusters_Macosko + all_clusters_Zeng)) #make unique"
   ]
  },
  {
   "cell_type": "code",
   "execution_count": null,
   "id": "29317219",
   "metadata": {},
   "outputs": [],
   "source": []
  },
  {
   "cell_type": "code",
   "execution_count": 31,
   "id": "6c5fae99",
   "metadata": {},
   "outputs": [],
   "source": [
    "#make dict for cluster markers and cells in cluster\n",
    "cluster_marker_dict = dict()\n",
    "for cluster in all_clusters_Zeng:\n",
    "    #get markers \n",
    "    cluster_markers = Zeng_cluster_info_AWS[Zeng_cluster_info_AWS.cl == int(cluster)][['cluster.markers']].iloc[0,0]\n",
    "    cells_in_cluster = all_Zeng_cpm.obs[all_Zeng_cpm.obs.cl == cluster].index.tolist()\n",
    "    if pd.isna(cluster_markers) or len(cells_in_cluster) == 0:\n",
    "        continue\n",
    "    cluster_markers = cluster_markers.split(',')\n",
    "    cluster_markers = list(set(cluster_markers).intersection(all_Zeng_cpm.var.index.to_list()))\n",
    "    cluster_marker_dict[cluster] = cluster_markers\n"
   ]
  },
  {
   "cell_type": "code",
   "execution_count": 32,
   "id": "7cacc907",
   "metadata": {},
   "outputs": [],
   "source": [
    "#Add in Macosko markers too\n",
    "for cluster in all_clusters_Macosko:\n",
    "    #get markers \n",
    "    cluster_markers = Macosko_markers[Macosko_markers.Macosko_cluster == cluster].gene.tolist()\n",
    "    cluster_markers = list(set(cluster_markers).intersection(combined_markers))\n",
    "    cluster_marker_dict[cluster] = cluster_markers"
   ]
  },
  {
   "cell_type": "code",
   "execution_count": 33,
   "id": "e84d16fa",
   "metadata": {},
   "outputs": [
    {
     "data": {
      "text/plain": [
       "455"
      ]
     },
     "execution_count": 33,
     "metadata": {},
     "output_type": "execute_result"
    }
   ],
   "source": [
    "len(cluster_marker_dict)"
   ]
  },
  {
   "cell_type": "code",
   "execution_count": 34,
   "id": "fe6aa106",
   "metadata": {},
   "outputs": [
    {
     "data": {
      "text/plain": [
       "{'1744': ['Tll2', 'Kcnmb1'],\n",
       " '2532': ['Col6a3', 'Cck', 'Zeb2', '6430628N08Rik', 'Emx2'],\n",
       " '4308': ['Col14a1', 'Prrxl1', 'Cpa6', 'Phox2b'],\n",
       " '4924': ['Dkk1', 'Gm29771'],\n",
       " '1685': ['Bdkrb2', 'Lhx1', 'Csta2'],\n",
       " '5212': ['Pdzd2', 'Plekhg1', 'Gpr17', 'Gp1bb'],\n",
       " '2361': ['St18', 'Pi15', 'Pitx2', 'Rbm20'],\n",
       " '2678': ['Otp', 'Gm15482'],\n",
       " '2044': ['Gm35721', 'Trh', 'Tbx19'],\n",
       " '1761': ['Opn5', 'Gm13264'],\n",
       " '3222': ['B020031H02Rik', 'Calca', 'Glp1r', 'Kcnmb2'],\n",
       " '3822': ['Hmcn1', 'D130079A08Rik', 'Evx1os'],\n",
       " '24': ['Drd5', '0610040J01Rik', 'Col24a1', 'Gm50370'],\n",
       " '99': ['Col15a1', 'Rxfp1', 'Inhba', 'Gm49678', 'Egr3', 'Colq'],\n",
       " '2421': ['Crhbp', 'Slc26a7', 'Abcc9'],\n",
       " '20': ['Myzap', 'Gm19744', 'Lefty2', 'Prph'],\n",
       " '3968': ['Npff', 'Olfr574'],\n",
       " '3088': ['Nkx6-1', 'Gm40663'],\n",
       " '4970': ['Pitx1', 'Ebf3', 'Tfap2d'],\n",
       " '94': ['2310002F09Rik', 'Fn1', 'Cobll1', 'Pirt'],\n",
       " '2066': ['Gm30373', 'Gsx1', 'Vwc2l'],\n",
       " '4162': ['Pthlh', 'Aldh1a3', 'Pvalb'],\n",
       " '3903': ['Arhgap36', 'Npnt', 'Pamr1', 'Phox2b'],\n",
       " '438': ['Gm39436', 'Aldh1a3', 'Syt10'],\n",
       " '1595': ['Lhx8', 'Gabre', 'Eya1'],\n",
       " '3739': ['Gli3', 'Evx2', 'Mecom'],\n",
       " '3421': ['Otx1', 'Npy', 'Nr4a2', 'Slc30a3', 'Gm42397'],\n",
       " '15001': ['Gm29521', 'Ccdc146', 'Tbx3'],\n",
       " '1111': ['Serpina9', 'Nxph2', 'Gpr149'],\n",
       " '2524': ['Gsc', 'Omp', 'Kcnh8'],\n",
       " '3729': ['Gm4881', 'Npas1', 'Ngfr'],\n",
       " '1485': ['Bmp3', 'Slc6a3', 'Satb2', 'Sln'],\n",
       " '4582': ['Pou4f1', 'Chrnb4', 'Glra4', 'Kcnmb2'],\n",
       " '34179': ['C1ql4', 'Gm12082', 'Mecom'],\n",
       " '888': ['Clic6', 'Sfta3-ps', 'Fras1', 'Dlk1', 'Otx2os1'],\n",
       " '471': ['Gpr39', 'Podxl', 'Gulp1', 'Gm11639'],\n",
       " '972': ['Foxp2', 'Fbxw13', '9330158H04Rik'],\n",
       " '1511': ['Isl1', 'Prdm12', 'Nts', 'Klhl14'],\n",
       " '2675': ['Fezf1', 'Zar1l', 'Cntn5', 'Foxp2', 'Drd3'],\n",
       " '440': ['2600014E21Rik', '1700018A04Rik', 'Calb2', 'Gm36251'],\n",
       " '1031': ['Nts', 'Six3', 'Foxp2', 'Tmem215', 'Hmcn1'],\n",
       " '14914': ['Gpr50', 'Frzb', '9130410C08Rik'],\n",
       " '4715': ['Cnmd', 'Bcl11a', 'C1ql4'],\n",
       " '2220': ['Clic5', 'Itih5', 'Lmx1a', 'Col14a1', 'Gm49678'],\n",
       " '3596': ['Chrna6', 'Ust', 'Pla2g5', 'Cxcl14'],\n",
       " '3940': ['Dmkn', 'Nmu', 'Gfral'],\n",
       " '4239': ['Nmu', '4930432L08Rik', 'Gm29674'],\n",
       " '2656': ['C1ql4', 'Prss12', 'Irx4', 'Pax5'],\n",
       " '2643': ['Bnc2', 'Prdm6', 'Defb1'],\n",
       " '2624': ['Evx1os', 'Slc27a6', 'Runx1'],\n",
       " '170': ['Scn5a', 'Slc17a7', 'Myl4', 'Gpr88', 'Trbc2'],\n",
       " '4418': ['Dmbx1', 'Tac2'],\n",
       " '945': ['Prdm12', 'Bub1b', 'Glis3', 'Grm5'],\n",
       " '2905': ['Syt15', 'Tafa3', 'Pmfbp1'],\n",
       " '4897': ['9330185C12Rik', 'Fibcd1', 'Gm26645'],\n",
       " '2394': ['Chrna6', '9030622O22Rik', 'Ngfr'],\n",
       " '234': ['Npnt', 'Tpbg', 'Ntn5', 'A830009L08Rik'],\n",
       " '793': ['Trhr', 'Zfp536', 'Col6a5', 'Crh'],\n",
       " '24691': ['Lncenc1', 'Maf', 'Pax8', 'Adra2c', 'Stxbp6'],\n",
       " '4325': ['Olig3', 'Chrnb4', 'Col6a5'],\n",
       " '1911': ['Cd24a', 'Eomes', 'Qrfpr'],\n",
       " '3877': ['Has2os', 'Gm36325', 'Calcr'],\n",
       " '1017': ['Six3', 'Adora2a', 'Cort'],\n",
       " '5077': ['Sp9', '1700047F07Rik', 'Snx31', 'Nr2f2'],\n",
       " '242': ['Gm34567', 'Mctp2', 'Fbxl7'],\n",
       " '3804': ['Pyy'],\n",
       " '4312': ['Ntf3', 'Has2os', 'Six2'],\n",
       " '3324': ['Mafa', 'Cd74'],\n",
       " '514': ['Gm31218', 'Col6a5', 'Esr2'],\n",
       " '5157': ['Gap43', 'Il1rap', 'Gabra6'],\n",
       " '1581': ['Lhx6', 'Sp8', 'Adgrf5', 'Lypd6b'],\n",
       " '24557': ['Alkal1', 'Pax5'],\n",
       " '2290': ['Samd3', 'Pappa2', 'Fezf1'],\n",
       " '3453': ['Otx1', 'Tnfrsf11b', 'Ebf3', 'Bves'],\n",
       " '2454': ['Gpr50', 'Otp', 'Bsx'],\n",
       " '3528': ['Lncenc1', 'Grik3', 'Sntb1', 'Cdh23', 'Lef1'],\n",
       " '4753': ['C1ql2', 'Gm40999', 'Gpr88', 'Dlk1', 'Emid1'],\n",
       " '2975': ['Myzap', 'Otp', 'Satb2', 'Cckar'],\n",
       " '943': ['Drd1', 'A930001A20Rik', 'Prok2', 'Trpc5'],\n",
       " '4741': ['Col18a1', 'Ebf2', 'Krt73', 'Krt2', 'Dcc'],\n",
       " '3240': ['Abcc12', 'Slc17a8', 'Crabp1'],\n",
       " '4416': ['Adamts12', 'Abtb2', 'Hoxb6', 'Gbx2', 'Gm32647'],\n",
       " '686': ['Npas1', 'Gpc3', 'Igfbp6', 'Ntng1', 'Htr3a'],\n",
       " '2203': ['Fgf10', 'Lmx1a', 'Gm11732', 'Ramp3'],\n",
       " '1420': ['Cpa4', 'Edar', 'Cd79a'],\n",
       " '2843': ['Slc6a4', 'Tecrl'],\n",
       " '2496': ['Sim2', 'Gm12082', 'Gm38811'],\n",
       " '2540': ['C1ql1', 'Adam34', 'Tbr1'],\n",
       " '2509': ['9330185C12Rik', 'Otp', 'Ptgfr'],\n",
       " '3569': ['Gulp1', 'Dmbx1', 'Ccn3'],\n",
       " '2249': ['Unc13c', 'Lhx9', 'Nms'],\n",
       " '3853': ['Tgm2', 'Kcnh8', 'Cdh23'],\n",
       " '1117': ['BC039966', 'Cxcl14', 'Frem3', 'Fam20a'],\n",
       " '5067': ['Ntng1', 'Eps8l2', 'Flt1', 'Ttn'],\n",
       " '1125': ['Nts', 'Nxph2', 'Tent5a', 'Esr1', 'Gm40663'],\n",
       " '3061': ['Slc38a11', 'Vsx2'],\n",
       " '3207': ['Nxph4', 'Adarb2', 'Ntn1', 'Pax6', 'Slc17a8'],\n",
       " '4464': ['AU023762', 'Them7'],\n",
       " '2744': ['Gm3164', 'Slc38a11'],\n",
       " '1043': ['Nts', 'Dio3', 'Dgkk', 'Oprk1', 'Dach2'],\n",
       " '3120': ['Calcr', '9030622O22Rik', 'Fgf18', 'Pde11a', 'Otx2os1'],\n",
       " '1209': ['Shisal2b', 'Nr2e1', 'Brs3', 'Fstl4'],\n",
       " '14859': ['Gm29683', 'Slc39a12', 'S1pr1', 'Thbs4'],\n",
       " '184': ['Cntnap5a', 'Cyp39a1', 'Hgf', 'Gm40331', 'Nell1'],\n",
       " '1568': ['Drd2', 'Lhx8', 'Gm40518'],\n",
       " '1393': ['Ppp1r1c', 'Trh', 'Th'],\n",
       " '34144': ['Onecut3', 'Scn7a', 'Gm12688'],\n",
       " '2292': ['Pvalb', 'Trp73', 'Pidd1'],\n",
       " '1702': ['Gm5532', 'B020031H02Rik', 'Fbn2', '4930426D05Rik'],\n",
       " '596': ['Cort', 'Pde5a', 'Htr2c', 'Prss23', 'Sema3e', 'Dnah5'],\n",
       " '1923': ['Skor2', 'Calcr', 'Kcnj5'],\n",
       " '24566': ['C1ql4', 'Gm28653'],\n",
       " '4134': ['Serpina9', 'Kynu', 'Evx2'],\n",
       " '2047': ['Mbnl3', 'Cntnap5c', 'Ngfr'],\n",
       " '4660': ['Pou4f3', 'D930028M14Rik', '2310002F09Rik'],\n",
       " '4659': ['Gli3', 'Gal', 'Plscr5', 'Barhl1'],\n",
       " '435': ['Shisal2b', 'B430212C06Rik', 'Lum'],\n",
       " '3042': ['Gm30373', 'Lhx4', 'Cpa6', 'Npr3'],\n",
       " '4321': ['Pvalb', 'Igfbp4', 'Phox2b'],\n",
       " '2227': ['Chrdl1', 'Steap3', 'Gm45187'],\n",
       " '5044': ['Chrdl1', 'Gm36520'],\n",
       " '4595': ['Ctsc', 'Gm49678', 'Tfap2d'],\n",
       " '4264': ['Tlx1', 'Lmx1b', 'Hoxb5'],\n",
       " '1975': ['Bnc2', 'Otp', 'Bsx'],\n",
       " '1870': ['Pmaip1', 'Ccdc192', 'Calcr', 'Csta2'],\n",
       " '2871': ['Ms4a15', 'Piezo2'],\n",
       " '2515': ['Gsc', 'Otp', 'Npsr1'],\n",
       " '1407': ['C1ql2', 'Scn9a', 'Dsp'],\n",
       " '2052': ['Slc18a3', 'Ghrh', 'Gsx1'],\n",
       " '1057': ['Fgf10', 'Myo3b', 'Gm10165', 'Kcnq5'],\n",
       " '3978': ['Ntf3', 'Tspear', 'Asic4', 'Trhr'],\n",
       " '1672': ['Tafa4', 'Col6a6', 'Tac2'],\n",
       " '1639': ['Gm4881', 'Kynu'],\n",
       " '1298': ['Atp13a5', 'Fmod', 'Gm38505'],\n",
       " '2186': ['Bdkrb2', 'Gm36325', 'Rrad'],\n",
       " '195': ['Adgrg6', 'Ddit4l', 'Macc1', 'Gm34567', 'Cdh12'],\n",
       " '1968': ['Onecut1', 'Tbx3os1'],\n",
       " '176': ['Gm20752', 'Tmem125', 'Scn7a', 'Dpp10', 'Kcnh1'],\n",
       " '4873': ['Gm30373', 'Igf1', 'Hgf', 'Megf11'],\n",
       " '3117': ['Dcn', 'Arhgap36', '9030622O22Rik'],\n",
       " '1788': ['Npffr1', 'Pvalb', 'Tafa1', 'Cox6a2', 'Hmcn1'],\n",
       " '4254': ['Ptx3', 'Dbh'],\n",
       " '24589': ['Otp', 'Gm30551', 'Evx2'],\n",
       " '4902': ['Defb1', 'Plscr5', 'Tac2'],\n",
       " '4185': ['2600014E21Rik', 'A730009L09Rik', 'Gm26673'],\n",
       " '2772': ['Gm45587', 'Arhgef38', 'Glp1r'],\n",
       " '2021': ['Tac1', 'Apoc3', 'Eya4', 'Asb4'],\n",
       " '225': ['Slc17a7', 'Gm12031', 'Chrdl1', 'Dach2'],\n",
       " '4810': ['Ebf2', 'Hpse2', 'Vgll3', 'Pou4f2'],\n",
       " '3205': ['Tnnt1', 'Crhbp', 'Ano1'],\n",
       " '537': ['Cxcr4', 'Fbn2', 'Itgad'],\n",
       " '3458': ['Otx1', 'Prox1', 'Gria3', 'Trhr'],\n",
       " '4900': ['Dkk2', 'Syk', 'D030068K23Rik', 'Serpina3g'],\n",
       " '2228': ['Npy2r', 'Foxp2', 'Gm43824', 'Ptk2b'],\n",
       " '1006': ['Gm10710', 'Fgd5', 'Upk1b'],\n",
       " '1519': ['Gm10134', 'Gad2', 'Calca'],\n",
       " '4966': ['Gm13986', 'Evx1os', 'Mc3r', 'Lncenc1'],\n",
       " '3630': ['Galnt15', 'Gm12688', 'Pirt'],\n",
       " '2683': ['Fst', 'Pdzrn3', 'Eomes', 'Drd3'],\n",
       " '1187': ['Scn4b', 'Fst', 'Nts', '6530403H02Rik', 'Prok2'],\n",
       " '3671': ['4930469K13Rik', 'Prok1'],\n",
       " '815': ['Cntnap4', 'Pi15', 'Tmc5'],\n",
       " '4937': ['Epsti1', 'Sst', 'Foxb1', 'Kazald1'],\n",
       " '1946': ['C1ql3', 'Npvf', 'Vgll2'],\n",
       " '1948': ['Prokr2', 'Gm35281'],\n",
       " '3558': ['Tafa2', 'Pax3', 'Dmbx1'],\n",
       " '64': ['Rxfp1', 'Trabd2b', 'Mgat4c', 'Cyp26b1', 'Trbc2'],\n",
       " '87': ['Sostdc1', 'Slc17a7', 'Gm49678', 'Hmga2', 'Batf3'],\n",
       " '2520': ['Bmp3', '1700120O09Rik', 'Dlk1', 'Fezf1'],\n",
       " '308': ['Osr1', 'Met', 'Dio3'],\n",
       " '1808': ['Drd2', 'Skap2', 'Nts', '6430628N08Rik', 'Dnah5'],\n",
       " '4166': ['Cbln3', 'Hmga2', 'Piezo2'],\n",
       " '313': ['Atp10b', 'Rspo2', 'Fbxl7'],\n",
       " '2845': ['Slc6a4', 'Oca2', 'Crhr2'],\n",
       " '24593': ['Igf1', 'Calcr', 'Crabp1'],\n",
       " '2326': ['Klhl14', 'Stc2', 'Foxb1'],\n",
       " '51': ['B230110G15Rik', 'Nxph4', 'Ccn2'],\n",
       " '4207': ['Il20ra', 'Gal', 'Prkg2'],\n",
       " '2211': ['Tacr1', 'Igsf1', 'Dmrta2os', 'Fras1'],\n",
       " '2863': ['Gm44992', 'Fev'],\n",
       " '2': ['Cntnap3', 'Cplx3', 'Gm6260', 'Unc5d'],\n",
       " '3857': ['Igsf5', 'Cdh23'],\n",
       " '2666': ['Nox4', 'Prdm6', 'Mctp2'],\n",
       " '5203': ['Col27a1', 'Olig1', 'Pdgfra'],\n",
       " '1742': ['Gm5532', 'Vgll3', 'Pgr15l'],\n",
       " '4331': ['Ccdc172', '9330117O12Rik', 'Nmu'],\n",
       " '2075': ['Gm17660', 'Arhgap36', 'Dnah12', 'Megf11', 'Nr5a1'],\n",
       " '756': ['Lhx6', 'C1qtnf7', 'Cckar'],\n",
       " '1159': ['Qrfprl', 'Syt6', 'Pax6', 'Pde11a', 'Mfsd13b'],\n",
       " '3297': ['Scn5a', 'Glp1r', 'Nkx2-2', 'Gm20063', 'Col8a1'],\n",
       " '3408': ['Gm10710', 'Fgf10', 'Gm38575', 'Gm47757'],\n",
       " '3651': ['Gna14', 'Hoxc6'],\n",
       " '3548': ['Htr2c', 'Pax7', 'Gm26512', 'A830018L16Rik'],\n",
       " '3937': ['Tac1', 'Phox2b', 'Prok1'],\n",
       " '3518': ['Samd3', 'Pax3', 'Nxph1', 'Adamts19'],\n",
       " '2653': ['Irx4', 'Pcdh20', 'Slit2', 'Slc5a7', 'Evx2'],\n",
       " '4928': ['Gm49678', 'Ramp3', 'Ccdc141', 'Foxb1'],\n",
       " '1366': ['Gm29260', 'Chaf1b', 'Ung', 'Dlx1as'],\n",
       " '4561': ['En1', 'Trhr', 'Tfap2d', 'Egr3'],\n",
       " '2529': ['Trh', 'Brs3', 'Cartpt'],\n",
       " '4396': ['Hoxa5', 'Skor2', 'Dmbx1'],\n",
       " '3736': ['Tfap2b', 'Gm16685'],\n",
       " '2325': ['H2-Q2', 'Arhgap28', 'Foxb1', 'Emx2'],\n",
       " '3316': ['Chrdl1', 'Six3os1', 'Nts', 'Gm17501'],\n",
       " '2265': ['Gldn', 'Dynlrb2', 'Pmfbp1'],\n",
       " '3963': ['Lrat', 'Pirt', 'Gfral'],\n",
       " '4883': ['A630012P03Rik', 'Calb1', 'Foxb1', 'Gm26645'],\n",
       " '3134': ['4933429O19Rik', 'Ikzf1'],\n",
       " '591': ['Fign', 'Lhx6', 'Mybpc1', 'Adamtsl5'],\n",
       " '1739': ['Piezo2', 'Tnfrsf8', 'Sox3'],\n",
       " '2995': ['Gulo', 'Cckar', 'Gm16685'],\n",
       " '2462': ['Krt90', 'Pou3f4', 'Ccdc192'],\n",
       " '3560': ['Gm34397', 'Pax7'],\n",
       " '3336': ['Sox21', 'Bcl11a', 'Cd40', 'Gm47757'],\n",
       " '4242': ['4930469K13Rik', 'Mgp', 'Grpr'],\n",
       " '4429': ['Tfap2c', 'Adamtsl3'],\n",
       " '4299': ['Bnc2', 'Ccbe1', 'Phox2b'],\n",
       " '4171': ['Pvalb', 'Nxph1', 'Gabra6'],\n",
       " '3475': ['Gm28175', 'Ndnf', 'Nkx2-2', 'Cbln2'],\n",
       " '3647': ['Hoxc6', 'Npy2r', 'Mecom'],\n",
       " '393': ['Nrgn', 'Serpina3n', 'Sv2c', 'Grin2a', 'Gm11730'],\n",
       " '3133': ['Gm16551', 'Lrat', 'Adamts19'],\n",
       " '1550': ['Gm19303', 'Satb2', 'Tac2'],\n",
       " '2201': ['Ube2u', 'Gucy2c', 'Dmrta2os'],\n",
       " '2327': ['Sim1', 'Chodl', '2310001H17Rik'],\n",
       " '2077': ['Igf1', 'Nr5a1', 'Fezf1'],\n",
       " 'Inh_Pax7_Hpse_2': ['Pde11a', 'Enpp3'],\n",
       " 'Ex_Pitx2_Zbtb7c_3': ['Foxd3', 'Kcnq5', 'Nwd2', 'Pitx2'],\n",
       " 'Inh_Gata3_Gxylt2_5': ['Bmpr1b', 'Ltk', 'Tecrl'],\n",
       " 'Inh_Lhx6_Npy_3': ['Syt6', 'Moxd1', 'Fstl4', 'Ano2'],\n",
       " 'Inh_Pde11a_Atp2c2_2': ['Impg1', 'Ccbe1', 'Nrp2'],\n",
       " 'Ex_Pax2_Erfl_2': ['Rxfp2', 'Nmbr'],\n",
       " 'Ex_Dmrta2_Chodl_1': ['Nts', 'Tle2', 'Chodl', 'Dmrta2', 'Dnah14'],\n",
       " 'Inh_Lhx1_Dlk1_2': ['Ptprk', 'Galnt14', 'Cntnap5b', 'Stk32b', 'Isl1', 'Pax6'],\n",
       " 'Ex_Plekhg1_Fign_Ppp1r3a_2': ['Ppp1r3a', 'Ttr', 'Prkcg'],\n",
       " 'Inh_Sp8_Ctsc_3': ['Dab2', 'Hopx', 'Sox3'],\n",
       " 'Ex_Sim1_Ghrh_3': ['Gulp1', 'Frem2', 'Ghrh'],\n",
       " 'Ex_Vsx2_Pgm5_2': ['Hes1', 'Adam34', 'Pgm5', 'Vsx2'],\n",
       " 'Inh_Six6_Vipr2_6': ['C1ql3', 'Npy6r'],\n",
       " 'Inh_Pax7_P2ry10b_3': ['Calca', 'Gpr174'],\n",
       " 'Ex_Tlx1_Crocc2_2': ['Tcaf2', 'Jag1', 'Glra3', 'Rxfp1'],\n",
       " 'Ex_Lhx3_Tspo2_1': ['Spon1', 'Lhx3', 'Cdh23'],\n",
       " 'Ex_Slc30a3_Ssmem1_1': ['Ptgds', 'Dach1', 'Igfn1', 'Sorcs1'],\n",
       " 'Ex_Fezf2_Hmga2_Gfra2': ['Fstl5', 'Adgrd1', 'Hmga2'],\n",
       " 'Inh_Onecut1_Slc16a12': ['Chodl', 'Otp', 'Mecom'],\n",
       " 'Ex_Phox2b_Adam33_3': ['Shox2', 'Phox2b', 'Pvalb', 'Crabp1'],\n",
       " 'Ex_Pou4f1_Meis1_2': ['Rxfp1', 'Foxp2', 'Ttc29', 'Zic2'],\n",
       " 'Inh_Dmbx1_Tacr3_3': ['Dmbx1', 'Foxp2', 'Vwc2'],\n",
       " 'Ex_Pou4f1_6430628N08Rik': ['Hgf', 'Bnc2', '6430628N08Rik', 'Fbxl7', 'Galr1'],\n",
       " 'Inh_Gata3_Gda_1': ['Lypd6', 'Cntnap3', 'Hoxc4', 'Qrfpr'],\n",
       " 'Endo_Flt1_Ssu2_1': ['Fabp4', 'Gabarapl1'],\n",
       " 'Ex_Hoxb5_Prdm16_2': ['Gfra1', 'Scube2', 'Tfap2a', 'Gli3'],\n",
       " 'Inh_Pax8_Agtr1a': ['C1ql1', 'Map3k15', 'Kcnmb1'],\n",
       " 'Ex_Foxb1_Arhgef38_5': ['Cd36', 'Tspan18', 'Foxb1', 'Adgrg2'],\n",
       " 'Inh_Pax2_Vgll3_9': ['Hoxb7', 'Tmco4', 'Dach2', 'Ntn1'],\n",
       " 'Inh_Sox8_Calcrl_9': ['Adora2a', 'Pax6', 'Sertm1', 'Nefm', 'Gfra1'],\n",
       " 'Inh_Gata3_Nptx2_1': ['Nptx2', 'Tal1', 'Clrn1', 'Cpne4'],\n",
       " 'Inh_Pax2_Erfl_9': ['Vwa5a', 'Pitx2', 'Lrp2'],\n",
       " 'Inh_Pax2_Tmem215_2': ['Fmod', 'Tnc'],\n",
       " 'Ex_Nkx2-4_Celsr1': ['Chrdl1', 'Nkx2-4', 'Cadps2'],\n",
       " 'Ex_Ebf2_Npffr2_3': ['Rab38', 'Cadps2', 'Ebf2', 'Adamtsl1', 'Col11a1'],\n",
       " 'Ex_Vsx2_Tecta_2': ['Fbln1', 'Serf2', 'Vsx2'],\n",
       " 'Inh_Ppp1r1b_Drd1_Adamtsl5': ['Rgs10', 'Drd1', 'Ntn4', 'Impg1'],\n",
       " 'Ex_Fam163a_Vip': ['Otp', 'Skor2', 'Cntnap3', 'Ptprk'],\n",
       " 'Inh_Pax6_Nkx2-2_2': ['Isl1', 'Npy', 'Vkorc1', 'Nkx2-2'],\n",
       " 'Ex_Nkx6-1_Foxd3_2': ['Foxd3', 'Sulf1', 'Calca', 'Npas1'],\n",
       " 'Ex_Hoxb3_Ldlrap1_10': ['Ly6d', 'Uqcrb', 'Prdm6', 'Ebf1'],\n",
       " 'Inh_Dlx1_Dock5_2': ['Ptgds', 'Dock5', 'Avp', 'Esr1'],\n",
       " 'Ex_Phox2b_Slitrk6': ['C1ql1', 'Sema3e', 'Grp', 'Phox2b'],\n",
       " 'Astro_Fabp7_Siah3': ['Otc', 'Tnc'],\n",
       " 'Inh_Sall3_Chrne': ['Dach1', 'Cpa6', 'Prss23'],\n",
       " 'Inh_Dmrt3_Mecom_1': ['Cadps2', 'Mecom', 'Nkx6-3'],\n",
       " 'Ex_Lmx1a_Grpr': ['C1ql3', 'Grpr', 'Barhl1'],\n",
       " 'Ex_Nkx2-4_Calcr_3': ['Calcr', 'Zeb2', 'Ano1', 'Galr1'],\n",
       " 'Ex_Lmx1a_Cbln2_2': ['Pou4f1', 'Lmx1a', 'Col11a1', 'Trpc4'],\n",
       " 'Ex_Sim1_Adam33_1': ['Sim1', 'Ebf2', 'Sema3d', 'Npsr1'],\n",
       " 'Ex_Ebf2_Prokr1_1': ['Mcub', 'Eya4', 'Ror1'],\n",
       " 'Inh_Lhx6_Arhgap28_3': ['Fign', 'Lhx6', 'Tmem132c', 'Mctp2'],\n",
       " 'Ex_Tfap2b_Rxfp2_3': ['Shisa8', 'Tcf7l2', 'Gadl1'],\n",
       " 'Inh_Nkx2-2_Efhb_1': ['Hmcn1', 'Eif2ak2', 'Lhx6', 'Gzmk'],\n",
       " 'Ex_Ebf2_Nek11_2': ['Col18a1', 'Npl'],\n",
       " 'Ex_Ccn3_Fezf2_Dcn_2': ['4930470P17Rik', 'Hcrtr2', 'A730049H05Rik'],\n",
       " 'Ex_Fezf2_Tmem255b_1': ['Cox5b', 'Nppc', 'Rxfp1', 'Tmem255b'],\n",
       " 'Ex_C1ql4_Tgm6_2': ['Syt5', 'Met', 'Pvalb', 'Prdm6'],\n",
       " 'Ex_Lhx9_Atp8b1_3': ['Cntnap5c', 'Stk32b', 'Cytip'],\n",
       " 'Ex_Tfap2d_Emid1_3': ['Shox2', 'Gli3', 'Spp1', 'Ror1'],\n",
       " 'Inh_Foxp2_Btc_2': ['Gm19410', 'Npas1', 'Tnc'],\n",
       " 'Ex_Ebf2_Dmrt2': ['Gask1b', 'Sst', 'Rspo2'],\n",
       " 'Ex_Vsx2_Pgm5_7': ['C1ql2', 'C1qtnf7', 'Gm15737'],\n",
       " 'Ex_Sox6_Rbm47': ['Ccdc141', 'Nr5a2'],\n",
       " 'Ex_Foxd3_Olig3_1': ['Olig3', 'Nppc', 'Cntnap5b'],\n",
       " 'Ex_Pitx2_Dnah8': ['Ndnf', 'Sim1', 'Bcl11a', 'Rdh10', 'Htra1', 'Sulf1'],\n",
       " 'Inh_Hmcn1_Sycp2l_3': ['Serpinb1b', 'A830018L16Rik', 'Pde3a', 'Pgf', 'Rgs4'],\n",
       " 'Inh_Onecut3_Catspere1_2': ['Hmcn1', 'Nxph2', 'Gm45194', 'Pth2r'],\n",
       " 'Inh_Gbx1_Fads2b': ['Bmpr1b', 'Th', 'Dlx1'],\n",
       " 'Inh_Lhx1_Mecom_Otx1_1': ['Otx1', 'Adgrf2', 'Mecom', 'Lrrc38', 'Plekha7'],\n",
       " 'Inh_Pax3_Vmn1r207_10': ['Chrna2', 'Antxr2', 'Cyb5r3'],\n",
       " 'Ex_Nxph4_Moxd1_Igfbp4': ['Moxd1', 'Arhgap25', 'Igfbp4', 'Cck'],\n",
       " 'Ex_Slc30a3_Gsta2_5': ['Gsta3', 'Wfs1', 'Tcerg1l', 'Ovol2'],\n",
       " 'Inh_Pax2_Vgll3_1': ['Fign', 'Adam33', 'Gm45194', 'Hoxb8'],\n",
       " 'Inh_Foxp2_Olfm4_1': ['Gad1', 'Bnc2', 'Pitx2', 'Rps25'],\n",
       " 'Ex_Lmx1b_Teddm3': ['Plce1', 'Tmem100', 'Drd3'],\n",
       " 'Inh_Pax5_Tmem176b_2': ['Nwd2', 'Pax5', 'Postn'],\n",
       " 'Inh_Pax2_Dmrt3_4': ['Hoxd4', 'Hsd17b14', 'Mecom'],\n",
       " 'Inh_Emx2_Foxa2_2': ['Stc1', 'Cobll1', 'Cpa6', 'Emx2'],\n",
       " 'CholEx_Irx2_Slc43a3_1': ['Tnfaip8', 'Lamc3', 'Chrnb3'],\n",
       " 'Inh_Nkx2-2_Npy_3': ['Gpc4', 'Nkx2-2', 'Sox14'],\n",
       " 'Ex_Plekhg1_Tspear_C6_2': ['Thsd7b', 'Prss48', 'Krt20', 'Epb41l2', 'Cacna1e'],\n",
       " 'Inh_Nkx2-2_Il20ra': ['Tmem132d', 'Il20ra', 'Otx1', 'Arhgap31'],\n",
       " 'Ex_Pou4f2_Sult3a2_9': ['Tcf7l2', 'Cck', 'Glis3', 'Gal'],\n",
       " 'Inh_Pax6_Eya4_3': ['Pax6', 'Eya4', '1700019D03Rik', 'Erbb4'],\n",
       " 'Ex_Abi3bp_Pnmt': ['Fhl2', 'Pnmt'],\n",
       " 'Inh_Pax5_Trh_L3mbtl4': ['Trh', 'L3mbtl4', 'Sox14', 'Ikzf1'],\n",
       " 'OPC_Cspg5': ['Neu4'],\n",
       " 'Ex_Irx2_Cldn23': ['Rpl39', 'Gm19410', 'Plch1', 'Kcnh8'],\n",
       " 'Ex_Fam163a_C1ql2': ['Fam163a', 'Tafa4', 'Aox3'],\n",
       " 'Ex_Evx1_Prkcq_2': ['Evx1', 'Gli3', 'Cdhr1'],\n",
       " 'Ex_Sim1_Ndnf_2': ['Ndnf', 'Sim1', 'Adarb2', 'Fam20a', 'Bhlhe22'],\n",
       " 'Ex_Crym_Odad2_3': ['Il16', 'Nrg1', 'Rgs5'],\n",
       " 'Inh_Pax7_Ecel1_2': ['Gna14', 'Tfap2b', 'Foxp2', 'Dpp10', 'Pax7'],\n",
       " 'Inh_Pax5_Krt25_1': ['Olfr48', 'Thbs1', 'Fes'],\n",
       " 'Inh_Pax2_Kcnj5': ['Otp', 'Chrm2', 'Gli2'],\n",
       " 'Ex_Nkx2-4_Grpr_2': ['Kirrel', 'Ebf2', 'Calcr', 'Pvalb'],\n",
       " 'Inh_Dmbx1_Adgrd1': ['1700019D03Rik', 'Dmbx1', 'Qrfpr'],\n",
       " 'Ex_Vsx2_Col2a1': ['Gck', 'Lhx4', 'Adarb2', 'Glp1r'],\n",
       " 'Ex_Lhx9_Fmo1_1': ['Plac9a', 'E130114P18Rik', 'Ccdc192'],\n",
       " 'Inh_Lhx6_Sst_Itgad': ['Klhl1', 'Ngf', 'Lama4', 'Pcdh11x', 'Itgad'],\n",
       " 'Ex_C1ql4_Trhr_5': ['Angpt1', 'Pou3f3', 'C1ql4', 'Calb1', 'Nell1'],\n",
       " 'Inh_Pou6f2_Postn': ['Otp', 'Kit', 'Tac2', 'Meis2'],\n",
       " 'Inh_Pou3f1_Gm525': ['Gm525', 'Ntsr1'],\n",
       " 'Ex_Pax6_Avpr1a_5': ['Gstm6', 'Apbb1ip', 'C1ql2'],\n",
       " 'Ex_Fezf2_Klhl1': ['Atp8b1', 'Gm19410', 'Tcerg1l', 'Grik4'],\n",
       " 'Ex_Plekhg1_Fign_Ppp1r3a_1': ['C6', 'Ppp1r3a', 'Grik4'],\n",
       " 'Ex_Slc30a3_Best3_3': ['Reln', 'Cntn4', 'Chst9', 'Slit1', 'Krt12'],\n",
       " 'Ex_Phox2b_Prok1': ['Ecel1', 'Robo1', 'Gpc3', 'Prok1'],\n",
       " 'Inh_Six3_Foxa2_2': ['Wdr72', 'Six3', 'Npas1', 'Sema3d'],\n",
       " 'Inh_Pax2_Erfl_2': ['Bnc2', 'Calca', 'Ntrk1'],\n",
       " 'Ex_Lmx1b_Amelx': ['Lhx2', 'Lmx1b', 'Stac', 'Drd2'],\n",
       " 'Ex_Ebf3_Adam33_5': ['Tlx1', 'Galnt18', 'Ackr3'],\n",
       " 'Ex_Defb1_Zic2': ['Defb1', 'Syt10', 'Zic2', 'Il1rapl2', 'Fign'],\n",
       " 'Inh_Lhx6_Cav1_1': ['Npr1', 'Cav1', 'Kcnip3', 'Sema3e'],\n",
       " 'Ex_Irx1_Padi1_4': ['BC016579', 'Blnk', 'Frem2'],\n",
       " 'Ser_Fev_Samd9l': ['Tmem132d', 'Tmeff2', 'Slc6a4'],\n",
       " 'Inh_Lhx6_Esr2_15': ['Bmpr1b', 'Kcnip1', 'Cyp19a1', 'Cartpt'],\n",
       " 'Inh_Gbx1_Htr1a_2': ['C1ql2', 'Plxdc2', 'Il1rapl2', 'Gbx1'],\n",
       " 'Ex_Vsx2_Lhx4_5': ['Hs3st5', 'Lhx4', 'Prkcq'],\n",
       " 'Inh_Pax2_Ncaph': ['Sall1', 'Calcr', 'Tns3'],\n",
       " 'Ex_Tfap2b_Gli2': ['Sox5', 'Bcl11a', 'Tfap2b', 'Nptx2', 'Sema3e', 'Col8a1'],\n",
       " 'Ex_Evx1_Hgf': ['Mafb', 'Trpc4', 'Hgf', 'Kcnq5'],\n",
       " 'Ex_Pitx2_Hmcn2': ['Cdh20', 'Pitx2', 'Angptl1', 'Atp8b1', 'Tll1'],\n",
       " 'Ex_Ebf2_Nmu_2': ['Car8', 'Lama4', 'Npffr2'],\n",
       " 'Inh_Gata3_Frk_3': ['Pax6', 'Ebf2', 'Gxylt2'],\n",
       " 'NG_Myoz1_8': ['Apod', 'Vwc2l'],\n",
       " 'Inh_Pax8_Dpp4': ['Dpp4', 'Pax8', 'Adamtsl3', 'Sntb1'],\n",
       " 'Inh_Foxl3_Apela': ['Prdm16', 'Apela', 'Epb41l4a'],\n",
       " 'Ex_Dmrta2_Lhx1_6': ['Otof', 'Dmrta2', 'Angpt1'],\n",
       " 'Inh_Lhx6_Cxcr4_2': ['Pwp2', 'Itgad', 'St8sia2'],\n",
       " 'Inh_Pax2_Cyyr1_1': ['Pax8', 'Nr4a2', 'Pik3r5', 'Cyyr1'],\n",
       " 'Inh_Pax2_Vgll3_16': ['Skor2', 'Satb2'],\n",
       " 'NorEx_Phox2b_Ndufa4l2_1': ['Gmnc', 'Has2'],\n",
       " 'Ex_Sall3_Crabp1_1': ['Shisal2b', 'Pitx2', 'Crabp1'],\n",
       " 'Inh_Pax2_Met_1': ['Car8', 'Mcub', 'Nxph2', 'Rxfp1'],\n",
       " 'Inh_Hoxb5_Sytl5_1': ['Pax8', 'Pou6f2', 'Glis3', 'Cadps2'],\n",
       " 'Ex_Otx2_Six6_1': ['Isl1', 'Zfhx4', 'Nrn1'],\n",
       " 'Ex_C1ql4_Wnt2': ['C1ql2', 'Lbhd2', 'Wnt2', 'Satb1'],\n",
       " 'Chol_Tbx20_Edn3': ['Scn7a', 'Uts2'],\n",
       " 'Ex_Lhx9_Moxd1': ['Tac1', 'Pdzrn3', 'Sema3d', 'Tshz2'],\n",
       " 'SerInh_Fev_Fbxw28': ['Fbxw28', 'Rxfp1'],\n",
       " 'Ex_Pou4f1_Htr5b_3': ['Chl1', 'Htr5b', 'Drd3'],\n",
       " 'Ex_Ebf2_Cox8b_2': ['Tspan10', 'Ackr3'],\n",
       " 'Inh_Lmo2_Dsg3': ['Dlx1', 'Dsg3'],\n",
       " 'Ex_Lhx2_Asb4': ['Sp9', 'Ntn1', 'Arhgap36', 'Popdc3'],\n",
       " 'Ex_Tfap2b_Mdfic': ['Igfbp5', 'Nts', 'Foxb1', 'Mdfic'],\n",
       " 'Ex_Ccn2_Nmbr_3': ['Rprm', 'Il1rapl2', 'Tshz2', 'Ccn3', 'Col8a1'],\n",
       " 'Inh_Lhx6_Esr1_Chodl': ['Arhgef26', 'Gldn', 'Arhgap28', 'Prlr'],\n",
       " 'Ex_C1ql2_Steap3_1': ['Angpt1', 'Edaradd', 'Tfap2b'],\n",
       " 'Ex_Sim1_Pitx2_3': ['Ecel1', 'Pfn1', 'Pitx2', 'Rbm20'],\n",
       " 'Inh_Dmrt3_Tarm1_3': ['Dmrt3', 'Nr5a2'],\n",
       " 'Inh_Lhx1_Adgrg2': ['Gm45194', 'Mecom', 'Igsf21'],\n",
       " 'Ex_Dmrta2_Nmu': ['Nmu', 'Grxcr2'],\n",
       " 'Ex_Otx2_Six6_2': ['Arhgap36', 'Fli1', 'Ttn'],\n",
       " 'Ex_Pou4f1_Alpk1_2': ['AW551984', 'Tns1', 'Htr1d', 'Ttc6'],\n",
       " 'Ex_Hoxc4_Hpse': ['Teddm3', 'Prdm6'],\n",
       " 'Inh_Fbxl7_Col6a1_1': ['Myo5b', 'Pax8', 'Ebf2', 'Cntnap3', 'Fbxl7'],\n",
       " 'Ex_Phox2b_Kcnj2_1': ['Tox', 'Chrm3', 'Phox2b', 'Plpp4', 'Htra1', 'Nr2f2'],\n",
       " 'Inh_Gata3_Rln3_1': ['Kcns3', 'Rln3'],\n",
       " 'Ex_Tfap2d_Mgst2_3': ['Tfap2b', 'Bhlhe23', 'Adamts19', 'Ttll3'],\n",
       " 'Inh_Pax2_Hoxb5_Lrrc52_1': ['Lrrc52', 'Calb2', 'Vxn'],\n",
       " 'Inh_Gata3_Frk_1': ['Bmp5', 'Tnfaip2', 'Lypd6'],\n",
       " 'Inh_Pax7_Arhgap28_3': ['Arhgap28', 'Zfand2b', 'Npas1', 'Pax7'],\n",
       " 'Ex_Neurod6_Dnah11_5': ['E130114P18Rik', 'Gal', 'Cntnap3', 'Rprm'],\n",
       " 'Inh_Lhx6_Vipr2': ['Pthlh', 'Lhx6', 'Unc5b'],\n",
       " 'Inh_Sp8_Vip_1': ['Calca', 'Col12a1', 'Sp8'],\n",
       " 'Ex_Nxph4_Lman1l_Pdgfc': ['Ngf', 'Satb2', 'Ror1', 'Col23a1'],\n",
       " 'Ex_Irx2_Nppc_1': ['Dpy19l2', 'Col4a3', 'Myh7b'],\n",
       " 'Inh_Pax8_Kcng3': ['Reln', 'Gpr149', 'Pax8', 'Col24a1', 'Kcnmb2'],\n",
       " 'Ex_Crym_Csf2rb2': ['Crispld1', 'Cpm'],\n",
       " 'Ex_Lmx1b_Wdr95': ['Calca', 'Wdr95', 'Col13a1'],\n",
       " 'Ex_Fezf2_Dlk1_Fos_1': ['Reln', 'Cntnap5a', 'Npas4', 'Popdc3'],\n",
       " 'Inh_Lhx6_Cxcr4_5': ['Moxd1', 'Nr2e1', 'Rgs12', 'Mgat4c'],\n",
       " 'Inh_Pax8_Sfrp1_4': ['Eya1', 'Prdm16', 'Sema3e', 'Sntg2', 'Kcnmb2'],\n",
       " 'Ex_Tcf7l2_Fbln1_Mtnr1a': ['Bcl11b', 'Cpa6', 'Glra3', 'Snx31', 'Calb2'],\n",
       " 'Inh_Onecut3_Tbpl2': ['Tbpl2', 'Nr5a2'],\n",
       " 'Ex_Fam163a_Prdm6_2': ['Adad2', 'Prdm6'],\n",
       " 'Ex_Zic1_Bhlhe23': ['Wfdc10', 'Tmem176a', 'Megf11', 'Synpr'],\n",
       " 'Inh_Lhx1_Otp_1': ['Prlr', 'Otp', 'Ar', 'Fign', 'Pnoc', 'Tox', 'Tmsb4x'],\n",
       " 'Inh_Lhx6_Sst_Etv1_Pdyn': ['Moxd1', 'C1qtnf7', 'Dnah14'],\n",
       " 'Ex_Hmx2_Ppef1_2': ['Dusp10', 'Fibcd1', 'Ppef1'],\n",
       " 'Ex_Vsx2_Ghrh_3': ['Corin', 'Asic4', 'Vsx2'],\n",
       " 'Inh_Pax2_Tfap2c_1': ['Pax8', 'Angpt1', 'Adamtsl3', 'Camk2a'],\n",
       " 'Inh_Hoxc4_Ttc6_3': ['Lama1', 'Chst9', 'Il1rapl2', 'Crym', 'Man1a'],\n",
       " 'NG_Myoz1_1': ['Angpt1', 'Col5a2', 'Myoz1'],\n",
       " 'Ex_Ebf2_Adgrd1_1': ['Adgrd1', 'Col25a1', 'Mafa'],\n",
       " 'Inh_Irx5_Tafa4_3': ['Shisal2b', 'Cd36', 'Kit'],\n",
       " 'Inh_Pax2_Vgll3_2': ['Gabrg1', 'Satb2', 'Hoxa7', 'Folh1'],\n",
       " 'Ex_Trabd2b_Slc30a3_Pdzrn3': ['Reln', 'Grik1', 'Scn5a', 'Trabd2b', 'Krt20'],\n",
       " 'Ex_Nxph4_Zar1l_2': ['Abi3bp', 'Iqgap2', 'Hcrtr2', 'Tfap2d'],\n",
       " 'Inh_Pax8_Zan': ['Pax8', 'Foxd3', 'Sema3e', 'Oprk1', 'Folh1'],\n",
       " 'Inh_Lhx1_Vsir_3': ['Pax6', 'Wdr95', 'Trhde'],\n",
       " 'ExInh_Lmx1b_Slc26a7_2': ['Bnc2', 'Crhbp', 'Gsg1l', 'Egfem1'],\n",
       " 'Ex_Skor1_Kcnmb1': ['Kirrel', 'Rspo2', 'Frem1', 'Pth2r', 'Lef1'],\n",
       " 'Ex_C1ql4_Calcr_3': ['Olfr1191-ps1', 'Penk'],\n",
       " 'Ex_Ebf2_Sec1_3': ['Hpse', 'Cdh20', 'Gmnc'],\n",
       " 'Inh_Foxp2_Sox2_2': ['Thsd7b', 'Pax6', 'Atp10a', 'Lmo1'],\n",
       " 'Ex_Dmrta2_Chat': ['Syt10',\n",
       "  'Lmx1a',\n",
       "  'Gm36368',\n",
       "  'Angptl3',\n",
       "  'Dmrta2',\n",
       "  'Tacr1',\n",
       "  'Chat'],\n",
       " 'Ex_Cplx3_Samd9l': ['Crym', 'Nrn1', 'Cplx3', 'Myzap'],\n",
       " 'Inh_Lhx6_Nmu_2': ['Clca3a1', 'Rnf152', 'Nmu'],\n",
       " 'Inh_Pax2_Erfl_12': ['Hpgd', 'Fgf17', 'Egflam'],\n",
       " 'Inh_Pax8_Oxtr_3': ['Foxd3', 'Tmem114', 'Adamtsl1'],\n",
       " 'Inh_Hoxc6_Kl': ['C1qtnf7', 'Hoxc6', 'Slc30a3', 'Bcl11b'],\n",
       " 'Inh_Gata3_Tcim': ['Kcnc2', 'Tcim', 'Gata3'],\n",
       " 'Ex_Tcf7l2_Kif26a_2': ['Ntng2', 'Tcf7l2', 'Mecom'],\n",
       " 'Inh_Gata3_Ccdc180_2': ['Olfr323', 'Cmtm8', 'Klhl1', 'Igf1', 'Lgals9'],\n",
       " 'Ex_Lmx1a_Crhbp_4': ['Rfx4', 'Slc26a7'],\n",
       " 'Inh_Gata3_Tecrl': ['Mc4r', 'Cpa6', 'Ssc5d', 'Atp6ap1l'],\n",
       " 'Inh_Pax5_Cckar': ['Adcyap1', 'Otp', 'Meis1', 'Cckar', 'Klf5'],\n",
       " 'Ex_Lhx2_Nek11_3': ['Naa11', 'Tac1', 'Nckap5', 'Nkx2-2'],\n",
       " 'Inh_Lhx1_Pax3_1': ['Cpne8', 'Pax3', 'Uty'],\n",
       " 'Ex_Vsx2_Tnnt1_3': ['Tnnt1', 'Lhx4', 'Sox14'],\n",
       " 'Inh_Six3_Ccdc68_2': ['Fgf16', 'Sox14'],\n",
       " 'Ex_Nkx2-1_Otp_3': ['Th', 'Sim1', 'Kcng4'],\n",
       " 'Inh_Irx5_Plscr5': ['Tarm1', 'Pde5a', 'Eya4'],\n",
       " 'Ex_Sim1_Dnah8_Oxt': ['Oxt', 'Adamts12', 'Mdfic'],\n",
       " 'Inh_Lhx1_Emx2_2': ['Pde1a', 'Otx2', 'Abca4', 'Mecom'],\n",
       " 'Inh_Esr2_Tac2_1': ['Spef2', 'Ecel1', 'Plch1', 'Hs6st3', 'Tac2'],\n",
       " 'Ex_Pax6_Avpr1a_6': ['C1ql2', 'Mybpc1'],\n",
       " 'Ex_Otx2_Sapcd1': ['Agtr1a', 'Ms4a14', 'Erbb4', 'Atxn1'],\n",
       " 'Ex_Fezf2_Col6a1_Gp139_Fos': ['Syt6', 'Tnfaip6', 'Pdlim1'],\n",
       " 'Ex_Hmx3_Gda': ['Pde1a', 'Fam83b', 'Hoxb7', 'Aldh1a2'],\n",
       " 'Inh_Nkx2-2_Cpa6_2': ['Dscaml1', 'Tal1', 'Kcnh8', 'Prrxl1'],\n",
       " 'Inh_Foxp2_Foxd3_5': ['Bnc2', 'Rgs4', 'Pax8', 'Adamts19'],\n",
       " 'Inh_Fbxl7_Crabp1_2': ['Hk2', 'Styk1', 'Sall3'],\n",
       " 'Inh_Hoxb7_Crym_2': ['Nxph2', 'Ucma', 'Ror2'],\n",
       " 'Fibro_Eya2_Obp1a': ['Obp1a'],\n",
       " 'Inh_Sp8_Ctsc_1': ['Ndnf', 'Rab38', 'Prss23']}"
      ]
     },
     "execution_count": 34,
     "metadata": {},
     "output_type": "execute_result"
    }
   ],
   "source": [
    "cluster_marker_dict"
   ]
  },
  {
   "cell_type": "code",
   "execution_count": 35,
   "id": "fcde2be6",
   "metadata": {},
   "outputs": [],
   "source": [
    "# Flatten the dictionary and convert it to a DataFrame\n",
    "cluster_marker_dict_long = pd.DataFrame([(k, v) for k, vs in cluster_marker_dict.items() for v in vs], columns=['cluster', 'gene_symbol'])\n",
    "\n",
    "# Create a new DataFrame with 1s where the values match\n",
    "cluster_marker_dict_table = cluster_marker_dict_long.pivot_table(index='cluster', columns='gene_symbol', aggfunc=len, fill_value=0)\n",
    "\n"
   ]
  },
  {
   "cell_type": "code",
   "execution_count": 36,
   "id": "a1185808",
   "metadata": {},
   "outputs": [
    {
     "data": {
      "text/plain": [
       "(455, 931)"
      ]
     },
     "execution_count": 36,
     "metadata": {},
     "output_type": "execute_result"
    }
   ],
   "source": [
    "cluster_marker_dict_table.shape"
   ]
  },
  {
   "cell_type": "code",
   "execution_count": 37,
   "id": "fd651402",
   "metadata": {},
   "outputs": [
    {
     "data": {
      "text/plain": [
       "(4042976, 931)"
      ]
     },
     "execution_count": 37,
     "metadata": {},
     "output_type": "execute_result"
    }
   ],
   "source": [
    "df[cluster_marker_dict_table.columns].shape"
   ]
  },
  {
   "cell_type": "code",
   "execution_count": 38,
   "id": "7502b6f6",
   "metadata": {},
   "outputs": [],
   "source": [
    "#line up the df dataframe rows\n",
    "cluster_sums = df[cluster_marker_dict_table.columns] @ cluster_marker_dict_table.T"
   ]
  },
  {
   "cell_type": "code",
   "execution_count": 39,
   "id": "fbd5491e",
   "metadata": {},
   "outputs": [
    {
     "data": {
      "text/plain": [
       "(4042976, 455)"
      ]
     },
     "execution_count": 39,
     "metadata": {},
     "output_type": "execute_result"
    }
   ],
   "source": [
    "cluster_sums.shape"
   ]
  },
  {
   "cell_type": "code",
   "execution_count": null,
   "id": "82aae288",
   "metadata": {},
   "outputs": [],
   "source": []
  },
  {
   "cell_type": "code",
   "execution_count": 40,
   "id": "e181737c",
   "metadata": {},
   "outputs": [],
   "source": [
    "#%%time\n",
    "one_hot_cluster_membership = pd.get_dummies(all_Zeng_cpm.obs.cl)"
   ]
  },
  {
   "cell_type": "code",
   "execution_count": 41,
   "id": "4290a9a6",
   "metadata": {},
   "outputs": [],
   "source": [
    "#restrict to cluster sum clusters"
   ]
  },
  {
   "cell_type": "code",
   "execution_count": 42,
   "id": "195f2a79",
   "metadata": {},
   "outputs": [],
   "source": [
    "one_hot_cluster_membership = one_hot_cluster_membership[all_clusters_Zeng]"
   ]
  },
  {
   "cell_type": "code",
   "execution_count": null,
   "id": "429267c0",
   "metadata": {},
   "outputs": [],
   "source": []
  },
  {
   "cell_type": "code",
   "execution_count": 43,
   "id": "59f4ec87",
   "metadata": {},
   "outputs": [],
   "source": [
    "#AUROC code based on https://github.com/gillislab/pyMN/blob/master/pymn/utils.py"
   ]
  },
  {
   "cell_type": "code",
   "execution_count": 44,
   "id": "d22dcc71",
   "metadata": {},
   "outputs": [],
   "source": [
    "#%%time\n",
    "ranks = bottleneck.rankdata(cluster_sums, axis = 0)"
   ]
  },
  {
   "cell_type": "code",
   "execution_count": 45,
   "id": "5ed839e5",
   "metadata": {},
   "outputs": [],
   "source": [
    "sum_pos_ranks = one_hot_cluster_membership.T @ ranks"
   ]
  },
  {
   "cell_type": "code",
   "execution_count": 46,
   "id": "457ab494",
   "metadata": {},
   "outputs": [],
   "source": [
    "n_pos = bottleneck.nansum(one_hot_cluster_membership, axis=0)"
   ]
  },
  {
   "cell_type": "code",
   "execution_count": 47,
   "id": "f9e60316",
   "metadata": {},
   "outputs": [],
   "source": [
    "n_neg = one_hot_cluster_membership.shape[0] - n_pos"
   ]
  },
  {
   "cell_type": "code",
   "execution_count": 48,
   "id": "8c36a6a8",
   "metadata": {},
   "outputs": [],
   "source": [
    "roc = sum_pos_ranks / n_pos[:, None]"
   ]
  },
  {
   "cell_type": "code",
   "execution_count": 49,
   "id": "2ff9c7f2",
   "metadata": {},
   "outputs": [],
   "source": [
    "roc -= (n_pos[:, None] + 1) / 2"
   ]
  },
  {
   "cell_type": "code",
   "execution_count": 50,
   "id": "aa01c620",
   "metadata": {},
   "outputs": [],
   "source": [
    "roc /= n_neg[:, None]"
   ]
  },
  {
   "cell_type": "code",
   "execution_count": 51,
   "id": "b180e4d0",
   "metadata": {},
   "outputs": [
    {
     "data": {
      "text/html": [
       "<div>\n",
       "<style scoped>\n",
       "    .dataframe tbody tr th:only-of-type {\n",
       "        vertical-align: middle;\n",
       "    }\n",
       "\n",
       "    .dataframe tbody tr th {\n",
       "        vertical-align: top;\n",
       "    }\n",
       "\n",
       "    .dataframe thead th {\n",
       "        text-align: right;\n",
       "    }\n",
       "</style>\n",
       "<table border=\"1\" class=\"dataframe\">\n",
       "  <thead>\n",
       "    <tr style=\"text-align: right;\">\n",
       "      <th></th>\n",
       "      <th>0</th>\n",
       "      <th>1</th>\n",
       "      <th>2</th>\n",
       "      <th>3</th>\n",
       "      <th>4</th>\n",
       "      <th>5</th>\n",
       "      <th>6</th>\n",
       "      <th>7</th>\n",
       "      <th>8</th>\n",
       "      <th>9</th>\n",
       "      <th>...</th>\n",
       "      <th>445</th>\n",
       "      <th>446</th>\n",
       "      <th>447</th>\n",
       "      <th>448</th>\n",
       "      <th>449</th>\n",
       "      <th>450</th>\n",
       "      <th>451</th>\n",
       "      <th>452</th>\n",
       "      <th>453</th>\n",
       "      <th>454</th>\n",
       "    </tr>\n",
       "  </thead>\n",
       "  <tbody>\n",
       "    <tr>\n",
       "      <th>1744</th>\n",
       "      <td>0.496571</td>\n",
       "      <td>0.456734</td>\n",
       "      <td>0.364037</td>\n",
       "      <td>0.506770</td>\n",
       "      <td>0.375281</td>\n",
       "      <td>0.495348</td>\n",
       "      <td>0.464857</td>\n",
       "      <td>0.458315</td>\n",
       "      <td>0.834441</td>\n",
       "      <td>0.453283</td>\n",
       "      <td>...</td>\n",
       "      <td>0.768735</td>\n",
       "      <td>0.454685</td>\n",
       "      <td>0.424782</td>\n",
       "      <td>0.762748</td>\n",
       "      <td>0.439853</td>\n",
       "      <td>0.900314</td>\n",
       "      <td>0.489657</td>\n",
       "      <td>0.485403</td>\n",
       "      <td>0.457211</td>\n",
       "      <td>0.792253</td>\n",
       "    </tr>\n",
       "    <tr>\n",
       "      <th>2532</th>\n",
       "      <td>0.616124</td>\n",
       "      <td>0.476778</td>\n",
       "      <td>0.463821</td>\n",
       "      <td>0.871147</td>\n",
       "      <td>0.509941</td>\n",
       "      <td>0.637233</td>\n",
       "      <td>0.536173</td>\n",
       "      <td>0.734588</td>\n",
       "      <td>0.810642</td>\n",
       "      <td>0.440469</td>\n",
       "      <td>...</td>\n",
       "      <td>0.491161</td>\n",
       "      <td>0.449476</td>\n",
       "      <td>0.440518</td>\n",
       "      <td>0.578184</td>\n",
       "      <td>0.467038</td>\n",
       "      <td>0.886885</td>\n",
       "      <td>0.493967</td>\n",
       "      <td>0.485409</td>\n",
       "      <td>0.459988</td>\n",
       "      <td>0.621666</td>\n",
       "    </tr>\n",
       "    <tr>\n",
       "      <th>4308</th>\n",
       "      <td>0.550427</td>\n",
       "      <td>0.443503</td>\n",
       "      <td>0.377776</td>\n",
       "      <td>0.899281</td>\n",
       "      <td>0.576248</td>\n",
       "      <td>0.674385</td>\n",
       "      <td>0.652659</td>\n",
       "      <td>0.633390</td>\n",
       "      <td>0.716057</td>\n",
       "      <td>0.477872</td>\n",
       "      <td>...</td>\n",
       "      <td>0.638047</td>\n",
       "      <td>0.461060</td>\n",
       "      <td>0.417645</td>\n",
       "      <td>0.470555</td>\n",
       "      <td>0.461712</td>\n",
       "      <td>0.748658</td>\n",
       "      <td>0.489657</td>\n",
       "      <td>0.482592</td>\n",
       "      <td>0.457212</td>\n",
       "      <td>0.452014</td>\n",
       "    </tr>\n",
       "    <tr>\n",
       "      <th>4924</th>\n",
       "      <td>0.481440</td>\n",
       "      <td>0.443503</td>\n",
       "      <td>0.643130</td>\n",
       "      <td>0.719631</td>\n",
       "      <td>0.687747</td>\n",
       "      <td>0.456234</td>\n",
       "      <td>0.529594</td>\n",
       "      <td>0.722890</td>\n",
       "      <td>0.596205</td>\n",
       "      <td>0.769583</td>\n",
       "      <td>...</td>\n",
       "      <td>0.812807</td>\n",
       "      <td>0.492749</td>\n",
       "      <td>0.439989</td>\n",
       "      <td>0.495044</td>\n",
       "      <td>0.439320</td>\n",
       "      <td>0.619155</td>\n",
       "      <td>0.499759</td>\n",
       "      <td>0.482592</td>\n",
       "      <td>0.457212</td>\n",
       "      <td>0.537402</td>\n",
       "    </tr>\n",
       "    <tr>\n",
       "      <th>1685</th>\n",
       "      <td>0.496949</td>\n",
       "      <td>0.453143</td>\n",
       "      <td>0.446361</td>\n",
       "      <td>0.809482</td>\n",
       "      <td>0.369686</td>\n",
       "      <td>0.677487</td>\n",
       "      <td>0.585264</td>\n",
       "      <td>0.577569</td>\n",
       "      <td>0.751371</td>\n",
       "      <td>0.448294</td>\n",
       "      <td>...</td>\n",
       "      <td>0.732941</td>\n",
       "      <td>0.438651</td>\n",
       "      <td>0.433388</td>\n",
       "      <td>0.437562</td>\n",
       "      <td>0.523620</td>\n",
       "      <td>0.469174</td>\n",
       "      <td>0.489657</td>\n",
       "      <td>0.482592</td>\n",
       "      <td>0.462063</td>\n",
       "      <td>0.383429</td>\n",
       "    </tr>\n",
       "  </tbody>\n",
       "</table>\n",
       "<p>5 rows × 455 columns</p>\n",
       "</div>"
      ],
      "text/plain": [
       "           0         1         2         3         4         5         6    \\\n",
       "1744  0.496571  0.456734  0.364037  0.506770  0.375281  0.495348  0.464857   \n",
       "2532  0.616124  0.476778  0.463821  0.871147  0.509941  0.637233  0.536173   \n",
       "4308  0.550427  0.443503  0.377776  0.899281  0.576248  0.674385  0.652659   \n",
       "4924  0.481440  0.443503  0.643130  0.719631  0.687747  0.456234  0.529594   \n",
       "1685  0.496949  0.453143  0.446361  0.809482  0.369686  0.677487  0.585264   \n",
       "\n",
       "           7         8         9    ...       445       446       447  \\\n",
       "1744  0.458315  0.834441  0.453283  ...  0.768735  0.454685  0.424782   \n",
       "2532  0.734588  0.810642  0.440469  ...  0.491161  0.449476  0.440518   \n",
       "4308  0.633390  0.716057  0.477872  ...  0.638047  0.461060  0.417645   \n",
       "4924  0.722890  0.596205  0.769583  ...  0.812807  0.492749  0.439989   \n",
       "1685  0.577569  0.751371  0.448294  ...  0.732941  0.438651  0.433388   \n",
       "\n",
       "           448       449       450       451       452       453       454  \n",
       "1744  0.762748  0.439853  0.900314  0.489657  0.485403  0.457211  0.792253  \n",
       "2532  0.578184  0.467038  0.886885  0.493967  0.485409  0.459988  0.621666  \n",
       "4308  0.470555  0.461712  0.748658  0.489657  0.482592  0.457212  0.452014  \n",
       "4924  0.495044  0.439320  0.619155  0.499759  0.482592  0.457212  0.537402  \n",
       "1685  0.437562  0.523620  0.469174  0.489657  0.482592  0.462063  0.383429  \n",
       "\n",
       "[5 rows x 455 columns]"
      ]
     },
     "execution_count": 51,
     "metadata": {},
     "output_type": "execute_result"
    }
   ],
   "source": [
    "roc.head()"
   ]
  },
  {
   "cell_type": "code",
   "execution_count": 52,
   "id": "3bac18ca",
   "metadata": {},
   "outputs": [],
   "source": [
    "#set row and column labels"
   ]
  },
  {
   "cell_type": "code",
   "execution_count": 53,
   "id": "c44a690b",
   "metadata": {},
   "outputs": [],
   "source": [
    "roc.index = roc.index.map(lambda x: x + '_cluster')\n",
    "roc.columns = cluster_sums.columns.tolist()\n",
    "roc.columns = roc.columns.map(lambda x: x + '_markers')"
   ]
  },
  {
   "cell_type": "code",
   "execution_count": 54,
   "id": "2f770560",
   "metadata": {},
   "outputs": [
    {
     "data": {
      "text/html": [
       "<div>\n",
       "<style scoped>\n",
       "    .dataframe tbody tr th:only-of-type {\n",
       "        vertical-align: middle;\n",
       "    }\n",
       "\n",
       "    .dataframe tbody tr th {\n",
       "        vertical-align: top;\n",
       "    }\n",
       "\n",
       "    .dataframe thead th {\n",
       "        text-align: right;\n",
       "    }\n",
       "</style>\n",
       "<table border=\"1\" class=\"dataframe\">\n",
       "  <thead>\n",
       "    <tr style=\"text-align: right;\">\n",
       "      <th></th>\n",
       "      <th>1006_markers</th>\n",
       "      <th>1017_markers</th>\n",
       "      <th>1031_markers</th>\n",
       "      <th>1043_markers</th>\n",
       "      <th>1057_markers</th>\n",
       "      <th>1111_markers</th>\n",
       "      <th>1117_markers</th>\n",
       "      <th>1125_markers</th>\n",
       "      <th>1159_markers</th>\n",
       "      <th>1187_markers</th>\n",
       "      <th>...</th>\n",
       "      <th>Inh_Sox8_Calcrl_9_markers</th>\n",
       "      <th>Inh_Sp8_Ctsc_1_markers</th>\n",
       "      <th>Inh_Sp8_Ctsc_3_markers</th>\n",
       "      <th>Inh_Sp8_Vip_1_markers</th>\n",
       "      <th>NG_Myoz1_1_markers</th>\n",
       "      <th>NG_Myoz1_8_markers</th>\n",
       "      <th>NorEx_Phox2b_Ndufa4l2_1_markers</th>\n",
       "      <th>OPC_Cspg5_markers</th>\n",
       "      <th>SerInh_Fev_Fbxw28_markers</th>\n",
       "      <th>Ser_Fev_Samd9l_markers</th>\n",
       "    </tr>\n",
       "  </thead>\n",
       "  <tbody>\n",
       "    <tr>\n",
       "      <th>1744_cluster</th>\n",
       "      <td>0.496571</td>\n",
       "      <td>0.456734</td>\n",
       "      <td>0.364037</td>\n",
       "      <td>0.506770</td>\n",
       "      <td>0.375281</td>\n",
       "      <td>0.495348</td>\n",
       "      <td>0.464857</td>\n",
       "      <td>0.458315</td>\n",
       "      <td>0.834441</td>\n",
       "      <td>0.453283</td>\n",
       "      <td>...</td>\n",
       "      <td>0.768735</td>\n",
       "      <td>0.454685</td>\n",
       "      <td>0.424782</td>\n",
       "      <td>0.762748</td>\n",
       "      <td>0.439853</td>\n",
       "      <td>0.900314</td>\n",
       "      <td>0.489657</td>\n",
       "      <td>0.485403</td>\n",
       "      <td>0.457211</td>\n",
       "      <td>0.792253</td>\n",
       "    </tr>\n",
       "    <tr>\n",
       "      <th>2532_cluster</th>\n",
       "      <td>0.616124</td>\n",
       "      <td>0.476778</td>\n",
       "      <td>0.463821</td>\n",
       "      <td>0.871147</td>\n",
       "      <td>0.509941</td>\n",
       "      <td>0.637233</td>\n",
       "      <td>0.536173</td>\n",
       "      <td>0.734588</td>\n",
       "      <td>0.810642</td>\n",
       "      <td>0.440469</td>\n",
       "      <td>...</td>\n",
       "      <td>0.491161</td>\n",
       "      <td>0.449476</td>\n",
       "      <td>0.440518</td>\n",
       "      <td>0.578184</td>\n",
       "      <td>0.467038</td>\n",
       "      <td>0.886885</td>\n",
       "      <td>0.493967</td>\n",
       "      <td>0.485409</td>\n",
       "      <td>0.459988</td>\n",
       "      <td>0.621666</td>\n",
       "    </tr>\n",
       "    <tr>\n",
       "      <th>4308_cluster</th>\n",
       "      <td>0.550427</td>\n",
       "      <td>0.443503</td>\n",
       "      <td>0.377776</td>\n",
       "      <td>0.899281</td>\n",
       "      <td>0.576248</td>\n",
       "      <td>0.674385</td>\n",
       "      <td>0.652659</td>\n",
       "      <td>0.633390</td>\n",
       "      <td>0.716057</td>\n",
       "      <td>0.477872</td>\n",
       "      <td>...</td>\n",
       "      <td>0.638047</td>\n",
       "      <td>0.461060</td>\n",
       "      <td>0.417645</td>\n",
       "      <td>0.470555</td>\n",
       "      <td>0.461712</td>\n",
       "      <td>0.748658</td>\n",
       "      <td>0.489657</td>\n",
       "      <td>0.482592</td>\n",
       "      <td>0.457212</td>\n",
       "      <td>0.452014</td>\n",
       "    </tr>\n",
       "    <tr>\n",
       "      <th>4924_cluster</th>\n",
       "      <td>0.481440</td>\n",
       "      <td>0.443503</td>\n",
       "      <td>0.643130</td>\n",
       "      <td>0.719631</td>\n",
       "      <td>0.687747</td>\n",
       "      <td>0.456234</td>\n",
       "      <td>0.529594</td>\n",
       "      <td>0.722890</td>\n",
       "      <td>0.596205</td>\n",
       "      <td>0.769583</td>\n",
       "      <td>...</td>\n",
       "      <td>0.812807</td>\n",
       "      <td>0.492749</td>\n",
       "      <td>0.439989</td>\n",
       "      <td>0.495044</td>\n",
       "      <td>0.439320</td>\n",
       "      <td>0.619155</td>\n",
       "      <td>0.499759</td>\n",
       "      <td>0.482592</td>\n",
       "      <td>0.457212</td>\n",
       "      <td>0.537402</td>\n",
       "    </tr>\n",
       "    <tr>\n",
       "      <th>1685_cluster</th>\n",
       "      <td>0.496949</td>\n",
       "      <td>0.453143</td>\n",
       "      <td>0.446361</td>\n",
       "      <td>0.809482</td>\n",
       "      <td>0.369686</td>\n",
       "      <td>0.677487</td>\n",
       "      <td>0.585264</td>\n",
       "      <td>0.577569</td>\n",
       "      <td>0.751371</td>\n",
       "      <td>0.448294</td>\n",
       "      <td>...</td>\n",
       "      <td>0.732941</td>\n",
       "      <td>0.438651</td>\n",
       "      <td>0.433388</td>\n",
       "      <td>0.437562</td>\n",
       "      <td>0.523620</td>\n",
       "      <td>0.469174</td>\n",
       "      <td>0.489657</td>\n",
       "      <td>0.482592</td>\n",
       "      <td>0.462063</td>\n",
       "      <td>0.383429</td>\n",
       "    </tr>\n",
       "  </tbody>\n",
       "</table>\n",
       "<p>5 rows × 455 columns</p>\n",
       "</div>"
      ],
      "text/plain": [
       "              1006_markers  1017_markers  1031_markers  1043_markers  \\\n",
       "1744_cluster      0.496571      0.456734      0.364037      0.506770   \n",
       "2532_cluster      0.616124      0.476778      0.463821      0.871147   \n",
       "4308_cluster      0.550427      0.443503      0.377776      0.899281   \n",
       "4924_cluster      0.481440      0.443503      0.643130      0.719631   \n",
       "1685_cluster      0.496949      0.453143      0.446361      0.809482   \n",
       "\n",
       "              1057_markers  1111_markers  1117_markers  1125_markers  \\\n",
       "1744_cluster      0.375281      0.495348      0.464857      0.458315   \n",
       "2532_cluster      0.509941      0.637233      0.536173      0.734588   \n",
       "4308_cluster      0.576248      0.674385      0.652659      0.633390   \n",
       "4924_cluster      0.687747      0.456234      0.529594      0.722890   \n",
       "1685_cluster      0.369686      0.677487      0.585264      0.577569   \n",
       "\n",
       "              1159_markers  1187_markers  ...  Inh_Sox8_Calcrl_9_markers  \\\n",
       "1744_cluster      0.834441      0.453283  ...                   0.768735   \n",
       "2532_cluster      0.810642      0.440469  ...                   0.491161   \n",
       "4308_cluster      0.716057      0.477872  ...                   0.638047   \n",
       "4924_cluster      0.596205      0.769583  ...                   0.812807   \n",
       "1685_cluster      0.751371      0.448294  ...                   0.732941   \n",
       "\n",
       "              Inh_Sp8_Ctsc_1_markers  Inh_Sp8_Ctsc_3_markers  \\\n",
       "1744_cluster                0.454685                0.424782   \n",
       "2532_cluster                0.449476                0.440518   \n",
       "4308_cluster                0.461060                0.417645   \n",
       "4924_cluster                0.492749                0.439989   \n",
       "1685_cluster                0.438651                0.433388   \n",
       "\n",
       "              Inh_Sp8_Vip_1_markers  NG_Myoz1_1_markers  NG_Myoz1_8_markers  \\\n",
       "1744_cluster               0.762748            0.439853            0.900314   \n",
       "2532_cluster               0.578184            0.467038            0.886885   \n",
       "4308_cluster               0.470555            0.461712            0.748658   \n",
       "4924_cluster               0.495044            0.439320            0.619155   \n",
       "1685_cluster               0.437562            0.523620            0.469174   \n",
       "\n",
       "              NorEx_Phox2b_Ndufa4l2_1_markers  OPC_Cspg5_markers  \\\n",
       "1744_cluster                         0.489657           0.485403   \n",
       "2532_cluster                         0.493967           0.485409   \n",
       "4308_cluster                         0.489657           0.482592   \n",
       "4924_cluster                         0.499759           0.482592   \n",
       "1685_cluster                         0.489657           0.482592   \n",
       "\n",
       "              SerInh_Fev_Fbxw28_markers  Ser_Fev_Samd9l_markers  \n",
       "1744_cluster                   0.457211                0.792253  \n",
       "2532_cluster                   0.459988                0.621666  \n",
       "4308_cluster                   0.457212                0.452014  \n",
       "4924_cluster                   0.457212                0.537402  \n",
       "1685_cluster                   0.462063                0.383429  \n",
       "\n",
       "[5 rows x 455 columns]"
      ]
     },
     "execution_count": 54,
     "metadata": {},
     "output_type": "execute_result"
    }
   ],
   "source": [
    "roc.head()"
   ]
  },
  {
   "cell_type": "code",
   "execution_count": 55,
   "id": "e8caea55",
   "metadata": {},
   "outputs": [
    {
     "data": {
      "text/plain": [
       "(229, 455)"
      ]
     },
     "execution_count": 55,
     "metadata": {},
     "output_type": "execute_result"
    }
   ],
   "source": [
    "roc.shape"
   ]
  },
  {
   "cell_type": "code",
   "execution_count": 56,
   "id": "4bafea9b",
   "metadata": {},
   "outputs": [],
   "source": [
    "timestamp = str(round(time.time()))"
   ]
  },
  {
   "cell_type": "code",
   "execution_count": null,
   "id": "ce770c71",
   "metadata": {},
   "outputs": [],
   "source": [
    "roc.rename_axis('cluster_name').to_csv(os.path.join(here(), \"results\", \"marker_results\", \"markers_on_Zeng.\" + timestamp + \".csv.gz\"), compression=\"gzip\")"
   ]
  },
  {
   "cell_type": "code",
   "execution_count": 57,
   "id": "b1e5bad2",
   "metadata": {},
   "outputs": [
    {
     "name": "stdout",
     "output_type": "stream",
     "text": [
      "1713300779\n"
     ]
    }
   ],
   "source": [
    "print(timestamp)"
   ]
  },
  {
   "cell_type": "code",
   "execution_count": 58,
   "id": "3bd26b8b",
   "metadata": {},
   "outputs": [
    {
     "name": "stdout",
     "output_type": "stream",
     "text": [
      "Done all markers!\n"
     ]
    }
   ],
   "source": [
    "print(\"Done all markers!\")"
   ]
  },
  {
   "cell_type": "code",
   "execution_count": null,
   "id": "77c1c640",
   "metadata": {},
   "outputs": [],
   "source": []
  },
  {
   "cell_type": "code",
   "execution_count": 59,
   "id": "c2b7fc71",
   "metadata": {},
   "outputs": [],
   "source": [
    "#run each cluster against it's self and the top hit for it"
   ]
  },
  {
   "cell_type": "code",
   "execution_count": 60,
   "id": "a9a2223f",
   "metadata": {},
   "outputs": [],
   "source": [
    "#need to melt output matrix to get these two clusters, can probably run on dactyl"
   ]
  },
  {
   "cell_type": "code",
   "execution_count": 61,
   "id": "a708ffcb",
   "metadata": {},
   "outputs": [],
   "source": [
    "#needs to iterate all marker sets, get the two clusters, then compute AUROC "
   ]
  },
  {
   "cell_type": "code",
   "execution_count": 62,
   "id": "9bdf0bad",
   "metadata": {},
   "outputs": [],
   "source": [
    "#code duplication"
   ]
  },
  {
   "cell_type": "code",
   "execution_count": 84,
   "id": "e08af040",
   "metadata": {},
   "outputs": [],
   "source": [
    "roc_used_marker_lists = [string.replace(\"_markers\", \"\") for string in roc.columns.tolist()]"
   ]
  },
  {
   "cell_type": "code",
   "execution_count": 90,
   "id": "05333658",
   "metadata": {},
   "outputs": [
    {
     "data": {
      "text/plain": [
       "set()"
      ]
     },
     "execution_count": 90,
     "metadata": {},
     "output_type": "execute_result"
    }
   ],
   "source": [
    "#some are removed due to missing data - not sure why we drop these, maybe LQ\n",
    "set(all_clusters_Zeng) - set(roc_used_marker_lists)"
   ]
  },
  {
   "cell_type": "code",
   "execution_count": 91,
   "id": "40a8ff44",
   "metadata": {},
   "outputs": [],
   "source": [
    "all_clusters_Zeng = set(all_clusters_Zeng).intersection(set(roc_used_marker_lists))"
   ]
  },
  {
   "cell_type": "code",
   "execution_count": 92,
   "id": "f623495f",
   "metadata": {},
   "outputs": [
    {
     "data": {
      "text/plain": [
       "226"
      ]
     },
     "execution_count": 92,
     "metadata": {},
     "output_type": "execute_result"
    }
   ],
   "source": [
    "len(all_clusters_Zeng)"
   ]
  },
  {
   "cell_type": "code",
   "execution_count": 93,
   "id": "181ca37f",
   "metadata": {},
   "outputs": [],
   "source": [
    "all_results = []\n",
    "for current_marker in all_clusters_Zeng:\n",
    "    roc_series = roc[current_marker + \"_markers\"].copy()\n",
    "    self_auroc = roc_series.loc[current_marker + \"_cluster\"] #only used for output\n",
    "    #set to zero so it doesn't mask the non-self max\n",
    "    roc_series.loc[current_marker + \"_cluster\"] = 0\n",
    "    highest_non_self_cluster = roc_series.idxmax()\n",
    "    two_cluster_membership = one_hot_cluster_membership[[highest_non_self_cluster.replace(\"_cluster\", \"\"), current_marker]]\n",
    "    two_cluster_membership = two_cluster_membership[two_cluster_membership.sum(axis=1) > 0]\n",
    "    cluster_sums_self = cluster_sums.loc[two_cluster_membership.index, current_marker]\n",
    "    ranks = bottleneck.rankdata(cluster_sums_self, axis = 0)\n",
    "    sum_pos_ranks = two_cluster_membership[current_marker].T @ ranks\n",
    "    n_pos = bottleneck.nansum(two_cluster_membership[current_marker], axis=0)\n",
    "    if n_pos == 0:\n",
    "        continue\n",
    "    n_neg = two_cluster_membership[current_marker].shape[0] - n_pos\n",
    "    single_roc = sum_pos_ranks / n_pos\n",
    "    single_roc -= (n_pos + 1) / 2\n",
    "    single_roc /= n_neg\n",
    "    single_cluster_result = pd.DataFrame({'target_cluster' : current_marker,\n",
    "                                      'highest_non_self_cluster' : highest_non_self_cluster,\n",
    "                                      'max_AUROC' : roc_series.max(),\n",
    "                                      'self_1_vs_all_AUROC' : self_auroc,\n",
    "                                      'self_vs_best_AUROC' : single_roc}, index=[0]) \n",
    "    all_results.append(single_cluster_result)\n",
    "\n",
    "all_results = pd.concat(all_results)"
   ]
  },
  {
   "cell_type": "code",
   "execution_count": 94,
   "id": "d432d4d3",
   "metadata": {},
   "outputs": [
    {
     "data": {
      "text/html": [
       "<div>\n",
       "<style scoped>\n",
       "    .dataframe tbody tr th:only-of-type {\n",
       "        vertical-align: middle;\n",
       "    }\n",
       "\n",
       "    .dataframe tbody tr th {\n",
       "        vertical-align: top;\n",
       "    }\n",
       "\n",
       "    .dataframe thead th {\n",
       "        text-align: right;\n",
       "    }\n",
       "</style>\n",
       "<table border=\"1\" class=\"dataframe\">\n",
       "  <thead>\n",
       "    <tr style=\"text-align: right;\">\n",
       "      <th></th>\n",
       "      <th>target_cluster</th>\n",
       "      <th>highest_non_self_cluster</th>\n",
       "      <th>max_AUROC</th>\n",
       "      <th>self_1_vs_all_AUROC</th>\n",
       "      <th>self_vs_best_AUROC</th>\n",
       "    </tr>\n",
       "  </thead>\n",
       "  <tbody>\n",
       "    <tr>\n",
       "      <th>0</th>\n",
       "      <td>4416</td>\n",
       "      <td>4207_cluster</td>\n",
       "      <td>0.994594</td>\n",
       "      <td>0.990745</td>\n",
       "      <td>0.325855</td>\n",
       "    </tr>\n",
       "    <tr>\n",
       "      <th>0</th>\n",
       "      <td>1744</td>\n",
       "      <td>4239_cluster</td>\n",
       "      <td>0.804730</td>\n",
       "      <td>0.921052</td>\n",
       "      <td>0.671334</td>\n",
       "    </tr>\n",
       "    <tr>\n",
       "      <th>0</th>\n",
       "      <td>686</td>\n",
       "      <td>5067_cluster</td>\n",
       "      <td>0.946456</td>\n",
       "      <td>0.973565</td>\n",
       "      <td>0.882398</td>\n",
       "    </tr>\n",
       "    <tr>\n",
       "      <th>0</th>\n",
       "      <td>1187</td>\n",
       "      <td>4185_cluster</td>\n",
       "      <td>0.959868</td>\n",
       "      <td>0.974710</td>\n",
       "      <td>0.645817</td>\n",
       "    </tr>\n",
       "    <tr>\n",
       "      <th>0</th>\n",
       "      <td>2532</td>\n",
       "      <td>5212_cluster</td>\n",
       "      <td>0.895114</td>\n",
       "      <td>0.951151</td>\n",
       "      <td>0.817293</td>\n",
       "    </tr>\n",
       "    <tr>\n",
       "      <th>...</th>\n",
       "      <td>...</td>\n",
       "      <td>...</td>\n",
       "      <td>...</td>\n",
       "      <td>...</td>\n",
       "      <td>...</td>\n",
       "    </tr>\n",
       "    <tr>\n",
       "      <th>0</th>\n",
       "      <td>2683</td>\n",
       "      <td>2871_cluster</td>\n",
       "      <td>0.990878</td>\n",
       "      <td>0.971497</td>\n",
       "      <td>0.405614</td>\n",
       "    </tr>\n",
       "    <tr>\n",
       "      <th>0</th>\n",
       "      <td>943</td>\n",
       "      <td>1187_cluster</td>\n",
       "      <td>0.961153</td>\n",
       "      <td>0.952613</td>\n",
       "      <td>0.560455</td>\n",
       "    </tr>\n",
       "    <tr>\n",
       "      <th>0</th>\n",
       "      <td>4741</td>\n",
       "      <td>2975_cluster</td>\n",
       "      <td>0.998973</td>\n",
       "      <td>0.995768</td>\n",
       "      <td>0.321462</td>\n",
       "    </tr>\n",
       "    <tr>\n",
       "      <th>0</th>\n",
       "      <td>3240</td>\n",
       "      <td>2863_cluster</td>\n",
       "      <td>0.999033</td>\n",
       "      <td>0.975437</td>\n",
       "      <td>0.186975</td>\n",
       "    </tr>\n",
       "    <tr>\n",
       "      <th>0</th>\n",
       "      <td>2077</td>\n",
       "      <td>3596_cluster</td>\n",
       "      <td>0.966740</td>\n",
       "      <td>0.897135</td>\n",
       "      <td>0.787226</td>\n",
       "    </tr>\n",
       "  </tbody>\n",
       "</table>\n",
       "<p>226 rows × 5 columns</p>\n",
       "</div>"
      ],
      "text/plain": [
       "   target_cluster highest_non_self_cluster  max_AUROC  self_1_vs_all_AUROC  \\\n",
       "0            4416             4207_cluster   0.994594             0.990745   \n",
       "0            1744             4239_cluster   0.804730             0.921052   \n",
       "0             686             5067_cluster   0.946456             0.973565   \n",
       "0            1187             4185_cluster   0.959868             0.974710   \n",
       "0            2532             5212_cluster   0.895114             0.951151   \n",
       "..            ...                      ...        ...                  ...   \n",
       "0            2683             2871_cluster   0.990878             0.971497   \n",
       "0             943             1187_cluster   0.961153             0.952613   \n",
       "0            4741             2975_cluster   0.998973             0.995768   \n",
       "0            3240             2863_cluster   0.999033             0.975437   \n",
       "0            2077             3596_cluster   0.966740             0.897135   \n",
       "\n",
       "    self_vs_best_AUROC  \n",
       "0             0.325855  \n",
       "0             0.671334  \n",
       "0             0.882398  \n",
       "0             0.645817  \n",
       "0             0.817293  \n",
       "..                 ...  \n",
       "0             0.405614  \n",
       "0             0.560455  \n",
       "0             0.321462  \n",
       "0             0.186975  \n",
       "0             0.787226  \n",
       "\n",
       "[226 rows x 5 columns]"
      ]
     },
     "execution_count": 94,
     "metadata": {},
     "output_type": "execute_result"
    }
   ],
   "source": [
    "all_results"
   ]
  },
  {
   "cell_type": "code",
   "execution_count": 95,
   "id": "a44e5416",
   "metadata": {},
   "outputs": [],
   "source": [
    "all_results.to_csv(os.path.join(here(), \"results\", \"marker_results\", \"Zeng_self_vs_best.\" + timestamp + \".csv.gz\"), compression=\"gzip\", index=False)"
   ]
  },
  {
   "cell_type": "code",
   "execution_count": null,
   "id": "02f46279",
   "metadata": {},
   "outputs": [],
   "source": []
  },
  {
   "cell_type": "code",
   "execution_count": 99,
   "id": "0d380f7a",
   "metadata": {},
   "outputs": [
    {
     "name": "stdout",
     "output_type": "stream",
     "text": [
      "Done!\n"
     ]
    }
   ],
   "source": [
    "print(\"Done!\")"
   ]
  },
  {
   "cell_type": "code",
   "execution_count": null,
   "id": "d57279fc",
   "metadata": {},
   "outputs": [],
   "source": []
  }
 ],
 "metadata": {
  "kernelspec": {
   "display_name": "Python 3 (ipykernel)",
   "language": "python",
   "name": "python3"
  },
  "language_info": {
   "codemirror_mode": {
    "name": "ipython",
    "version": 3
   },
   "file_extension": ".py",
   "mimetype": "text/x-python",
   "name": "python",
   "nbconvert_exporter": "python",
   "pygments_lexer": "ipython3",
   "version": "3.10.6"
  }
 },
 "nbformat": 4,
 "nbformat_minor": 5
}
