{
 "cells": [
  {
   "cell_type": "code",
   "execution_count": null,
   "id": "5bec77e9",
   "metadata": {},
   "outputs": [],
   "source": [
    "import numpy as np\n",
    "import pandas as pd\n",
    "import scanpy as sc\n",
    "import pymn\n",
    "import anndata as ad\n",
    "import time\n",
    "import os\n",
    "from pyprojroot import here\n",
    "import resource"
   ]
  },
  {
   "cell_type": "code",
   "execution_count": null,
   "id": "ec3d037f",
   "metadata": {},
   "outputs": [],
   "source": [
    "here()\n",
    "base_data_folder = \"/vault/lfrench/mouse_brain_cluster_replicability/data/\""
   ]
  },
  {
   "cell_type": "code",
   "execution_count": null,
   "id": "d8825291",
   "metadata": {},
   "outputs": [],
   "source": [
    "#data below is from the Allen Institute"
   ]
  },
  {
   "cell_type": "code",
   "execution_count": null,
   "id": "94a15cf8",
   "metadata": {},
   "outputs": [],
   "source": [
    "adata_Zeng_v2 = sc.read_h5ad(base_data_folder + \"/whole_mouse_brain/zeng/from_aws/AIT21.0/AIT21_10Xv2.h5ad\") "
   ]
  },
  {
   "cell_type": "code",
   "execution_count": null,
   "id": "88f6fdeb",
   "metadata": {},
   "outputs": [],
   "source": [
    "adata_Zeng_v2.obs"
   ]
  },
  {
   "cell_type": "code",
   "execution_count": null,
   "id": "71acbbf3",
   "metadata": {},
   "outputs": [],
   "source": [
    "#replace the main log-normalized count matrix with the raw counts"
   ]
  },
  {
   "cell_type": "code",
   "execution_count": null,
   "id": "ea3d7ab4",
   "metadata": {},
   "outputs": [],
   "source": [
    "adata_Zeng_v2.X = adata_Zeng_v2.layers['rawcount']"
   ]
  },
  {
   "cell_type": "code",
   "execution_count": null,
   "id": "7b1ce9e4",
   "metadata": {},
   "outputs": [],
   "source": [
    "del adata_Zeng_v2.layers['rawcount']"
   ]
  },
  {
   "cell_type": "code",
   "execution_count": null,
   "id": "a054c805",
   "metadata": {},
   "outputs": [],
   "source": []
  },
  {
   "cell_type": "code",
   "execution_count": null,
   "id": "d2007fd8",
   "metadata": {},
   "outputs": [],
   "source": [
    "adata_Zeng_v3 = sc.read_h5ad(base_data_folder + \"/whole_mouse_brain/zeng/from_aws/AIT21.0/AIT21_10Xv3.h5ad\") "
   ]
  },
  {
   "cell_type": "code",
   "execution_count": null,
   "id": "cd1a7cc4",
   "metadata": {},
   "outputs": [],
   "source": [
    "adata_Zeng_v3.X = adata_Zeng_v3.layers['rawcount']\n",
    "del adata_Zeng_v3.layers['rawcount']"
   ]
  },
  {
   "cell_type": "code",
   "execution_count": null,
   "id": "09343268",
   "metadata": {},
   "outputs": [],
   "source": []
  },
  {
   "cell_type": "code",
   "execution_count": null,
   "id": "633b788a",
   "metadata": {},
   "outputs": [],
   "source": []
  },
  {
   "cell_type": "code",
   "execution_count": null,
   "id": "7df83c0e",
   "metadata": {},
   "outputs": [],
   "source": [
    "adata_Zeng_v2.obs.shape"
   ]
  },
  {
   "cell_type": "code",
   "execution_count": null,
   "id": "02c38dea",
   "metadata": {},
   "outputs": [],
   "source": [
    "adata_Zeng_v3.obs.shape"
   ]
  },
  {
   "cell_type": "code",
   "execution_count": null,
   "id": "fb8d5eee",
   "metadata": {},
   "outputs": [],
   "source": [
    "adata_Zeng_v2.var.shape"
   ]
  },
  {
   "cell_type": "code",
   "execution_count": null,
   "id": "da30176f",
   "metadata": {},
   "outputs": [],
   "source": [
    "adata_Zeng_v3.var.shape"
   ]
  },
  {
   "cell_type": "code",
   "execution_count": null,
   "id": "0e80da54",
   "metadata": {},
   "outputs": [],
   "source": [
    "adata_Zeng_v3.var"
   ]
  },
  {
   "cell_type": "code",
   "execution_count": null,
   "id": "3bbe9cc0",
   "metadata": {},
   "outputs": [],
   "source": [
    "#filter for Macosko ensmbl IDs to save space"
   ]
  },
  {
   "cell_type": "code",
   "execution_count": null,
   "id": "9a2a3966",
   "metadata": {},
   "outputs": [],
   "source": [
    "adata_macosko = sc.read_h5ad(base_data_folder + '/whole_mouse_brain/processed/macosko/20221007_atlas_500umis_mt-1pct.h5ad', backed = \"r\")\n",
    "gene_map = adata_macosko.var\n"
   ]
  },
  {
   "cell_type": "code",
   "execution_count": null,
   "id": "cbb637e1",
   "metadata": {},
   "outputs": [],
   "source": [
    "Macosko_universe = gene_map['ensmblID'].to_list()"
   ]
  },
  {
   "cell_type": "code",
   "execution_count": null,
   "id": "255e5d7d",
   "metadata": {},
   "outputs": [],
   "source": [
    "adata_Zeng_v3.var[\"in_Macosko\"] = adata_Zeng_v3.var.gene_identifier.isin(Macosko_universe)\n"
   ]
  },
  {
   "cell_type": "code",
   "execution_count": null,
   "id": "5cec3bda",
   "metadata": {},
   "outputs": [],
   "source": [
    "adata_Zeng_v2.var[\"in_Macosko\"] = adata_Zeng_v2.var.gene_identifier.isin(Macosko_universe)\n"
   ]
  },
  {
   "cell_type": "code",
   "execution_count": null,
   "id": "64a090c0",
   "metadata": {},
   "outputs": [],
   "source": [
    "adata_Zeng_v3 = adata_Zeng_v3[:, adata_Zeng_v3.var[\"in_Macosko\"]]"
   ]
  },
  {
   "cell_type": "code",
   "execution_count": null,
   "id": "f46f14c4",
   "metadata": {},
   "outputs": [],
   "source": [
    "adata_Zeng_v2 = adata_Zeng_v2[:, adata_Zeng_v2.var[\"in_Macosko\"]]"
   ]
  },
  {
   "cell_type": "code",
   "execution_count": null,
   "id": "55894471",
   "metadata": {},
   "outputs": [],
   "source": [
    "#write out and reload for merge due to memory limits, should be smaller"
   ]
  },
  {
   "cell_type": "code",
   "execution_count": null,
   "id": "577a28ad",
   "metadata": {},
   "outputs": [],
   "source": [
    "adata_Zeng_v2.write_h5ad(base_data_folder + \"/whole_mouse_brain/processed/zeng/subsets/AIT21.0.v2.20k_genes_counts_only.h5ad\")"
   ]
  },
  {
   "cell_type": "code",
   "execution_count": null,
   "id": "d97e18b4",
   "metadata": {},
   "outputs": [],
   "source": [
    "adata_Zeng_v3.write_h5ad(base_data_folder + \"/whole_mouse_brain/processed/zeng/subsets/AIT21.0.v3.20k_genes_counts_only.h5ad\")"
   ]
  },
  {
   "cell_type": "code",
   "execution_count": null,
   "id": "309d4f91",
   "metadata": {},
   "outputs": [],
   "source": [
    "#############################\n",
    "#restart the kernel to free memory\n",
    "#############################"
   ]
  },
  {
   "cell_type": "code",
   "execution_count": null,
   "id": "b4e53601",
   "metadata": {},
   "outputs": [],
   "source": [
    "adata_Zeng_v2 = sc.read_h5ad(base_data_folder + \"/whole_mouse_brain/processed/zeng/subsets/AIT21.0.v2.20k_genes_counts_only.h5ad\") "
   ]
  },
  {
   "cell_type": "code",
   "execution_count": null,
   "id": "1cfedbbe",
   "metadata": {},
   "outputs": [],
   "source": []
  },
  {
   "cell_type": "code",
   "execution_count": null,
   "id": "fa8ccc00",
   "metadata": {},
   "outputs": [],
   "source": [
    "adata_Zeng_v3 = sc.read_h5ad(base_data_folder + \"/whole_mouse_brain/processed/zeng/subsets/AIT21.0.v3.20k_genes_counts_only.h5ad\") "
   ]
  },
  {
   "cell_type": "code",
   "execution_count": null,
   "id": "9f1ebe50",
   "metadata": {},
   "outputs": [],
   "source": []
  },
  {
   "cell_type": "code",
   "execution_count": null,
   "id": "830b104a",
   "metadata": {},
   "outputs": [],
   "source": [
    "adata_Zeng_multiome = sc.read_h5ad(base_data_folder + \"/whole_mouse_brain/zeng/from_aws/AIT21.0/AIT21_multiome.h5ad\")"
   ]
  },
  {
   "cell_type": "code",
   "execution_count": null,
   "id": "d3ca6d8a",
   "metadata": {},
   "outputs": [],
   "source": [
    "adata_Zeng_multiome.obs.groupby(\"roi\").size().sort_values(ascending=False)"
   ]
  },
  {
   "cell_type": "code",
   "execution_count": null,
   "id": "940e7f3f",
   "metadata": {},
   "outputs": [],
   "source": [
    "adata_Zeng_multiome.X = adata_Zeng_multiome.layers['rawcount']\n",
    "del adata_Zeng_multiome.layers['rawcount']"
   ]
  },
  {
   "cell_type": "code",
   "execution_count": null,
   "id": "4ebc787b",
   "metadata": {},
   "outputs": [],
   "source": [
    "adata_Zeng_multiome.obs.shape"
   ]
  },
  {
   "cell_type": "code",
   "execution_count": null,
   "id": "0dae94b3",
   "metadata": {},
   "outputs": [],
   "source": [
    "adata_Zeng_multiome.var"
   ]
  },
  {
   "cell_type": "code",
   "execution_count": null,
   "id": "f85093a6",
   "metadata": {
    "scrolled": true
   },
   "outputs": [],
   "source": [
    "#add in ensmbl ID's\n",
    "adata_Zeng_multiome.var = adata_Zeng_multiome.var.merge(adata_Zeng_v3.var, left_index=True,right_index=True, how='left')"
   ]
  },
  {
   "cell_type": "code",
   "execution_count": null,
   "id": "5bbe98d8",
   "metadata": {},
   "outputs": [],
   "source": [
    "adata_Zeng_multiome.shape"
   ]
  },
  {
   "cell_type": "code",
   "execution_count": null,
   "id": "343510a6",
   "metadata": {},
   "outputs": [],
   "source": [
    "adata_Zeng_multiome = adata_Zeng_multiome[:, adata_Zeng_multiome.var[\"in_Macosko\"]==True]"
   ]
  },
  {
   "cell_type": "code",
   "execution_count": null,
   "id": "4f56b41f",
   "metadata": {},
   "outputs": [],
   "source": [
    "adata_Zeng_multiome.shape"
   ]
  },
  {
   "cell_type": "code",
   "execution_count": null,
   "id": "a5209cb5",
   "metadata": {},
   "outputs": [],
   "source": []
  },
  {
   "cell_type": "code",
   "execution_count": null,
   "id": "176691fa",
   "metadata": {},
   "outputs": [],
   "source": [
    "merged=ad.concat([adata_Zeng_v2, adata_Zeng_v3, adata_Zeng_multiome], join=\"inner\")"
   ]
  },
  {
   "cell_type": "code",
   "execution_count": null,
   "id": "9e9fc18e",
   "metadata": {},
   "outputs": [],
   "source": [
    "merged"
   ]
  },
  {
   "cell_type": "code",
   "execution_count": null,
   "id": "80d67c9d",
   "metadata": {},
   "outputs": [],
   "source": [
    "merged.var"
   ]
  },
  {
   "cell_type": "code",
   "execution_count": null,
   "id": "b5128c1d",
   "metadata": {},
   "outputs": [],
   "source": [
    "#seems the var data gets lost in merge, add it back\n",
    "merged.var = adata_Zeng_v2.var"
   ]
  },
  {
   "cell_type": "code",
   "execution_count": null,
   "id": "1519dd96",
   "metadata": {},
   "outputs": [],
   "source": [
    "merged.shape"
   ]
  },
  {
   "cell_type": "code",
   "execution_count": null,
   "id": "80883d22",
   "metadata": {},
   "outputs": [],
   "source": [
    "merged.obs.iloc[1,:]"
   ]
  },
  {
   "cell_type": "code",
   "execution_count": null,
   "id": "a7bee843",
   "metadata": {},
   "outputs": [],
   "source": [
    "merged.obs['external_donor_name'] = merged.obs['external_donor_name'].astype(str)"
   ]
  },
  {
   "cell_type": "code",
   "execution_count": null,
   "id": "b3868181",
   "metadata": {},
   "outputs": [],
   "source": [
    "merged.write_h5ad(base_data_folder + \"/whole_mouse_brain/processed/zeng/subsets/AIT21.0.merged.with_multiome.h5ad\")"
   ]
  },
  {
   "cell_type": "code",
   "execution_count": null,
   "id": "a4494119",
   "metadata": {},
   "outputs": [],
   "source": [
    "merged.obs"
   ]
  },
  {
   "cell_type": "code",
   "execution_count": null,
   "id": "af462d0e",
   "metadata": {},
   "outputs": [],
   "source": [
    "print(\"Done!\")"
   ]
  }
 ],
 "metadata": {
  "kernelspec": {
   "display_name": "Python 3 (ipykernel)",
   "language": "python",
   "name": "python3"
  },
  "language_info": {
   "codemirror_mode": {
    "name": "ipython",
    "version": 3
   },
   "file_extension": ".py",
   "mimetype": "text/x-python",
   "name": "python",
   "nbconvert_exporter": "python",
   "pygments_lexer": "ipython3",
   "version": "3.10.6"
  }
 },
 "nbformat": 4,
 "nbformat_minor": 5
}
