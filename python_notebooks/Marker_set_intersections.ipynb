{
 "cells": [
  {
   "cell_type": "code",
   "execution_count": 1,
   "id": "763f8a8c",
   "metadata": {},
   "outputs": [
    {
     "name": "stderr",
     "output_type": "stream",
     "text": [
      "/home/leon/miniconda3/envs/mouse_brain_cells/lib/python3.10/site-packages/pandas/core/computation/expressions.py:21: UserWarning: Pandas requires version '2.8.4' or newer of 'numexpr' (version '2.8.3' currently installed).\n",
      "  from pandas.core.computation.check import NUMEXPR_INSTALLED\n",
      "/home/leon/miniconda3/envs/mouse_brain_cells/lib/python3.10/site-packages/pandas/core/arrays/masked.py:60: UserWarning: Pandas requires version '1.3.6' or newer of 'bottleneck' (version '1.3.5' currently installed).\n",
      "  from pandas.core import (\n",
      "/home/leon/miniconda3/envs/mouse_brain_cells/lib/python3.10/site-packages/anndata/utils.py:429: FutureWarning: Importing read_csv from `anndata` is deprecated. Import anndata.io.read_csv instead.\n",
      "  warnings.warn(msg, FutureWarning)\n",
      "/home/leon/miniconda3/envs/mouse_brain_cells/lib/python3.10/site-packages/anndata/utils.py:429: FutureWarning: Importing read_excel from `anndata` is deprecated. Import anndata.io.read_excel instead.\n",
      "  warnings.warn(msg, FutureWarning)\n",
      "/home/leon/miniconda3/envs/mouse_brain_cells/lib/python3.10/site-packages/anndata/utils.py:429: FutureWarning: Importing read_hdf from `anndata` is deprecated. Import anndata.io.read_hdf instead.\n",
      "  warnings.warn(msg, FutureWarning)\n",
      "/home/leon/miniconda3/envs/mouse_brain_cells/lib/python3.10/site-packages/anndata/utils.py:429: FutureWarning: Importing read_loom from `anndata` is deprecated. Import anndata.io.read_loom instead.\n",
      "  warnings.warn(msg, FutureWarning)\n",
      "/home/leon/miniconda3/envs/mouse_brain_cells/lib/python3.10/site-packages/anndata/utils.py:429: FutureWarning: Importing read_mtx from `anndata` is deprecated. Import anndata.io.read_mtx instead.\n",
      "  warnings.warn(msg, FutureWarning)\n",
      "/home/leon/miniconda3/envs/mouse_brain_cells/lib/python3.10/site-packages/anndata/utils.py:429: FutureWarning: Importing read_text from `anndata` is deprecated. Import anndata.io.read_text instead.\n",
      "  warnings.warn(msg, FutureWarning)\n",
      "/home/leon/miniconda3/envs/mouse_brain_cells/lib/python3.10/site-packages/anndata/utils.py:429: FutureWarning: Importing read_umi_tools from `anndata` is deprecated. Import anndata.io.read_umi_tools instead.\n",
      "  warnings.warn(msg, FutureWarning)\n"
     ]
    }
   ],
   "source": [
    "import numpy as np\n",
    "from scipy import sparse, stats\n",
    "import pandas as pd\n",
    "import bottleneck\n",
    "import gc\n",
    "import warnings\n",
    "import scanpy as sc\n",
    "import anndata as ad\n",
    "import time\n",
    "import os\n",
    "from scipy import stats, sparse\n",
    "import concurrent.futures\n",
    "import statistics\n",
    "import random\n",
    "import functools\n",
    "import threading\n",
    "from scipy.stats import hypergeom\n",
    "import concurrent.futures\n",
    "from scipy.sparse import csr_matrix\n",
    "from scipy.stats import zscore\n",
    "from functools import lru_cache\n",
    "\n",
    "\n",
    "from pyprojroot import here\n",
    "import pymn\n",
    "import resource"
   ]
  },
  {
   "cell_type": "code",
   "execution_count": 2,
   "id": "497cd1d2",
   "metadata": {},
   "outputs": [],
   "source": [
    "here()\n",
    "base_data_folder = \"/vault/lfrench/mouse_brain_cluster_replicability/data/\""
   ]
  },
  {
   "cell_type": "code",
   "execution_count": 3,
   "id": "54476a24",
   "metadata": {},
   "outputs": [
    {
     "data": {
      "text/plain": [
       "2725"
      ]
     },
     "execution_count": 3,
     "metadata": {},
     "output_type": "execute_result"
    }
   ],
   "source": [
    "#common universe of markers\n",
    "cluster_annotations = pd.read_csv(base_data_folder + \"/whole_mouse_brain/zeng/from_aws/AIT21.0/AIT21_annotation_freeze_081523.tsv\", sep=\"\\t\")\n",
    "all_markers = set(cluster_annotations['cluster.markers'].str.split(',').explode().tolist())\n",
    "all_Zeng_markers = [x for x in all_markers if pd.notna(x)]\n",
    "all_Zeng_markers = set(all_Zeng_markers)\n",
    "len(all_Zeng_markers)\n"
   ]
  },
  {
   "cell_type": "code",
   "execution_count": 4,
   "id": "3548f652",
   "metadata": {},
   "outputs": [
    {
     "data": {
      "text/plain": [
       "'/vault/lfrench/mouse_brain_cluster_replicability/data//whole_mouse_brain/zeng/from_aws/AIT21.0/AIT21_annotation_freeze_081523.all_markers.txt'"
      ]
     },
     "execution_count": 4,
     "metadata": {},
     "output_type": "execute_result"
    }
   ],
   "source": [
    "file_path = base_data_folder + \"/whole_mouse_brain/zeng/from_aws/AIT21.0/AIT21_annotation_freeze_081523.all_markers.txt\"\n",
    "\n",
    "# Write the markers to the text file\n",
    "with open(file_path, 'w') as file:\n",
    "    for string in all_Zeng_markers:\n",
    "        file.write(string + '\\n')\n",
    "file_path        "
   ]
  },
  {
   "cell_type": "code",
   "execution_count": 5,
   "id": "aef67c3f",
   "metadata": {},
   "outputs": [
    {
     "data": {
      "text/plain": [
       "2706"
      ]
     },
     "execution_count": 5,
     "metadata": {},
     "output_type": "execute_result"
    }
   ],
   "source": [
    "#load Macosko marker lists from preprint supplement table\n",
    "Macosko_supplement_table = pd.read_excel(base_data_folder + \"/whole_mouse_brain/processed/macosko/paper_supplements/41586_2023_6818_MOESM10_ESM.xlsx\", sheet_name = \"Whole Brain Set Cover\")\n",
    "#just the most specific markers\n",
    "Macosko_supplement_table = Macosko_supplement_table[Macosko_supplement_table[\"Exclude up to N Nearest Neighbors\"] == 0]\n",
    "\n",
    "Macosko_supplement_table = Macosko_supplement_table[[\"Cell Type Name\", \"Optimally-Sized Gene List\"]]\n",
    "Macosko_markers = Macosko_supplement_table['Optimally-Sized Gene List'].str.split('|', expand=True)\n",
    "Macosko_markers = pd.concat([Macosko_supplement_table['Cell Type Name'], Macosko_markers], axis=1)\n",
    "Macosko_markers = pd.melt(Macosko_markers, id_vars = 'Cell Type Name', value_name='gene_symbol', var_name='order')\n",
    "Macosko_markers['gene_symbol'] = Macosko_markers['gene_symbol'].str.replace(\"=.*\", \"\", regex=True)\n",
    "Macosko_markers.dropna(subset=['gene_symbol'], inplace=True)\n",
    "Macosko_markers = Macosko_markers.rename(columns = {\"gene_symbol\":\"gene\"})\n",
    "Macosko_markers = Macosko_markers.rename(columns = {\"Cell Type Name\":\"Macosko_cluster\"})\n",
    "all_Macosko_markers = set(Macosko_markers.gene)\n",
    "len(all_Macosko_markers)"
   ]
  },
  {
   "cell_type": "code",
   "execution_count": 6,
   "id": "15d7802e",
   "metadata": {},
   "outputs": [
    {
     "data": {
      "text/plain": [
       "3853"
      ]
     },
     "execution_count": 6,
     "metadata": {},
     "output_type": "execute_result"
    }
   ],
   "source": [
    "len(all_Macosko_markers.union(all_Zeng_markers))"
   ]
  },
  {
   "cell_type": "code",
   "execution_count": 7,
   "id": "c8d77b11",
   "metadata": {},
   "outputs": [],
   "source": [
    "# Write the markers to the text file\n",
    "file_path = base_data_folder + \"/whole_mouse_brain/processed/macosko/paper_supplements/41586_2023_6818_MOESM10_ESM.0_markers.txt\"\n",
    "with open(file_path, 'w') as file:\n",
    "    for string in all_Macosko_markers:\n",
    "        file.write(string + '\\n')"
   ]
  },
  {
   "cell_type": "code",
   "execution_count": 8,
   "id": "d09b9345",
   "metadata": {},
   "outputs": [
    {
     "data": {
      "text/plain": [
       "'/vault/lfrench/mouse_brain_cluster_replicability/data//whole_mouse_brain/processed/macosko/paper_supplements/41586_2023_6818_MOESM10_ESM.0_markers.txt'"
      ]
     },
     "execution_count": 8,
     "metadata": {},
     "output_type": "execute_result"
    }
   ],
   "source": [
    "base_data_folder + \"/whole_mouse_brain/processed/macosko/paper_supplements/41586_2023_6818_MOESM10_ESM.0_markers.txt\""
   ]
  },
  {
   "cell_type": "code",
   "execution_count": 9,
   "id": "4ab595b8",
   "metadata": {},
   "outputs": [],
   "source": [
    "#Use the smaller subsetted file\n",
    "all_Zeng_cpm = sc.read_h5ad(base_data_folder + \"/whole_mouse_brain/processed/zeng/subsets/AIT21.0.merged.with_multiome_3820_markers_only.cpm.h5ad\", backed=True) "
   ]
  },
  {
   "cell_type": "code",
   "execution_count": 12,
   "id": "f73f460e",
   "metadata": {},
   "outputs": [],
   "source": [
    "adata_macosko = sc.read_h5ad(base_data_folder + \"/whole_mouse_brain/macosko/from_google_drive/Macosko_Mouse_Atlas_Single_Nuclei.Use_Backed.h5ad\", backed = \"r\")\n",
    "gene_map = adata_macosko.var\n",
    "Macosko_universe = set(gene_map['gene_name'].to_list())\n",
    "Zeng_universe = set(all_Zeng_cpm.var.gene_symbol.to_list())"
   ]
  },
  {
   "cell_type": "code",
   "execution_count": null,
   "id": "85af825d",
   "metadata": {},
   "outputs": [],
   "source": []
  },
  {
   "cell_type": "code",
   "execution_count": 13,
   "id": "0736fe2d",
   "metadata": {},
   "outputs": [],
   "source": [
    "all_Macosko_markers = all_Macosko_markers.intersection(Zeng_universe)\n",
    "all_Zeng_markers = all_Zeng_markers.intersection(Macosko_universe)"
   ]
  },
  {
   "cell_type": "code",
   "execution_count": 14,
   "id": "8298a007",
   "metadata": {},
   "outputs": [
    {
     "data": {
      "text/plain": [
       "2673"
      ]
     },
     "execution_count": 14,
     "metadata": {},
     "output_type": "execute_result"
    }
   ],
   "source": [
    "len(all_Macosko_markers)"
   ]
  },
  {
   "cell_type": "code",
   "execution_count": 15,
   "id": "bc65381d",
   "metadata": {},
   "outputs": [
    {
     "data": {
      "text/plain": [
       "2214"
      ]
     },
     "execution_count": 15,
     "metadata": {},
     "output_type": "execute_result"
    }
   ],
   "source": [
    "len(all_Zeng_markers)"
   ]
  },
  {
   "cell_type": "code",
   "execution_count": 16,
   "id": "de74b9a6",
   "metadata": {},
   "outputs": [],
   "source": [
    "combined_universe_of_markers = all_Zeng_markers.union(all_Macosko_markers)\n",
    "intersection_of_markers = all_Zeng_markers.intersection(all_Macosko_markers)"
   ]
  },
  {
   "cell_type": "code",
   "execution_count": 17,
   "id": "d6edc7a8",
   "metadata": {},
   "outputs": [
    {
     "data": {
      "text/html": [
       "<div>\n",
       "<style scoped>\n",
       "    .dataframe tbody tr th:only-of-type {\n",
       "        vertical-align: middle;\n",
       "    }\n",
       "\n",
       "    .dataframe tbody tr th {\n",
       "        vertical-align: top;\n",
       "    }\n",
       "\n",
       "    .dataframe thead th {\n",
       "        text-align: right;\n",
       "    }\n",
       "</style>\n",
       "<table border=\"1\" class=\"dataframe\">\n",
       "  <thead>\n",
       "    <tr style=\"text-align: right;\">\n",
       "      <th></th>\n",
       "      <th>Macosko_cluster</th>\n",
       "      <th>order</th>\n",
       "      <th>gene</th>\n",
       "    </tr>\n",
       "  </thead>\n",
       "  <tbody>\n",
       "    <tr>\n",
       "      <th>0</th>\n",
       "      <td>Ex_Gbx2_Adam18_2</td>\n",
       "      <td>0</td>\n",
       "      <td>Sp9</td>\n",
       "    </tr>\n",
       "    <tr>\n",
       "      <th>1</th>\n",
       "      <td>Inh_Pax7_Hpse_2</td>\n",
       "      <td>0</td>\n",
       "      <td>Pde11a</td>\n",
       "    </tr>\n",
       "    <tr>\n",
       "      <th>3</th>\n",
       "      <td>Ex_Pitx2_Zbtb7c_3</td>\n",
       "      <td>0</td>\n",
       "      <td>Kcnq5</td>\n",
       "    </tr>\n",
       "    <tr>\n",
       "      <th>4</th>\n",
       "      <td>Inh_Gata3_Gxylt2_5</td>\n",
       "      <td>0</td>\n",
       "      <td>Ltk</td>\n",
       "    </tr>\n",
       "    <tr>\n",
       "      <th>5</th>\n",
       "      <td>Inh_Lhx6_Npy_3</td>\n",
       "      <td>0</td>\n",
       "      <td>Syt6</td>\n",
       "    </tr>\n",
       "    <tr>\n",
       "      <th>...</th>\n",
       "      <td>...</td>\n",
       "      <td>...</td>\n",
       "      <td>...</td>\n",
       "    </tr>\n",
       "    <tr>\n",
       "      <th>36867</th>\n",
       "      <td>Ex_Ebf2_Prox1_Pou4f3</td>\n",
       "      <td>7</td>\n",
       "      <td>Trhr</td>\n",
       "    </tr>\n",
       "    <tr>\n",
       "      <th>37890</th>\n",
       "      <td>Inh_Lhx1_Otx2_1</td>\n",
       "      <td>7</td>\n",
       "      <td>Ankfn1</td>\n",
       "    </tr>\n",
       "    <tr>\n",
       "      <th>38645</th>\n",
       "      <td>Ex_Pou4f1_Plscr5_1</td>\n",
       "      <td>7</td>\n",
       "      <td>Dpf3</td>\n",
       "    </tr>\n",
       "    <tr>\n",
       "      <th>42880</th>\n",
       "      <td>Inh_Lhx1_Otx2_1</td>\n",
       "      <td>8</td>\n",
       "      <td>Dcdc2a</td>\n",
       "    </tr>\n",
       "    <tr>\n",
       "      <th>47870</th>\n",
       "      <td>Inh_Lhx1_Otx2_1</td>\n",
       "      <td>9</td>\n",
       "      <td>Zfp521</td>\n",
       "    </tr>\n",
       "  </tbody>\n",
       "</table>\n",
       "<p>16383 rows × 3 columns</p>\n",
       "</div>"
      ],
      "text/plain": [
       "            Macosko_cluster order    gene\n",
       "0          Ex_Gbx2_Adam18_2     0     Sp9\n",
       "1           Inh_Pax7_Hpse_2     0  Pde11a\n",
       "3         Ex_Pitx2_Zbtb7c_3     0   Kcnq5\n",
       "4        Inh_Gata3_Gxylt2_5     0     Ltk\n",
       "5            Inh_Lhx6_Npy_3     0    Syt6\n",
       "...                     ...   ...     ...\n",
       "36867  Ex_Ebf2_Prox1_Pou4f3     7    Trhr\n",
       "37890       Inh_Lhx1_Otx2_1     7  Ankfn1\n",
       "38645    Ex_Pou4f1_Plscr5_1     7    Dpf3\n",
       "42880       Inh_Lhx1_Otx2_1     8  Dcdc2a\n",
       "47870       Inh_Lhx1_Otx2_1     9  Zfp521\n",
       "\n",
       "[16383 rows x 3 columns]"
      ]
     },
     "execution_count": 17,
     "metadata": {},
     "output_type": "execute_result"
    }
   ],
   "source": [
    "Macosko_markers"
   ]
  },
  {
   "cell_type": "code",
   "execution_count": 18,
   "id": "f762b94f",
   "metadata": {},
   "outputs": [],
   "source": [
    "all_clusters_Zeng = cluster_annotations.cl.tolist()"
   ]
  },
  {
   "cell_type": "code",
   "execution_count": 19,
   "id": "095345cc",
   "metadata": {},
   "outputs": [],
   "source": [
    "#make dict for cluster markers and cells in cluster\n",
    "cluster_marker_dict_Zeng = dict()\n",
    "cluster_marker_dict_Zeng_union_filtered = dict()\n",
    "for cluster in all_clusters_Zeng:\n",
    "    #get markers \n",
    "    cluster_markers = cluster_annotations[cluster_annotations.cl == int(cluster)][['cluster.markers']].iloc[0,0]\n",
    "    if pd.isna(cluster_markers):\n",
    "        continue\n",
    "    cluster_markers = cluster_markers.split(',')\n",
    "    cluster_markers = list(set(cluster_markers).intersection(combined_universe_of_markers))\n",
    "    cluster_marker_dict_Zeng_union_filtered[str(cluster)] = cluster_markers\n",
    "    cluster_markers = list(set(cluster_markers).intersection(intersection_of_markers))\n",
    "    if len(cluster_markers) == 0:\n",
    "        continue\n",
    "    cluster_marker_dict_Zeng[str(cluster)] = cluster_markers"
   ]
  },
  {
   "cell_type": "code",
   "execution_count": 20,
   "id": "d51b3c39",
   "metadata": {},
   "outputs": [
    {
     "data": {
      "text/plain": [
       "5189"
      ]
     },
     "execution_count": 20,
     "metadata": {},
     "output_type": "execute_result"
    }
   ],
   "source": [
    "len(cluster_marker_dict_Zeng)"
   ]
  },
  {
   "cell_type": "code",
   "execution_count": null,
   "id": "94450f35",
   "metadata": {},
   "outputs": [],
   "source": []
  },
  {
   "cell_type": "code",
   "execution_count": 21,
   "id": "3674d875",
   "metadata": {},
   "outputs": [],
   "source": [
    "all_clusters_Macosko = Macosko_markers.Macosko_cluster.tolist()\n",
    "cluster_marker_dict_Macosko = dict()\n",
    "cluster_marker_dict_Macosko_union_filtered = dict()\n",
    "for cluster in all_clusters_Macosko:\n",
    "    #get markers \n",
    "    cluster_markers = Macosko_markers[Macosko_markers.Macosko_cluster == cluster].gene.tolist()\n",
    "    cluster_markers = list(set(cluster_markers).intersection(combined_universe_of_markers))\n",
    "    cluster_marker_dict_Macosko_union_filtered[str(cluster)] = cluster_markers\n",
    "    cluster_markers = list(set(cluster_markers).intersection(intersection_of_markers))\n",
    "    if len(cluster_markers) == 0:\n",
    "        continue\n",
    "    cluster_marker_dict_Macosko[cluster] = cluster_markers"
   ]
  },
  {
   "cell_type": "code",
   "execution_count": 22,
   "id": "d7634538",
   "metadata": {},
   "outputs": [
    {
     "data": {
      "text/plain": [
       "4583"
      ]
     },
     "execution_count": 22,
     "metadata": {},
     "output_type": "execute_result"
    }
   ],
   "source": [
    "len(cluster_marker_dict_Macosko)"
   ]
  },
  {
   "cell_type": "code",
   "execution_count": 66,
   "id": "07166063",
   "metadata": {},
   "outputs": [],
   "source": [
    "cluster_marker_dict_long_Macosko = pd.DataFrame([(k, v) for k, vs in cluster_marker_dict_Macosko.items() for v in vs], columns=['cluster', 'gene_symbol'])\n",
    "\n",
    "# Create a new DataFrame with 1s where the values match\n",
    "cluster_marker_dict_table_Macosko = cluster_marker_dict_long_Macosko.pivot_table(index='cluster', columns='gene_symbol', aggfunc='size', fill_value=0)\n"
   ]
  },
  {
   "cell_type": "code",
   "execution_count": 67,
   "id": "1bc8bbc6",
   "metadata": {},
   "outputs": [
    {
     "data": {
      "text/plain": [
       "(4583, 1578)"
      ]
     },
     "execution_count": 67,
     "metadata": {},
     "output_type": "execute_result"
    }
   ],
   "source": [
    "cluster_marker_dict_table_Macosko.shape"
   ]
  },
  {
   "cell_type": "code",
   "execution_count": 68,
   "id": "855457cf",
   "metadata": {},
   "outputs": [
    {
     "data": {
      "text/plain": [
       "(14240, 2)"
      ]
     },
     "execution_count": 68,
     "metadata": {},
     "output_type": "execute_result"
    }
   ],
   "source": [
    "cluster_marker_dict_long_Macosko.shape"
   ]
  },
  {
   "cell_type": "code",
   "execution_count": 79,
   "id": "ed1a0c86",
   "metadata": {},
   "outputs": [],
   "source": [
    "cluster_marker_dict_long_Zeng = pd.DataFrame([(k, v) for k, vs in cluster_marker_dict_Zeng.items() for v in vs], columns=['cluster', 'gene_symbol'])\n",
    "\n",
    "# Create a new DataFrame with 1s where the values match\n",
    "cluster_marker_dict_table_Zeng = cluster_marker_dict_long_Zeng.pivot_table(index='cluster', columns='gene_symbol', aggfunc='size', fill_value=0)\n",
    "\n"
   ]
  },
  {
   "cell_type": "code",
   "execution_count": 80,
   "id": "f3cd7ac2",
   "metadata": {},
   "outputs": [
    {
     "data": {
      "text/plain": [
       "(5189, 1578)"
      ]
     },
     "execution_count": 80,
     "metadata": {},
     "output_type": "execute_result"
    }
   ],
   "source": [
    "cluster_marker_dict_table_Zeng.shape"
   ]
  },
  {
   "cell_type": "code",
   "execution_count": 81,
   "id": "d066bd69",
   "metadata": {},
   "outputs": [
    {
     "data": {
      "text/plain": [
       "(5189, 1578)"
      ]
     },
     "execution_count": 81,
     "metadata": {},
     "output_type": "execute_result"
    }
   ],
   "source": [
    "cluster_marker_dict_table_Zeng.shape"
   ]
  },
  {
   "cell_type": "code",
   "execution_count": 82,
   "id": "d759bd58",
   "metadata": {},
   "outputs": [
    {
     "data": {
      "text/plain": [
       "1"
      ]
     },
     "execution_count": 82,
     "metadata": {},
     "output_type": "execute_result"
    }
   ],
   "source": [
    "cluster_marker_dict_table_Zeng.max().max()"
   ]
  },
  {
   "cell_type": "code",
   "execution_count": 83,
   "id": "d48bcdde",
   "metadata": {},
   "outputs": [
    {
     "data": {
      "text/plain": [
       "(4583, 1578)"
      ]
     },
     "execution_count": 83,
     "metadata": {},
     "output_type": "execute_result"
    }
   ],
   "source": [
    "cluster_marker_dict_table_Macosko.shape"
   ]
  },
  {
   "cell_type": "code",
   "execution_count": 84,
   "id": "a1d6367f",
   "metadata": {},
   "outputs": [
    {
     "data": {
      "text/plain": [
       "1"
      ]
     },
     "execution_count": 84,
     "metadata": {},
     "output_type": "execute_result"
    }
   ],
   "source": [
    "cluster_marker_dict_table_Macosko.max().max()"
   ]
  },
  {
   "cell_type": "code",
   "execution_count": 85,
   "id": "515d00e1",
   "metadata": {},
   "outputs": [],
   "source": [
    "intersections = cluster_marker_dict_table_Zeng @ cluster_marker_dict_table_Macosko.T"
   ]
  },
  {
   "cell_type": "code",
   "execution_count": 86,
   "id": "a6166e05",
   "metadata": {},
   "outputs": [
    {
     "data": {
      "text/plain": [
       "(5189, 4583)"
      ]
     },
     "execution_count": 86,
     "metadata": {},
     "output_type": "execute_result"
    }
   ],
   "source": [
    "intersections.shape"
   ]
  },
  {
   "cell_type": "code",
   "execution_count": 87,
   "id": "c1106db7",
   "metadata": {},
   "outputs": [
    {
     "data": {
      "text/plain": [
       "1.2633646083351517"
      ]
     },
     "execution_count": 87,
     "metadata": {},
     "output_type": "execute_result"
    }
   ],
   "source": [
    "Macosko_max_mean = intersections.max().mean()\n",
    "Macosko_max_mean"
   ]
  },
  {
   "cell_type": "code",
   "execution_count": 88,
   "id": "7b081c43",
   "metadata": {},
   "outputs": [
    {
     "data": {
      "text/plain": [
       "1.2272114087492774"
      ]
     },
     "execution_count": 88,
     "metadata": {},
     "output_type": "execute_result"
    }
   ],
   "source": [
    "Zeng_max_mean = intersections.max(axis=1).mean()\n",
    "Zeng_max_mean"
   ]
  },
  {
   "cell_type": "code",
   "execution_count": 89,
   "id": "ca96096f",
   "metadata": {},
   "outputs": [
    {
     "data": {
      "text/plain": [
       "1826"
      ]
     },
     "execution_count": 89,
     "metadata": {},
     "output_type": "execute_result"
    }
   ],
   "source": [
    "greater_than_one_overlap = (intersections >1).sum().sum()\n",
    "greater_than_one_overlap"
   ]
  },
  {
   "cell_type": "code",
   "execution_count": 90,
   "id": "a39ffe88",
   "metadata": {},
   "outputs": [
    {
     "data": {
      "text/plain": [
       "30"
      ]
     },
     "execution_count": 90,
     "metadata": {},
     "output_type": "execute_result"
    }
   ],
   "source": [
    "greater_than_two_overlap = (intersections >2).sum().sum()\n",
    "greater_than_two_overlap"
   ]
  },
  {
   "cell_type": "code",
   "execution_count": 91,
   "id": "f8ee2cd2",
   "metadata": {},
   "outputs": [
    {
     "data": {
      "text/plain": [
       "284431"
      ]
     },
     "execution_count": 91,
     "metadata": {},
     "output_type": "execute_result"
    }
   ],
   "source": [
    "(intersections >0).sum().sum()"
   ]
  },
  {
   "cell_type": "code",
   "execution_count": 92,
   "id": "06b8bc80",
   "metadata": {},
   "outputs": [
    {
     "data": {
      "text/plain": [
       "23496756"
      ]
     },
     "execution_count": 92,
     "metadata": {},
     "output_type": "execute_result"
    }
   ],
   "source": [
    "(intersections == 0).sum().sum()"
   ]
  },
  {
   "cell_type": "code",
   "execution_count": null,
   "id": "f8a05966",
   "metadata": {},
   "outputs": [],
   "source": []
  },
  {
   "cell_type": "code",
   "execution_count": null,
   "id": "f085fa78",
   "metadata": {},
   "outputs": [],
   "source": [
    "#how many parameter sets for each cluster test - use a lookup table? cache?"
   ]
  },
  {
   "cell_type": "code",
   "execution_count": null,
   "id": "2958c9f9",
   "metadata": {},
   "outputs": [],
   "source": [
    "#need to iterate each cell and get a p-value. Skip entries with value of one and zero? "
   ]
  },
  {
   "cell_type": "code",
   "execution_count": null,
   "id": "b623a7dd",
   "metadata": {},
   "outputs": [],
   "source": [
    "#universe of genes is the shared whole genome! so 1/1 might be significant!"
   ]
  },
  {
   "cell_type": "code",
   "execution_count": null,
   "id": "ec6ac475",
   "metadata": {},
   "outputs": [],
   "source": [
    "#fuzzy adjusted rand index or omega index could work on the whole matrix"
   ]
  },
  {
   "cell_type": "code",
   "execution_count": null,
   "id": "c89236f3",
   "metadata": {},
   "outputs": [],
   "source": [
    "#need cluster sizes without intersection"
   ]
  },
  {
   "cell_type": "code",
   "execution_count": 102,
   "id": "7f9869af",
   "metadata": {},
   "outputs": [],
   "source": [
    "#make dict for cluster markers and cells in cluster\n",
    "length_dict_Zeng = dict()\n",
    "for cluster in all_clusters_Zeng:\n",
    "    #get markers \n",
    "    cluster_markers = cluster_annotations[cluster_annotations.cl == int(cluster)][['cluster.markers']].iloc[0,0]\n",
    "    if pd.isna(cluster_markers):\n",
    "        continue\n",
    "    cluster_markers = cluster_markers.split(',')\n",
    "    cluster_markers = list(set(cluster_markers).intersection(combined_universe_of_markers))\n",
    "    length_dict_Zeng[str(cluster)] = len(cluster_markers)\n"
   ]
  },
  {
   "cell_type": "code",
   "execution_count": 103,
   "id": "1dd5c2fc",
   "metadata": {},
   "outputs": [
    {
     "data": {
      "text/plain": [
       "15803"
      ]
     },
     "execution_count": 103,
     "metadata": {},
     "output_type": "execute_result"
    }
   ],
   "source": [
    "sum(length_dict_Zeng.values())"
   ]
  },
  {
   "cell_type": "code",
   "execution_count": 104,
   "id": "70efb787",
   "metadata": {},
   "outputs": [
    {
     "data": {
      "text/plain": [
       "3309"
      ]
     },
     "execution_count": 104,
     "metadata": {},
     "output_type": "execute_result"
    }
   ],
   "source": [
    "len(combined_universe_of_markers)"
   ]
  },
  {
   "cell_type": "code",
   "execution_count": 105,
   "id": "cd0d3a96",
   "metadata": {},
   "outputs": [],
   "source": [
    "length_dict_Macosko = dict()\n",
    "for cluster in all_clusters_Macosko:\n",
    "    #get markers \n",
    "    cluster_markers = Macosko_markers[Macosko_markers.Macosko_cluster == cluster].gene.tolist()\n",
    "    cluster_markers = list(set(cluster_markers).intersection(combined_universe_of_markers))\n",
    "    length_dict_Macosko[cluster] = len(cluster_markers)"
   ]
  },
  {
   "cell_type": "code",
   "execution_count": null,
   "id": "21608d34",
   "metadata": {},
   "outputs": [],
   "source": []
  },
  {
   "cell_type": "code",
   "execution_count": null,
   "id": "cd75cb03",
   "metadata": {},
   "outputs": [],
   "source": [
    "#iterate each cell in the matrix and put it in a p-value matrix"
   ]
  },
  {
   "cell_type": "code",
   "execution_count": 97,
   "id": "2bc6c28f",
   "metadata": {},
   "outputs": [],
   "source": [
    "@lru_cache(maxsize=None)\n",
    "def hypergeom_test(total_population, total_successes, sample_size, successes_in_sample):\n",
    "    # Compute the hypergeometric test\n",
    "    p_value = hypergeom.sf(successes_in_sample - 1, total_population, total_successes, sample_size)\n",
    "    return p_value"
   ]
  },
  {
   "cell_type": "code",
   "execution_count": null,
   "id": "ec7a3911",
   "metadata": {},
   "outputs": [],
   "source": []
  },
  {
   "cell_type": "code",
   "execution_count": 98,
   "id": "a346384f",
   "metadata": {},
   "outputs": [
    {
     "data": {
      "text/plain": [
       "(5189, 4583)"
      ]
     },
     "execution_count": 98,
     "metadata": {},
     "output_type": "execute_result"
    }
   ],
   "source": [
    "intersections.shape"
   ]
  },
  {
   "cell_type": "code",
   "execution_count": 99,
   "id": "b521f4a3",
   "metadata": {},
   "outputs": [],
   "source": [
    "hyper_p_values = pd.DataFrame(index=intersections.index, columns=intersections.columns).fillna(pd.NA)"
   ]
  },
  {
   "cell_type": "code",
   "execution_count": null,
   "id": "b4430627",
   "metadata": {},
   "outputs": [],
   "source": [
    "#hyper_p_values= hyper_p_values.iloc[1:500,1:200]"
   ]
  },
  {
   "cell_type": "code",
   "execution_count": 100,
   "id": "fa2f640c",
   "metadata": {},
   "outputs": [],
   "source": [
    "intersections_test = intersections #.iloc[1:500,1:200]"
   ]
  },
  {
   "cell_type": "code",
   "execution_count": 106,
   "id": "6695d96e",
   "metadata": {},
   "outputs": [
    {
     "name": "stdout",
     "output_type": "stream",
     "text": [
      "CPU times: user 3min 1s, sys: 57.9 ms, total: 3min 1s\n",
      "Wall time: 3min 1s\n"
     ]
    }
   ],
   "source": [
    "%%time\n",
    "total_population = 21205 #universe of all genes\n",
    "for index, row in intersections_test.iterrows():\n",
    "    # index is the row index\n",
    "    # row is a Series representing the row\n",
    "    Zeng_marker_size = length_dict_Zeng[index]\n",
    "#    if pd.isna(Zeng_marker_size):\n",
    "#        continue\n",
    "    for column, intersect_size in row.items():\n",
    "        Mac_marker_size = length_dict_Macosko[column]\n",
    "        #use the memoized version\n",
    "        hyper_p_values.at[index, column] = hypergeom_test(total_population, Mac_marker_size, Zeng_marker_size, intersect_size)\n"
   ]
  },
  {
   "cell_type": "code",
   "execution_count": 109,
   "id": "51d5e199",
   "metadata": {},
   "outputs": [
    {
     "data": {
      "text/plain": [
       "(5189, 4583)"
      ]
     },
     "execution_count": 109,
     "metadata": {},
     "output_type": "execute_result"
    }
   ],
   "source": [
    "hyper_p_values.shape"
   ]
  },
  {
   "cell_type": "code",
   "execution_count": 110,
   "id": "bfbb1430",
   "metadata": {},
   "outputs": [],
   "source": [
    "num_tests = intersections.shape[0] * intersections.shape[1]"
   ]
  },
  {
   "cell_type": "code",
   "execution_count": 111,
   "id": "b05a82df",
   "metadata": {},
   "outputs": [
    {
     "data": {
      "text/plain": [
       "30"
      ]
     },
     "execution_count": 111,
     "metadata": {},
     "output_type": "execute_result"
    }
   ],
   "source": [
    "(hyper_p_values * num_tests < 0.05).sum().sum()"
   ]
  },
  {
   "cell_type": "code",
   "execution_count": 112,
   "id": "1b5b7fba",
   "metadata": {},
   "outputs": [
    {
     "data": {
      "text/plain": [
       "1826"
      ]
     },
     "execution_count": 112,
     "metadata": {},
     "output_type": "execute_result"
    }
   ],
   "source": [
    "(hyper_p_values * hyper_p_values.shape[0] < 0.05).sum().sum()"
   ]
  },
  {
   "cell_type": "code",
   "execution_count": 113,
   "id": "1b7f0bd4",
   "metadata": {},
   "outputs": [
    {
     "data": {
      "text/plain": [
       "1826"
      ]
     },
     "execution_count": 113,
     "metadata": {},
     "output_type": "execute_result"
    }
   ],
   "source": [
    "(hyper_p_values * hyper_p_values.shape[1] < 0.05).sum().sum()"
   ]
  },
  {
   "cell_type": "code",
   "execution_count": 114,
   "id": "c0643c5e",
   "metadata": {},
   "outputs": [
    {
     "data": {
      "text/html": [
       "<div>\n",
       "<style scoped>\n",
       "    .dataframe tbody tr th:only-of-type {\n",
       "        vertical-align: middle;\n",
       "    }\n",
       "\n",
       "    .dataframe tbody tr th {\n",
       "        vertical-align: top;\n",
       "    }\n",
       "\n",
       "    .dataframe thead th {\n",
       "        text-align: right;\n",
       "    }\n",
       "</style>\n",
       "<table border=\"1\" class=\"dataframe\">\n",
       "  <thead>\n",
       "    <tr style=\"text-align: right;\">\n",
       "      <th>cluster</th>\n",
       "      <th>cluster</th>\n",
       "      <th>Astro_Agt_Sntg1</th>\n",
       "      <th>Astro_Emid1_Cd38</th>\n",
       "      <th>Astro_Emid1_Gdf10</th>\n",
       "      <th>Astro_Ephb1_Fzd2</th>\n",
       "      <th>Astro_Ephb1_Gfap</th>\n",
       "      <th>Astro_Fabp7_Hs3st3a1_1</th>\n",
       "      <th>Astro_Fabp7_Hs3st3a1_2</th>\n",
       "      <th>Astro_Fabp7_Hs3st3a1_3</th>\n",
       "      <th>Astro_Fabp7_Hs3st3a1_4</th>\n",
       "      <th>...</th>\n",
       "      <th>Ser_Fev_Chodl</th>\n",
       "      <th>Ser_Fev_Oas1e</th>\n",
       "      <th>Ser_Fev_Pth2r</th>\n",
       "      <th>Ser_Fev_Samd9l</th>\n",
       "      <th>Ser_Fev_Siglec15</th>\n",
       "      <th>Ser_Fev_Wfdc12</th>\n",
       "      <th>Ser_Nkx6-1_Trh</th>\n",
       "      <th>Tanycyte_Rax_Ccdc170</th>\n",
       "      <th>Tanycyte_Rax_Fndc3c1_1</th>\n",
       "      <th>Tanycyte_Rax_Fndc3c1_2</th>\n",
       "    </tr>\n",
       "  </thead>\n",
       "  <tbody>\n",
       "    <tr>\n",
       "      <th>0</th>\n",
       "      <td>1</td>\n",
       "      <td>1.0</td>\n",
       "      <td>1.0</td>\n",
       "      <td>1.0</td>\n",
       "      <td>1.0</td>\n",
       "      <td>1.0</td>\n",
       "      <td>1.0</td>\n",
       "      <td>1.0</td>\n",
       "      <td>1.0</td>\n",
       "      <td>1.0</td>\n",
       "      <td>...</td>\n",
       "      <td>1.0</td>\n",
       "      <td>1.0</td>\n",
       "      <td>1.0</td>\n",
       "      <td>1.0</td>\n",
       "      <td>1.0</td>\n",
       "      <td>1.0</td>\n",
       "      <td>1.0</td>\n",
       "      <td>1.0</td>\n",
       "      <td>1.0</td>\n",
       "      <td>1.0</td>\n",
       "    </tr>\n",
       "    <tr>\n",
       "      <th>1</th>\n",
       "      <td>10</td>\n",
       "      <td>1.0</td>\n",
       "      <td>1.0</td>\n",
       "      <td>1.0</td>\n",
       "      <td>1.0</td>\n",
       "      <td>1.0</td>\n",
       "      <td>1.0</td>\n",
       "      <td>1.0</td>\n",
       "      <td>1.0</td>\n",
       "      <td>1.0</td>\n",
       "      <td>...</td>\n",
       "      <td>1.0</td>\n",
       "      <td>1.0</td>\n",
       "      <td>1.0</td>\n",
       "      <td>1.0</td>\n",
       "      <td>1.0</td>\n",
       "      <td>1.0</td>\n",
       "      <td>1.0</td>\n",
       "      <td>1.0</td>\n",
       "      <td>1.0</td>\n",
       "      <td>1.0</td>\n",
       "    </tr>\n",
       "    <tr>\n",
       "      <th>2</th>\n",
       "      <td>100</td>\n",
       "      <td>1.0</td>\n",
       "      <td>1.0</td>\n",
       "      <td>1.0</td>\n",
       "      <td>1.0</td>\n",
       "      <td>1.0</td>\n",
       "      <td>1.0</td>\n",
       "      <td>1.0</td>\n",
       "      <td>1.0</td>\n",
       "      <td>1.0</td>\n",
       "      <td>...</td>\n",
       "      <td>1.0</td>\n",
       "      <td>1.0</td>\n",
       "      <td>1.0</td>\n",
       "      <td>1.0</td>\n",
       "      <td>1.0</td>\n",
       "      <td>1.0</td>\n",
       "      <td>1.0</td>\n",
       "      <td>1.0</td>\n",
       "      <td>1.0</td>\n",
       "      <td>1.0</td>\n",
       "    </tr>\n",
       "    <tr>\n",
       "      <th>3</th>\n",
       "      <td>1000</td>\n",
       "      <td>1.0</td>\n",
       "      <td>1.0</td>\n",
       "      <td>1.0</td>\n",
       "      <td>1.0</td>\n",
       "      <td>1.0</td>\n",
       "      <td>1.0</td>\n",
       "      <td>1.0</td>\n",
       "      <td>1.0</td>\n",
       "      <td>1.0</td>\n",
       "      <td>...</td>\n",
       "      <td>1.0</td>\n",
       "      <td>1.0</td>\n",
       "      <td>1.0</td>\n",
       "      <td>1.0</td>\n",
       "      <td>1.0</td>\n",
       "      <td>1.0</td>\n",
       "      <td>1.0</td>\n",
       "      <td>1.0</td>\n",
       "      <td>1.0</td>\n",
       "      <td>1.0</td>\n",
       "    </tr>\n",
       "    <tr>\n",
       "      <th>4</th>\n",
       "      <td>1001</td>\n",
       "      <td>1.0</td>\n",
       "      <td>1.0</td>\n",
       "      <td>1.0</td>\n",
       "      <td>1.0</td>\n",
       "      <td>1.0</td>\n",
       "      <td>1.0</td>\n",
       "      <td>1.0</td>\n",
       "      <td>1.0</td>\n",
       "      <td>1.0</td>\n",
       "      <td>...</td>\n",
       "      <td>1.0</td>\n",
       "      <td>1.0</td>\n",
       "      <td>1.0</td>\n",
       "      <td>1.0</td>\n",
       "      <td>1.0</td>\n",
       "      <td>1.0</td>\n",
       "      <td>1.0</td>\n",
       "      <td>1.0</td>\n",
       "      <td>1.0</td>\n",
       "      <td>1.0</td>\n",
       "    </tr>\n",
       "    <tr>\n",
       "      <th>...</th>\n",
       "      <td>...</td>\n",
       "      <td>...</td>\n",
       "      <td>...</td>\n",
       "      <td>...</td>\n",
       "      <td>...</td>\n",
       "      <td>...</td>\n",
       "      <td>...</td>\n",
       "      <td>...</td>\n",
       "      <td>...</td>\n",
       "      <td>...</td>\n",
       "      <td>...</td>\n",
       "      <td>...</td>\n",
       "      <td>...</td>\n",
       "      <td>...</td>\n",
       "      <td>...</td>\n",
       "      <td>...</td>\n",
       "      <td>...</td>\n",
       "      <td>...</td>\n",
       "      <td>...</td>\n",
       "      <td>...</td>\n",
       "      <td>...</td>\n",
       "    </tr>\n",
       "    <tr>\n",
       "      <th>5184</th>\n",
       "      <td>995</td>\n",
       "      <td>1.0</td>\n",
       "      <td>1.0</td>\n",
       "      <td>1.0</td>\n",
       "      <td>1.0</td>\n",
       "      <td>1.0</td>\n",
       "      <td>1.0</td>\n",
       "      <td>1.0</td>\n",
       "      <td>1.0</td>\n",
       "      <td>1.0</td>\n",
       "      <td>...</td>\n",
       "      <td>1.0</td>\n",
       "      <td>1.0</td>\n",
       "      <td>1.0</td>\n",
       "      <td>1.0</td>\n",
       "      <td>1.0</td>\n",
       "      <td>1.0</td>\n",
       "      <td>1.0</td>\n",
       "      <td>1.0</td>\n",
       "      <td>1.0</td>\n",
       "      <td>1.0</td>\n",
       "    </tr>\n",
       "    <tr>\n",
       "      <th>5185</th>\n",
       "      <td>996</td>\n",
       "      <td>1.0</td>\n",
       "      <td>1.0</td>\n",
       "      <td>1.0</td>\n",
       "      <td>1.0</td>\n",
       "      <td>1.0</td>\n",
       "      <td>1.0</td>\n",
       "      <td>1.0</td>\n",
       "      <td>1.0</td>\n",
       "      <td>1.0</td>\n",
       "      <td>...</td>\n",
       "      <td>1.0</td>\n",
       "      <td>1.0</td>\n",
       "      <td>1.0</td>\n",
       "      <td>1.0</td>\n",
       "      <td>1.0</td>\n",
       "      <td>1.0</td>\n",
       "      <td>1.0</td>\n",
       "      <td>1.0</td>\n",
       "      <td>1.0</td>\n",
       "      <td>1.0</td>\n",
       "    </tr>\n",
       "    <tr>\n",
       "      <th>5186</th>\n",
       "      <td>997</td>\n",
       "      <td>1.0</td>\n",
       "      <td>1.0</td>\n",
       "      <td>1.0</td>\n",
       "      <td>1.0</td>\n",
       "      <td>1.0</td>\n",
       "      <td>1.0</td>\n",
       "      <td>1.0</td>\n",
       "      <td>1.0</td>\n",
       "      <td>1.0</td>\n",
       "      <td>...</td>\n",
       "      <td>1.0</td>\n",
       "      <td>1.0</td>\n",
       "      <td>1.0</td>\n",
       "      <td>1.0</td>\n",
       "      <td>1.0</td>\n",
       "      <td>1.0</td>\n",
       "      <td>1.0</td>\n",
       "      <td>1.0</td>\n",
       "      <td>1.0</td>\n",
       "      <td>1.0</td>\n",
       "    </tr>\n",
       "    <tr>\n",
       "      <th>5187</th>\n",
       "      <td>998</td>\n",
       "      <td>1.0</td>\n",
       "      <td>1.0</td>\n",
       "      <td>1.0</td>\n",
       "      <td>1.0</td>\n",
       "      <td>1.0</td>\n",
       "      <td>1.0</td>\n",
       "      <td>1.0</td>\n",
       "      <td>1.0</td>\n",
       "      <td>1.0</td>\n",
       "      <td>...</td>\n",
       "      <td>1.0</td>\n",
       "      <td>1.0</td>\n",
       "      <td>1.0</td>\n",
       "      <td>1.0</td>\n",
       "      <td>1.0</td>\n",
       "      <td>1.0</td>\n",
       "      <td>1.0</td>\n",
       "      <td>1.0</td>\n",
       "      <td>1.0</td>\n",
       "      <td>1.0</td>\n",
       "    </tr>\n",
       "    <tr>\n",
       "      <th>5188</th>\n",
       "      <td>999</td>\n",
       "      <td>1.0</td>\n",
       "      <td>1.0</td>\n",
       "      <td>1.0</td>\n",
       "      <td>1.0</td>\n",
       "      <td>1.0</td>\n",
       "      <td>1.0</td>\n",
       "      <td>1.0</td>\n",
       "      <td>1.0</td>\n",
       "      <td>1.0</td>\n",
       "      <td>...</td>\n",
       "      <td>1.0</td>\n",
       "      <td>1.0</td>\n",
       "      <td>1.0</td>\n",
       "      <td>1.0</td>\n",
       "      <td>1.0</td>\n",
       "      <td>1.0</td>\n",
       "      <td>1.0</td>\n",
       "      <td>1.0</td>\n",
       "      <td>1.0</td>\n",
       "      <td>1.0</td>\n",
       "    </tr>\n",
       "  </tbody>\n",
       "</table>\n",
       "<p>5189 rows × 4584 columns</p>\n",
       "</div>"
      ],
      "text/plain": [
       "cluster cluster Astro_Agt_Sntg1 Astro_Emid1_Cd38 Astro_Emid1_Gdf10  \\\n",
       "0             1             1.0              1.0               1.0   \n",
       "1            10             1.0              1.0               1.0   \n",
       "2           100             1.0              1.0               1.0   \n",
       "3          1000             1.0              1.0               1.0   \n",
       "4          1001             1.0              1.0               1.0   \n",
       "...         ...             ...              ...               ...   \n",
       "5184        995             1.0              1.0               1.0   \n",
       "5185        996             1.0              1.0               1.0   \n",
       "5186        997             1.0              1.0               1.0   \n",
       "5187        998             1.0              1.0               1.0   \n",
       "5188        999             1.0              1.0               1.0   \n",
       "\n",
       "cluster Astro_Ephb1_Fzd2 Astro_Ephb1_Gfap Astro_Fabp7_Hs3st3a1_1  \\\n",
       "0                    1.0              1.0                    1.0   \n",
       "1                    1.0              1.0                    1.0   \n",
       "2                    1.0              1.0                    1.0   \n",
       "3                    1.0              1.0                    1.0   \n",
       "4                    1.0              1.0                    1.0   \n",
       "...                  ...              ...                    ...   \n",
       "5184                 1.0              1.0                    1.0   \n",
       "5185                 1.0              1.0                    1.0   \n",
       "5186                 1.0              1.0                    1.0   \n",
       "5187                 1.0              1.0                    1.0   \n",
       "5188                 1.0              1.0                    1.0   \n",
       "\n",
       "cluster Astro_Fabp7_Hs3st3a1_2 Astro_Fabp7_Hs3st3a1_3 Astro_Fabp7_Hs3st3a1_4  \\\n",
       "0                          1.0                    1.0                    1.0   \n",
       "1                          1.0                    1.0                    1.0   \n",
       "2                          1.0                    1.0                    1.0   \n",
       "3                          1.0                    1.0                    1.0   \n",
       "4                          1.0                    1.0                    1.0   \n",
       "...                        ...                    ...                    ...   \n",
       "5184                       1.0                    1.0                    1.0   \n",
       "5185                       1.0                    1.0                    1.0   \n",
       "5186                       1.0                    1.0                    1.0   \n",
       "5187                       1.0                    1.0                    1.0   \n",
       "5188                       1.0                    1.0                    1.0   \n",
       "\n",
       "cluster  ... Ser_Fev_Chodl Ser_Fev_Oas1e Ser_Fev_Pth2r Ser_Fev_Samd9l  \\\n",
       "0        ...           1.0           1.0           1.0            1.0   \n",
       "1        ...           1.0           1.0           1.0            1.0   \n",
       "2        ...           1.0           1.0           1.0            1.0   \n",
       "3        ...           1.0           1.0           1.0            1.0   \n",
       "4        ...           1.0           1.0           1.0            1.0   \n",
       "...      ...           ...           ...           ...            ...   \n",
       "5184     ...           1.0           1.0           1.0            1.0   \n",
       "5185     ...           1.0           1.0           1.0            1.0   \n",
       "5186     ...           1.0           1.0           1.0            1.0   \n",
       "5187     ...           1.0           1.0           1.0            1.0   \n",
       "5188     ...           1.0           1.0           1.0            1.0   \n",
       "\n",
       "cluster Ser_Fev_Siglec15 Ser_Fev_Wfdc12 Ser_Nkx6-1_Trh Tanycyte_Rax_Ccdc170  \\\n",
       "0                    1.0            1.0            1.0                  1.0   \n",
       "1                    1.0            1.0            1.0                  1.0   \n",
       "2                    1.0            1.0            1.0                  1.0   \n",
       "3                    1.0            1.0            1.0                  1.0   \n",
       "4                    1.0            1.0            1.0                  1.0   \n",
       "...                  ...            ...            ...                  ...   \n",
       "5184                 1.0            1.0            1.0                  1.0   \n",
       "5185                 1.0            1.0            1.0                  1.0   \n",
       "5186                 1.0            1.0            1.0                  1.0   \n",
       "5187                 1.0            1.0            1.0                  1.0   \n",
       "5188                 1.0            1.0            1.0                  1.0   \n",
       "\n",
       "cluster Tanycyte_Rax_Fndc3c1_1 Tanycyte_Rax_Fndc3c1_2  \n",
       "0                          1.0                    1.0  \n",
       "1                          1.0                    1.0  \n",
       "2                          1.0                    1.0  \n",
       "3                          1.0                    1.0  \n",
       "4                          1.0                    1.0  \n",
       "...                        ...                    ...  \n",
       "5184                       1.0                    1.0  \n",
       "5185                       1.0                    1.0  \n",
       "5186                       1.0                    1.0  \n",
       "5187                       1.0                    1.0  \n",
       "5188                       1.0                    1.0  \n",
       "\n",
       "[5189 rows x 4584 columns]"
      ]
     },
     "execution_count": 114,
     "metadata": {},
     "output_type": "execute_result"
    }
   ],
   "source": [
    "hyper_p_values.reset_index()"
   ]
  },
  {
   "cell_type": "code",
   "execution_count": 115,
   "id": "3d4d44a3",
   "metadata": {},
   "outputs": [],
   "source": [
    "hyper_p_values_melted = pd.melt(hyper_p_values.reset_index(), id_vars='cluster', var_name='Macosko_cluster', value_name='p_value')\n"
   ]
  },
  {
   "cell_type": "code",
   "execution_count": 116,
   "id": "de5f00e5",
   "metadata": {},
   "outputs": [
    {
     "data": {
      "text/html": [
       "<div>\n",
       "<style scoped>\n",
       "    .dataframe tbody tr th:only-of-type {\n",
       "        vertical-align: middle;\n",
       "    }\n",
       "\n",
       "    .dataframe tbody tr th {\n",
       "        vertical-align: top;\n",
       "    }\n",
       "\n",
       "    .dataframe thead th {\n",
       "        text-align: right;\n",
       "    }\n",
       "</style>\n",
       "<table border=\"1\" class=\"dataframe\">\n",
       "  <thead>\n",
       "    <tr style=\"text-align: right;\">\n",
       "      <th></th>\n",
       "      <th>cluster</th>\n",
       "      <th>Macosko_cluster</th>\n",
       "      <th>p_value</th>\n",
       "    </tr>\n",
       "  </thead>\n",
       "  <tbody>\n",
       "    <tr>\n",
       "      <th>795545</th>\n",
       "      <td>24472</td>\n",
       "      <td>Ex_C1ql2_Glp1r</td>\n",
       "      <td>0.0</td>\n",
       "    </tr>\n",
       "    <tr>\n",
       "      <th>1467579</th>\n",
       "      <td>4862</td>\n",
       "      <td>Ex_Dach2_Arhgap36_3</td>\n",
       "      <td>0.0</td>\n",
       "    </tr>\n",
       "    <tr>\n",
       "      <th>5167249</th>\n",
       "      <td>4780</td>\n",
       "      <td>Ex_Lhx9_Adgrg2_1</td>\n",
       "      <td>0.0</td>\n",
       "    </tr>\n",
       "    <tr>\n",
       "      <th>5201262</th>\n",
       "      <td>2614</td>\n",
       "      <td>Ex_Lhx9_C1ql4</td>\n",
       "      <td>0.0</td>\n",
       "    </tr>\n",
       "    <tr>\n",
       "      <th>6716171</th>\n",
       "      <td>2440</td>\n",
       "      <td>Ex_Nkx2-4_Calcr_2</td>\n",
       "      <td>0.0</td>\n",
       "    </tr>\n",
       "    <tr>\n",
       "      <th>7724474</th>\n",
       "      <td>3889</td>\n",
       "      <td>Ex_Phox2b_Adam33_3</td>\n",
       "      <td>0.0</td>\n",
       "    </tr>\n",
       "    <tr>\n",
       "      <th>8706430</th>\n",
       "      <td>5042</td>\n",
       "      <td>Ex_Plekhg1_Col27a1_Egflam_1</td>\n",
       "      <td>0.0</td>\n",
       "    </tr>\n",
       "    <tr>\n",
       "      <th>9110764</th>\n",
       "      <td>4667</td>\n",
       "      <td>Ex_Pou4f1_Plscr5_6</td>\n",
       "      <td>0.0</td>\n",
       "    </tr>\n",
       "    <tr>\n",
       "      <th>9850017</th>\n",
       "      <td>2143</td>\n",
       "      <td>Ex_Sim1_Bsx_1</td>\n",
       "      <td>0.0</td>\n",
       "    </tr>\n",
       "    <tr>\n",
       "      <th>10421516</th>\n",
       "      <td>2724</td>\n",
       "      <td>Ex_Skor1_Samd3_4</td>\n",
       "      <td>0.0</td>\n",
       "    </tr>\n",
       "    <tr>\n",
       "      <th>10696354</th>\n",
       "      <td>2559</td>\n",
       "      <td>Ex_Slc30a3_Trhr</td>\n",
       "      <td>0.0</td>\n",
       "    </tr>\n",
       "    <tr>\n",
       "      <th>11311180</th>\n",
       "      <td>4923</td>\n",
       "      <td>Ex_Tfap2b_Rxfp2_1</td>\n",
       "      <td>0.0</td>\n",
       "    </tr>\n",
       "    <tr>\n",
       "      <th>12056389</th>\n",
       "      <td>3041</td>\n",
       "      <td>Ex_Vsx2_Lhx4_2</td>\n",
       "      <td>0.0</td>\n",
       "    </tr>\n",
       "    <tr>\n",
       "      <th>12066774</th>\n",
       "      <td>3048</td>\n",
       "      <td>Ex_Vsx2_Lhx4_4</td>\n",
       "      <td>0.0</td>\n",
       "    </tr>\n",
       "    <tr>\n",
       "      <th>12510594</th>\n",
       "      <td>923</td>\n",
       "      <td>Inh_Clic4_Ano3_1</td>\n",
       "      <td>0.0</td>\n",
       "    </tr>\n",
       "    <tr>\n",
       "      <th>12980591</th>\n",
       "      <td>3502</td>\n",
       "      <td>Inh_Emx2_Irx4</td>\n",
       "      <td>0.0</td>\n",
       "    </tr>\n",
       "    <tr>\n",
       "      <th>13613266</th>\n",
       "      <td>3207</td>\n",
       "      <td>Inh_Foxp2_Sox2_3</td>\n",
       "      <td>0.0</td>\n",
       "    </tr>\n",
       "    <tr>\n",
       "      <th>13613278</th>\n",
       "      <td>3218</td>\n",
       "      <td>Inh_Foxp2_Sox2_3</td>\n",
       "      <td>0.0</td>\n",
       "    </tr>\n",
       "    <tr>\n",
       "      <th>14599200</th>\n",
       "      <td>3229</td>\n",
       "      <td>Inh_Gata3_Qrfprl_3</td>\n",
       "      <td>0.0</td>\n",
       "    </tr>\n",
       "    <tr>\n",
       "      <th>15502231</th>\n",
       "      <td>3367</td>\n",
       "      <td>Inh_Irx3_Sox14</td>\n",
       "      <td>0.0</td>\n",
       "    </tr>\n",
       "    <tr>\n",
       "      <th>16464922</th>\n",
       "      <td>1207</td>\n",
       "      <td>Inh_Lhx6_Nr2e1_2</td>\n",
       "      <td>0.0</td>\n",
       "    </tr>\n",
       "    <tr>\n",
       "      <th>17224859</th>\n",
       "      <td>3255</td>\n",
       "      <td>Inh_Nkx2-2_Gata2_5</td>\n",
       "      <td>0.0</td>\n",
       "    </tr>\n",
       "    <tr>\n",
       "      <th>18253506</th>\n",
       "      <td>4416</td>\n",
       "      <td>Inh_Pax2_Adamts12</td>\n",
       "      <td>0.0</td>\n",
       "    </tr>\n",
       "    <tr>\n",
       "      <th>20716699</th>\n",
       "      <td>2923</td>\n",
       "      <td>Inh_Pax7_Slc38a11</td>\n",
       "      <td>0.0</td>\n",
       "    </tr>\n",
       "    <tr>\n",
       "      <th>21105394</th>\n",
       "      <td>24744</td>\n",
       "      <td>Inh_Pax8_Serpinf1</td>\n",
       "      <td>0.0</td>\n",
       "    </tr>\n",
       "    <tr>\n",
       "      <th>21230947</th>\n",
       "      <td>34141</td>\n",
       "      <td>Inh_Pax8_Tac2</td>\n",
       "      <td>0.0</td>\n",
       "    </tr>\n",
       "    <tr>\n",
       "      <th>21669166</th>\n",
       "      <td>911</td>\n",
       "      <td>Inh_Sall3_Trhr_1</td>\n",
       "      <td>0.0</td>\n",
       "    </tr>\n",
       "    <tr>\n",
       "      <th>23016145</th>\n",
       "      <td>3528</td>\n",
       "      <td>Inh_Tfap2b_Cdh23_1</td>\n",
       "      <td>0.0</td>\n",
       "    </tr>\n",
       "    <tr>\n",
       "      <th>23156256</th>\n",
       "      <td>3535</td>\n",
       "      <td>Inh_Tfap2b_Met</td>\n",
       "      <td>0.0</td>\n",
       "    </tr>\n",
       "    <tr>\n",
       "      <th>23223732</th>\n",
       "      <td>3552</td>\n",
       "      <td>Inh_Tfap2b_Tll2_3</td>\n",
       "      <td>0.0</td>\n",
       "    </tr>\n",
       "  </tbody>\n",
       "</table>\n",
       "</div>"
      ],
      "text/plain": [
       "         cluster              Macosko_cluster p_value\n",
       "795545     24472               Ex_C1ql2_Glp1r     0.0\n",
       "1467579     4862          Ex_Dach2_Arhgap36_3     0.0\n",
       "5167249     4780             Ex_Lhx9_Adgrg2_1     0.0\n",
       "5201262     2614                Ex_Lhx9_C1ql4     0.0\n",
       "6716171     2440            Ex_Nkx2-4_Calcr_2     0.0\n",
       "7724474     3889           Ex_Phox2b_Adam33_3     0.0\n",
       "8706430     5042  Ex_Plekhg1_Col27a1_Egflam_1     0.0\n",
       "9110764     4667           Ex_Pou4f1_Plscr5_6     0.0\n",
       "9850017     2143                Ex_Sim1_Bsx_1     0.0\n",
       "10421516    2724             Ex_Skor1_Samd3_4     0.0\n",
       "10696354    2559              Ex_Slc30a3_Trhr     0.0\n",
       "11311180    4923            Ex_Tfap2b_Rxfp2_1     0.0\n",
       "12056389    3041               Ex_Vsx2_Lhx4_2     0.0\n",
       "12066774    3048               Ex_Vsx2_Lhx4_4     0.0\n",
       "12510594     923             Inh_Clic4_Ano3_1     0.0\n",
       "12980591    3502                Inh_Emx2_Irx4     0.0\n",
       "13613266    3207             Inh_Foxp2_Sox2_3     0.0\n",
       "13613278    3218             Inh_Foxp2_Sox2_3     0.0\n",
       "14599200    3229           Inh_Gata3_Qrfprl_3     0.0\n",
       "15502231    3367               Inh_Irx3_Sox14     0.0\n",
       "16464922    1207             Inh_Lhx6_Nr2e1_2     0.0\n",
       "17224859    3255           Inh_Nkx2-2_Gata2_5     0.0\n",
       "18253506    4416            Inh_Pax2_Adamts12     0.0\n",
       "20716699    2923            Inh_Pax7_Slc38a11     0.0\n",
       "21105394   24744            Inh_Pax8_Serpinf1     0.0\n",
       "21230947   34141                Inh_Pax8_Tac2     0.0\n",
       "21669166     911             Inh_Sall3_Trhr_1     0.0\n",
       "23016145    3528           Inh_Tfap2b_Cdh23_1     0.0\n",
       "23156256    3535               Inh_Tfap2b_Met     0.0\n",
       "23223732    3552            Inh_Tfap2b_Tll2_3     0.0"
      ]
     },
     "execution_count": 116,
     "metadata": {},
     "output_type": "execute_result"
    }
   ],
   "source": [
    "hyper_p_values_melted[hyper_p_values_melted.p_value * num_tests < 0.05]"
   ]
  },
  {
   "cell_type": "code",
   "execution_count": 117,
   "id": "5ae42359",
   "metadata": {},
   "outputs": [
    {
     "data": {
      "text/plain": [
       "6"
      ]
     },
     "execution_count": 117,
     "metadata": {},
     "output_type": "execute_result"
    }
   ],
   "source": [
    "length_dict_Macosko[\"Inh_Tfap2b_Tll2_3\"]"
   ]
  },
  {
   "cell_type": "code",
   "execution_count": 118,
   "id": "e8eaf3fe",
   "metadata": {},
   "outputs": [
    {
     "data": {
      "text/plain": [
       "5"
      ]
     },
     "execution_count": 118,
     "metadata": {},
     "output_type": "execute_result"
    }
   ],
   "source": [
    "length_dict_Zeng[\"3552\"]"
   ]
  },
  {
   "cell_type": "code",
   "execution_count": 119,
   "id": "5ef88ab8",
   "metadata": {},
   "outputs": [],
   "source": [
    "hyper_p_values_melted_filtered = hyper_p_values_melted[hyper_p_values_melted.p_value * hyper_p_values.shape[1] < 0.1].copy()"
   ]
  },
  {
   "cell_type": "code",
   "execution_count": 120,
   "id": "e0a78d19",
   "metadata": {},
   "outputs": [],
   "source": [
    "hyper_p_values_melted_filtered = hyper_p_values_melted_filtered.rename(columns={'cluster':'Zeng_cluster' })"
   ]
  },
  {
   "cell_type": "code",
   "execution_count": 121,
   "id": "4a2b4f31",
   "metadata": {},
   "outputs": [],
   "source": [
    "for index, row in hyper_p_values_melted_filtered.iterrows():\n",
    "    hyper_p_values_melted_filtered.at[index, 'Macosko_marker_size'] = length_dict_Macosko[row['Macosko_cluster']]\n",
    "    hyper_p_values_melted_filtered.at[index, 'Zeng_marker_size'] = length_dict_Zeng[row['Zeng_cluster']]\n",
    "    hyper_p_values_melted_filtered.at[index, 'intersection'] = intersections.loc[row['Zeng_cluster'], row['Macosko_cluster']]\n",
    "    \n",
    "    \n",
    "    "
   ]
  },
  {
   "cell_type": "code",
   "execution_count": 123,
   "id": "2842223c",
   "metadata": {},
   "outputs": [
    {
     "data": {
      "text/html": [
       "<div>\n",
       "<style scoped>\n",
       "    .dataframe tbody tr th:only-of-type {\n",
       "        vertical-align: middle;\n",
       "    }\n",
       "\n",
       "    .dataframe tbody tr th {\n",
       "        vertical-align: top;\n",
       "    }\n",
       "\n",
       "    .dataframe thead th {\n",
       "        text-align: right;\n",
       "    }\n",
       "</style>\n",
       "<table border=\"1\" class=\"dataframe\">\n",
       "  <thead>\n",
       "    <tr style=\"text-align: right;\">\n",
       "      <th></th>\n",
       "      <th>Zeng_cluster</th>\n",
       "      <th>Macosko_cluster</th>\n",
       "      <th>p_value</th>\n",
       "      <th>Macosko_marker_size</th>\n",
       "      <th>Zeng_marker_size</th>\n",
       "      <th>intersection</th>\n",
       "    </tr>\n",
       "  </thead>\n",
       "  <tbody>\n",
       "    <tr>\n",
       "      <th>82291</th>\n",
       "      <td>5023</td>\n",
       "      <td>CholEx_Hmx2_A2m</td>\n",
       "      <td>0.0</td>\n",
       "      <td>4.0</td>\n",
       "      <td>4.0</td>\n",
       "      <td>2.0</td>\n",
       "    </tr>\n",
       "    <tr>\n",
       "      <th>101192</th>\n",
       "      <td>3286</td>\n",
       "      <td>CholEx_Hmx3_Grpr</td>\n",
       "      <td>0.0</td>\n",
       "      <td>3.0</td>\n",
       "      <td>3.0</td>\n",
       "      <td>2.0</td>\n",
       "    </tr>\n",
       "    <tr>\n",
       "      <th>137077</th>\n",
       "      <td>2879</td>\n",
       "      <td>CholEx_Irx2_Slc43a3_4</td>\n",
       "      <td>0.0</td>\n",
       "      <td>3.0</td>\n",
       "      <td>4.0</td>\n",
       "      <td>2.0</td>\n",
       "    </tr>\n",
       "    <tr>\n",
       "      <th>137079</th>\n",
       "      <td>2880</td>\n",
       "      <td>CholEx_Irx2_Slc43a3_4</td>\n",
       "      <td>0.0</td>\n",
       "      <td>3.0</td>\n",
       "      <td>4.0</td>\n",
       "      <td>2.0</td>\n",
       "    </tr>\n",
       "    <tr>\n",
       "      <th>137082</th>\n",
       "      <td>2884</td>\n",
       "      <td>CholEx_Irx2_Slc43a3_4</td>\n",
       "      <td>0.0</td>\n",
       "      <td>3.0</td>\n",
       "      <td>5.0</td>\n",
       "      <td>2.0</td>\n",
       "    </tr>\n",
       "    <tr>\n",
       "      <th>...</th>\n",
       "      <td>...</td>\n",
       "      <td>...</td>\n",
       "      <td>...</td>\n",
       "      <td>...</td>\n",
       "      <td>...</td>\n",
       "      <td>...</td>\n",
       "    </tr>\n",
       "    <tr>\n",
       "      <th>23518599</th>\n",
       "      <td>2767</td>\n",
       "      <td>Ng_Lhx1_Trp73</td>\n",
       "      <td>0.0</td>\n",
       "      <td>2.0</td>\n",
       "      <td>3.0</td>\n",
       "      <td>2.0</td>\n",
       "    </tr>\n",
       "    <tr>\n",
       "      <th>23684741</th>\n",
       "      <td>2860</td>\n",
       "      <td>SerEx_Gata3_Fev_1</td>\n",
       "      <td>0.0</td>\n",
       "      <td>3.0</td>\n",
       "      <td>4.0</td>\n",
       "      <td>2.0</td>\n",
       "    </tr>\n",
       "    <tr>\n",
       "      <th>23731433</th>\n",
       "      <td>2851</td>\n",
       "      <td>Ser_Fev_Chodl</td>\n",
       "      <td>0.0</td>\n",
       "      <td>3.0</td>\n",
       "      <td>3.0</td>\n",
       "      <td>2.0</td>\n",
       "    </tr>\n",
       "    <tr>\n",
       "      <th>23732519</th>\n",
       "      <td>3870</td>\n",
       "      <td>Ser_Fev_Chodl</td>\n",
       "      <td>0.0</td>\n",
       "      <td>3.0</td>\n",
       "      <td>3.0</td>\n",
       "      <td>2.0</td>\n",
       "    </tr>\n",
       "    <tr>\n",
       "      <th>23741805</th>\n",
       "      <td>2846</td>\n",
       "      <td>Ser_Fev_Pth2r</td>\n",
       "      <td>0.0</td>\n",
       "      <td>3.0</td>\n",
       "      <td>3.0</td>\n",
       "      <td>2.0</td>\n",
       "    </tr>\n",
       "  </tbody>\n",
       "</table>\n",
       "<p>1826 rows × 6 columns</p>\n",
       "</div>"
      ],
      "text/plain": [
       "         Zeng_cluster        Macosko_cluster p_value  Macosko_marker_size  \\\n",
       "82291            5023        CholEx_Hmx2_A2m     0.0                  4.0   \n",
       "101192           3286       CholEx_Hmx3_Grpr     0.0                  3.0   \n",
       "137077           2879  CholEx_Irx2_Slc43a3_4     0.0                  3.0   \n",
       "137079           2880  CholEx_Irx2_Slc43a3_4     0.0                  3.0   \n",
       "137082           2884  CholEx_Irx2_Slc43a3_4     0.0                  3.0   \n",
       "...               ...                    ...     ...                  ...   \n",
       "23518599         2767          Ng_Lhx1_Trp73     0.0                  2.0   \n",
       "23684741         2860      SerEx_Gata3_Fev_1     0.0                  3.0   \n",
       "23731433         2851          Ser_Fev_Chodl     0.0                  3.0   \n",
       "23732519         3870          Ser_Fev_Chodl     0.0                  3.0   \n",
       "23741805         2846          Ser_Fev_Pth2r     0.0                  3.0   \n",
       "\n",
       "          Zeng_marker_size  intersection  \n",
       "82291                  4.0           2.0  \n",
       "101192                 3.0           2.0  \n",
       "137077                 4.0           2.0  \n",
       "137079                 4.0           2.0  \n",
       "137082                 5.0           2.0  \n",
       "...                    ...           ...  \n",
       "23518599               3.0           2.0  \n",
       "23684741               4.0           2.0  \n",
       "23731433               3.0           2.0  \n",
       "23732519               3.0           2.0  \n",
       "23741805               3.0           2.0  \n",
       "\n",
       "[1826 rows x 6 columns]"
      ]
     },
     "execution_count": 123,
     "metadata": {},
     "output_type": "execute_result"
    }
   ],
   "source": [
    "hyper_p_values_melted_filtered"
   ]
  },
  {
   "cell_type": "code",
   "execution_count": 124,
   "id": "190ea03e",
   "metadata": {},
   "outputs": [
    {
     "data": {
      "text/plain": [
       "(61, 3)"
      ]
     },
     "execution_count": 124,
     "metadata": {},
     "output_type": "execute_result"
    }
   ],
   "source": [
    "#add in the marker sets? for the 1800? check for reciprocal top hit overlap\n",
    "hyper_p_values_melted_filtered[[\"Macosko_marker_size\", \"Zeng_marker_size\", 'intersection']].drop_duplicates().shape"
   ]
  },
  {
   "cell_type": "code",
   "execution_count": 125,
   "id": "559b6c26",
   "metadata": {},
   "outputs": [
    {
     "data": {
      "text/html": [
       "<div>\n",
       "<style scoped>\n",
       "    .dataframe tbody tr th:only-of-type {\n",
       "        vertical-align: middle;\n",
       "    }\n",
       "\n",
       "    .dataframe tbody tr th {\n",
       "        vertical-align: top;\n",
       "    }\n",
       "\n",
       "    .dataframe thead th {\n",
       "        text-align: right;\n",
       "    }\n",
       "</style>\n",
       "<table border=\"1\" class=\"dataframe\">\n",
       "  <thead>\n",
       "    <tr style=\"text-align: right;\">\n",
       "      <th></th>\n",
       "      <th>Zeng_cluster</th>\n",
       "      <th>Macosko_cluster</th>\n",
       "      <th>p_value</th>\n",
       "      <th>Macosko_marker_size</th>\n",
       "      <th>Zeng_marker_size</th>\n",
       "      <th>intersection</th>\n",
       "    </tr>\n",
       "  </thead>\n",
       "  <tbody>\n",
       "    <tr>\n",
       "      <th>82291</th>\n",
       "      <td>5023</td>\n",
       "      <td>CholEx_Hmx2_A2m</td>\n",
       "      <td>0.0</td>\n",
       "      <td>4.0</td>\n",
       "      <td>4.0</td>\n",
       "      <td>2.0</td>\n",
       "    </tr>\n",
       "    <tr>\n",
       "      <th>16459740</th>\n",
       "      <td>1213</td>\n",
       "      <td>Inh_Lhx6_Nr2e1_1</td>\n",
       "      <td>0.0</td>\n",
       "      <td>4.0</td>\n",
       "      <td>4.0</td>\n",
       "      <td>2.0</td>\n",
       "    </tr>\n",
       "    <tr>\n",
       "      <th>16459734</th>\n",
       "      <td>1208</td>\n",
       "      <td>Inh_Lhx6_Nr2e1_1</td>\n",
       "      <td>0.0</td>\n",
       "      <td>4.0</td>\n",
       "      <td>4.0</td>\n",
       "      <td>2.0</td>\n",
       "    </tr>\n",
       "    <tr>\n",
       "      <th>16459733</th>\n",
       "      <td>1207</td>\n",
       "      <td>Inh_Lhx6_Nr2e1_1</td>\n",
       "      <td>0.0</td>\n",
       "      <td>4.0</td>\n",
       "      <td>4.0</td>\n",
       "      <td>2.0</td>\n",
       "    </tr>\n",
       "    <tr>\n",
       "      <th>16456862</th>\n",
       "      <td>3229</td>\n",
       "      <td>Inh_Lhx6_Npy_4</td>\n",
       "      <td>0.0</td>\n",
       "      <td>4.0</td>\n",
       "      <td>5.0</td>\n",
       "      <td>2.0</td>\n",
       "    </tr>\n",
       "    <tr>\n",
       "      <th>...</th>\n",
       "      <td>...</td>\n",
       "      <td>...</td>\n",
       "      <td>...</td>\n",
       "      <td>...</td>\n",
       "      <td>...</td>\n",
       "      <td>...</td>\n",
       "    </tr>\n",
       "    <tr>\n",
       "      <th>12980591</th>\n",
       "      <td>3502</td>\n",
       "      <td>Inh_Emx2_Irx4</td>\n",
       "      <td>0.0</td>\n",
       "      <td>4.0</td>\n",
       "      <td>5.0</td>\n",
       "      <td>3.0</td>\n",
       "    </tr>\n",
       "    <tr>\n",
       "      <th>23223732</th>\n",
       "      <td>3552</td>\n",
       "      <td>Inh_Tfap2b_Tll2_3</td>\n",
       "      <td>0.0</td>\n",
       "      <td>6.0</td>\n",
       "      <td>5.0</td>\n",
       "      <td>3.0</td>\n",
       "    </tr>\n",
       "    <tr>\n",
       "      <th>795545</th>\n",
       "      <td>24472</td>\n",
       "      <td>Ex_C1ql2_Glp1r</td>\n",
       "      <td>0.0</td>\n",
       "      <td>5.0</td>\n",
       "      <td>5.0</td>\n",
       "      <td>3.0</td>\n",
       "    </tr>\n",
       "    <tr>\n",
       "      <th>18253506</th>\n",
       "      <td>4416</td>\n",
       "      <td>Inh_Pax2_Adamts12</td>\n",
       "      <td>0.0</td>\n",
       "      <td>5.0</td>\n",
       "      <td>4.0</td>\n",
       "      <td>3.0</td>\n",
       "    </tr>\n",
       "    <tr>\n",
       "      <th>15502231</th>\n",
       "      <td>3367</td>\n",
       "      <td>Inh_Irx3_Sox14</td>\n",
       "      <td>0.0</td>\n",
       "      <td>6.0</td>\n",
       "      <td>5.0</td>\n",
       "      <td>4.0</td>\n",
       "    </tr>\n",
       "  </tbody>\n",
       "</table>\n",
       "<p>1826 rows × 6 columns</p>\n",
       "</div>"
      ],
      "text/plain": [
       "         Zeng_cluster    Macosko_cluster p_value  Macosko_marker_size  \\\n",
       "82291            5023    CholEx_Hmx2_A2m     0.0                  4.0   \n",
       "16459740         1213   Inh_Lhx6_Nr2e1_1     0.0                  4.0   \n",
       "16459734         1208   Inh_Lhx6_Nr2e1_1     0.0                  4.0   \n",
       "16459733         1207   Inh_Lhx6_Nr2e1_1     0.0                  4.0   \n",
       "16456862         3229     Inh_Lhx6_Npy_4     0.0                  4.0   \n",
       "...               ...                ...     ...                  ...   \n",
       "12980591         3502      Inh_Emx2_Irx4     0.0                  4.0   \n",
       "23223732         3552  Inh_Tfap2b_Tll2_3     0.0                  6.0   \n",
       "795545          24472     Ex_C1ql2_Glp1r     0.0                  5.0   \n",
       "18253506         4416  Inh_Pax2_Adamts12     0.0                  5.0   \n",
       "15502231         3367     Inh_Irx3_Sox14     0.0                  6.0   \n",
       "\n",
       "          Zeng_marker_size  intersection  \n",
       "82291                  4.0           2.0  \n",
       "16459740               4.0           2.0  \n",
       "16459734               4.0           2.0  \n",
       "16459733               4.0           2.0  \n",
       "16456862               5.0           2.0  \n",
       "...                    ...           ...  \n",
       "12980591               5.0           3.0  \n",
       "23223732               5.0           3.0  \n",
       "795545                 5.0           3.0  \n",
       "18253506               4.0           3.0  \n",
       "15502231               5.0           4.0  \n",
       "\n",
       "[1826 rows x 6 columns]"
      ]
     },
     "execution_count": 125,
     "metadata": {},
     "output_type": "execute_result"
    }
   ],
   "source": [
    "hyper_p_values_melted_filtered.sort_values('intersection')"
   ]
  },
  {
   "cell_type": "code",
   "execution_count": 126,
   "id": "c86ccf49",
   "metadata": {},
   "outputs": [
    {
     "data": {
      "text/html": [
       "<div>\n",
       "<style scoped>\n",
       "    .dataframe tbody tr th:only-of-type {\n",
       "        vertical-align: middle;\n",
       "    }\n",
       "\n",
       "    .dataframe tbody tr th {\n",
       "        vertical-align: top;\n",
       "    }\n",
       "\n",
       "    .dataframe thead th {\n",
       "        text-align: right;\n",
       "    }\n",
       "</style>\n",
       "<table border=\"1\" class=\"dataframe\">\n",
       "  <thead>\n",
       "    <tr style=\"text-align: right;\">\n",
       "      <th></th>\n",
       "      <th>Zeng_cluster</th>\n",
       "      <th>Macosko_cluster</th>\n",
       "      <th>p_value</th>\n",
       "      <th>Macosko_marker_size</th>\n",
       "      <th>Zeng_marker_size</th>\n",
       "      <th>intersection</th>\n",
       "    </tr>\n",
       "  </thead>\n",
       "  <tbody>\n",
       "    <tr>\n",
       "      <th>795545</th>\n",
       "      <td>24472</td>\n",
       "      <td>Ex_C1ql2_Glp1r</td>\n",
       "      <td>0.0</td>\n",
       "      <td>5.0</td>\n",
       "      <td>5.0</td>\n",
       "      <td>3.0</td>\n",
       "    </tr>\n",
       "    <tr>\n",
       "      <th>23016145</th>\n",
       "      <td>3528</td>\n",
       "      <td>Inh_Tfap2b_Cdh23_1</td>\n",
       "      <td>0.0</td>\n",
       "      <td>4.0</td>\n",
       "      <td>4.0</td>\n",
       "      <td>3.0</td>\n",
       "    </tr>\n",
       "    <tr>\n",
       "      <th>21669166</th>\n",
       "      <td>911</td>\n",
       "      <td>Inh_Sall3_Trhr_1</td>\n",
       "      <td>0.0</td>\n",
       "      <td>6.0</td>\n",
       "      <td>4.0</td>\n",
       "      <td>3.0</td>\n",
       "    </tr>\n",
       "    <tr>\n",
       "      <th>21230947</th>\n",
       "      <td>34141</td>\n",
       "      <td>Inh_Pax8_Tac2</td>\n",
       "      <td>0.0</td>\n",
       "      <td>3.0</td>\n",
       "      <td>3.0</td>\n",
       "      <td>3.0</td>\n",
       "    </tr>\n",
       "    <tr>\n",
       "      <th>21105394</th>\n",
       "      <td>24744</td>\n",
       "      <td>Inh_Pax8_Serpinf1</td>\n",
       "      <td>0.0</td>\n",
       "      <td>5.0</td>\n",
       "      <td>8.0</td>\n",
       "      <td>3.0</td>\n",
       "    </tr>\n",
       "    <tr>\n",
       "      <th>20716699</th>\n",
       "      <td>2923</td>\n",
       "      <td>Inh_Pax7_Slc38a11</td>\n",
       "      <td>0.0</td>\n",
       "      <td>6.0</td>\n",
       "      <td>4.0</td>\n",
       "      <td>3.0</td>\n",
       "    </tr>\n",
       "    <tr>\n",
       "      <th>18253506</th>\n",
       "      <td>4416</td>\n",
       "      <td>Inh_Pax2_Adamts12</td>\n",
       "      <td>0.0</td>\n",
       "      <td>5.0</td>\n",
       "      <td>4.0</td>\n",
       "      <td>3.0</td>\n",
       "    </tr>\n",
       "    <tr>\n",
       "      <th>17224859</th>\n",
       "      <td>3255</td>\n",
       "      <td>Inh_Nkx2-2_Gata2_5</td>\n",
       "      <td>0.0</td>\n",
       "      <td>3.0</td>\n",
       "      <td>3.0</td>\n",
       "      <td>3.0</td>\n",
       "    </tr>\n",
       "    <tr>\n",
       "      <th>16464922</th>\n",
       "      <td>1207</td>\n",
       "      <td>Inh_Lhx6_Nr2e1_2</td>\n",
       "      <td>0.0</td>\n",
       "      <td>3.0</td>\n",
       "      <td>4.0</td>\n",
       "      <td>3.0</td>\n",
       "    </tr>\n",
       "    <tr>\n",
       "      <th>14599200</th>\n",
       "      <td>3229</td>\n",
       "      <td>Inh_Gata3_Qrfprl_3</td>\n",
       "      <td>0.0</td>\n",
       "      <td>5.0</td>\n",
       "      <td>5.0</td>\n",
       "      <td>3.0</td>\n",
       "    </tr>\n",
       "    <tr>\n",
       "      <th>13613278</th>\n",
       "      <td>3218</td>\n",
       "      <td>Inh_Foxp2_Sox2_3</td>\n",
       "      <td>0.0</td>\n",
       "      <td>3.0</td>\n",
       "      <td>4.0</td>\n",
       "      <td>3.0</td>\n",
       "    </tr>\n",
       "    <tr>\n",
       "      <th>13613266</th>\n",
       "      <td>3207</td>\n",
       "      <td>Inh_Foxp2_Sox2_3</td>\n",
       "      <td>0.0</td>\n",
       "      <td>3.0</td>\n",
       "      <td>5.0</td>\n",
       "      <td>3.0</td>\n",
       "    </tr>\n",
       "    <tr>\n",
       "      <th>12980591</th>\n",
       "      <td>3502</td>\n",
       "      <td>Inh_Emx2_Irx4</td>\n",
       "      <td>0.0</td>\n",
       "      <td>4.0</td>\n",
       "      <td>5.0</td>\n",
       "      <td>3.0</td>\n",
       "    </tr>\n",
       "    <tr>\n",
       "      <th>23156256</th>\n",
       "      <td>3535</td>\n",
       "      <td>Inh_Tfap2b_Met</td>\n",
       "      <td>0.0</td>\n",
       "      <td>4.0</td>\n",
       "      <td>3.0</td>\n",
       "      <td>3.0</td>\n",
       "    </tr>\n",
       "    <tr>\n",
       "      <th>12510594</th>\n",
       "      <td>923</td>\n",
       "      <td>Inh_Clic4_Ano3_1</td>\n",
       "      <td>0.0</td>\n",
       "      <td>3.0</td>\n",
       "      <td>6.0</td>\n",
       "      <td>3.0</td>\n",
       "    </tr>\n",
       "    <tr>\n",
       "      <th>12056389</th>\n",
       "      <td>3041</td>\n",
       "      <td>Ex_Vsx2_Lhx4_2</td>\n",
       "      <td>0.0</td>\n",
       "      <td>4.0</td>\n",
       "      <td>4.0</td>\n",
       "      <td>3.0</td>\n",
       "    </tr>\n",
       "    <tr>\n",
       "      <th>11311180</th>\n",
       "      <td>4923</td>\n",
       "      <td>Ex_Tfap2b_Rxfp2_1</td>\n",
       "      <td>0.0</td>\n",
       "      <td>5.0</td>\n",
       "      <td>4.0</td>\n",
       "      <td>3.0</td>\n",
       "    </tr>\n",
       "    <tr>\n",
       "      <th>10696354</th>\n",
       "      <td>2559</td>\n",
       "      <td>Ex_Slc30a3_Trhr</td>\n",
       "      <td>0.0</td>\n",
       "      <td>7.0</td>\n",
       "      <td>5.0</td>\n",
       "      <td>3.0</td>\n",
       "    </tr>\n",
       "    <tr>\n",
       "      <th>10421516</th>\n",
       "      <td>2724</td>\n",
       "      <td>Ex_Skor1_Samd3_4</td>\n",
       "      <td>0.0</td>\n",
       "      <td>4.0</td>\n",
       "      <td>6.0</td>\n",
       "      <td>3.0</td>\n",
       "    </tr>\n",
       "    <tr>\n",
       "      <th>9850017</th>\n",
       "      <td>2143</td>\n",
       "      <td>Ex_Sim1_Bsx_1</td>\n",
       "      <td>0.0</td>\n",
       "      <td>4.0</td>\n",
       "      <td>4.0</td>\n",
       "      <td>3.0</td>\n",
       "    </tr>\n",
       "    <tr>\n",
       "      <th>9110764</th>\n",
       "      <td>4667</td>\n",
       "      <td>Ex_Pou4f1_Plscr5_6</td>\n",
       "      <td>0.0</td>\n",
       "      <td>5.0</td>\n",
       "      <td>8.0</td>\n",
       "      <td>3.0</td>\n",
       "    </tr>\n",
       "    <tr>\n",
       "      <th>8706430</th>\n",
       "      <td>5042</td>\n",
       "      <td>Ex_Plekhg1_Col27a1_Egflam_1</td>\n",
       "      <td>0.0</td>\n",
       "      <td>4.0</td>\n",
       "      <td>6.0</td>\n",
       "      <td>3.0</td>\n",
       "    </tr>\n",
       "    <tr>\n",
       "      <th>7724474</th>\n",
       "      <td>3889</td>\n",
       "      <td>Ex_Phox2b_Adam33_3</td>\n",
       "      <td>0.0</td>\n",
       "      <td>4.0</td>\n",
       "      <td>4.0</td>\n",
       "      <td>3.0</td>\n",
       "    </tr>\n",
       "    <tr>\n",
       "      <th>6716171</th>\n",
       "      <td>2440</td>\n",
       "      <td>Ex_Nkx2-4_Calcr_2</td>\n",
       "      <td>0.0</td>\n",
       "      <td>5.0</td>\n",
       "      <td>4.0</td>\n",
       "      <td>3.0</td>\n",
       "    </tr>\n",
       "    <tr>\n",
       "      <th>5201262</th>\n",
       "      <td>2614</td>\n",
       "      <td>Ex_Lhx9_C1ql4</td>\n",
       "      <td>0.0</td>\n",
       "      <td>4.0</td>\n",
       "      <td>3.0</td>\n",
       "      <td>3.0</td>\n",
       "    </tr>\n",
       "    <tr>\n",
       "      <th>5167249</th>\n",
       "      <td>4780</td>\n",
       "      <td>Ex_Lhx9_Adgrg2_1</td>\n",
       "      <td>0.0</td>\n",
       "      <td>8.0</td>\n",
       "      <td>8.0</td>\n",
       "      <td>3.0</td>\n",
       "    </tr>\n",
       "    <tr>\n",
       "      <th>1467579</th>\n",
       "      <td>4862</td>\n",
       "      <td>Ex_Dach2_Arhgap36_3</td>\n",
       "      <td>0.0</td>\n",
       "      <td>3.0</td>\n",
       "      <td>3.0</td>\n",
       "      <td>3.0</td>\n",
       "    </tr>\n",
       "    <tr>\n",
       "      <th>12066774</th>\n",
       "      <td>3048</td>\n",
       "      <td>Ex_Vsx2_Lhx4_4</td>\n",
       "      <td>0.0</td>\n",
       "      <td>4.0</td>\n",
       "      <td>4.0</td>\n",
       "      <td>3.0</td>\n",
       "    </tr>\n",
       "    <tr>\n",
       "      <th>23223732</th>\n",
       "      <td>3552</td>\n",
       "      <td>Inh_Tfap2b_Tll2_3</td>\n",
       "      <td>0.0</td>\n",
       "      <td>6.0</td>\n",
       "      <td>5.0</td>\n",
       "      <td>3.0</td>\n",
       "    </tr>\n",
       "    <tr>\n",
       "      <th>15502231</th>\n",
       "      <td>3367</td>\n",
       "      <td>Inh_Irx3_Sox14</td>\n",
       "      <td>0.0</td>\n",
       "      <td>6.0</td>\n",
       "      <td>5.0</td>\n",
       "      <td>4.0</td>\n",
       "    </tr>\n",
       "  </tbody>\n",
       "</table>\n",
       "</div>"
      ],
      "text/plain": [
       "         Zeng_cluster              Macosko_cluster p_value  \\\n",
       "795545          24472               Ex_C1ql2_Glp1r     0.0   \n",
       "23016145         3528           Inh_Tfap2b_Cdh23_1     0.0   \n",
       "21669166          911             Inh_Sall3_Trhr_1     0.0   \n",
       "21230947        34141                Inh_Pax8_Tac2     0.0   \n",
       "21105394        24744            Inh_Pax8_Serpinf1     0.0   \n",
       "20716699         2923            Inh_Pax7_Slc38a11     0.0   \n",
       "18253506         4416            Inh_Pax2_Adamts12     0.0   \n",
       "17224859         3255           Inh_Nkx2-2_Gata2_5     0.0   \n",
       "16464922         1207             Inh_Lhx6_Nr2e1_2     0.0   \n",
       "14599200         3229           Inh_Gata3_Qrfprl_3     0.0   \n",
       "13613278         3218             Inh_Foxp2_Sox2_3     0.0   \n",
       "13613266         3207             Inh_Foxp2_Sox2_3     0.0   \n",
       "12980591         3502                Inh_Emx2_Irx4     0.0   \n",
       "23156256         3535               Inh_Tfap2b_Met     0.0   \n",
       "12510594          923             Inh_Clic4_Ano3_1     0.0   \n",
       "12056389         3041               Ex_Vsx2_Lhx4_2     0.0   \n",
       "11311180         4923            Ex_Tfap2b_Rxfp2_1     0.0   \n",
       "10696354         2559              Ex_Slc30a3_Trhr     0.0   \n",
       "10421516         2724             Ex_Skor1_Samd3_4     0.0   \n",
       "9850017          2143                Ex_Sim1_Bsx_1     0.0   \n",
       "9110764          4667           Ex_Pou4f1_Plscr5_6     0.0   \n",
       "8706430          5042  Ex_Plekhg1_Col27a1_Egflam_1     0.0   \n",
       "7724474          3889           Ex_Phox2b_Adam33_3     0.0   \n",
       "6716171          2440            Ex_Nkx2-4_Calcr_2     0.0   \n",
       "5201262          2614                Ex_Lhx9_C1ql4     0.0   \n",
       "5167249          4780             Ex_Lhx9_Adgrg2_1     0.0   \n",
       "1467579          4862          Ex_Dach2_Arhgap36_3     0.0   \n",
       "12066774         3048               Ex_Vsx2_Lhx4_4     0.0   \n",
       "23223732         3552            Inh_Tfap2b_Tll2_3     0.0   \n",
       "15502231         3367               Inh_Irx3_Sox14     0.0   \n",
       "\n",
       "          Macosko_marker_size  Zeng_marker_size  intersection  \n",
       "795545                    5.0               5.0           3.0  \n",
       "23016145                  4.0               4.0           3.0  \n",
       "21669166                  6.0               4.0           3.0  \n",
       "21230947                  3.0               3.0           3.0  \n",
       "21105394                  5.0               8.0           3.0  \n",
       "20716699                  6.0               4.0           3.0  \n",
       "18253506                  5.0               4.0           3.0  \n",
       "17224859                  3.0               3.0           3.0  \n",
       "16464922                  3.0               4.0           3.0  \n",
       "14599200                  5.0               5.0           3.0  \n",
       "13613278                  3.0               4.0           3.0  \n",
       "13613266                  3.0               5.0           3.0  \n",
       "12980591                  4.0               5.0           3.0  \n",
       "23156256                  4.0               3.0           3.0  \n",
       "12510594                  3.0               6.0           3.0  \n",
       "12056389                  4.0               4.0           3.0  \n",
       "11311180                  5.0               4.0           3.0  \n",
       "10696354                  7.0               5.0           3.0  \n",
       "10421516                  4.0               6.0           3.0  \n",
       "9850017                   4.0               4.0           3.0  \n",
       "9110764                   5.0               8.0           3.0  \n",
       "8706430                   4.0               6.0           3.0  \n",
       "7724474                   4.0               4.0           3.0  \n",
       "6716171                   5.0               4.0           3.0  \n",
       "5201262                   4.0               3.0           3.0  \n",
       "5167249                   8.0               8.0           3.0  \n",
       "1467579                   3.0               3.0           3.0  \n",
       "12066774                  4.0               4.0           3.0  \n",
       "23223732                  6.0               5.0           3.0  \n",
       "15502231                  6.0               5.0           4.0  "
      ]
     },
     "execution_count": 126,
     "metadata": {},
     "output_type": "execute_result"
    }
   ],
   "source": [
    "hyper_p_values_melted_filtered[hyper_p_values_melted_filtered.p_value * num_tests < 0.05].sort_values('intersection')"
   ]
  },
  {
   "cell_type": "code",
   "execution_count": null,
   "id": "8b35b8d8",
   "metadata": {},
   "outputs": [],
   "source": []
  },
  {
   "cell_type": "code",
   "execution_count": 127,
   "id": "8f0b712e",
   "metadata": {},
   "outputs": [],
   "source": [
    "hyper_p_values_melted_filtered.to_csv(os.path.join(here(), \"results\", \"marker_results\", \"Marker_overlap_filtered.csv\"), index=False)"
   ]
  },
  {
   "cell_type": "code",
   "execution_count": null,
   "id": "f4042ac6",
   "metadata": {},
   "outputs": [],
   "source": []
  },
  {
   "cell_type": "code",
   "execution_count": 128,
   "id": "04ecaa30",
   "metadata": {},
   "outputs": [],
   "source": [
    "hyper_p_values_melted.to_csv(os.path.join(here(), \"results\", \"marker_results\", \"Marker_overlap_full\" + \".csv.gz\"), compression=\"gzip\", index=False)"
   ]
  },
  {
   "cell_type": "code",
   "execution_count": null,
   "id": "36975c4d",
   "metadata": {},
   "outputs": [],
   "source": []
  }
 ],
 "metadata": {
  "kernelspec": {
   "display_name": "Python [conda env:mouse_brain_cells] *",
   "language": "python",
   "name": "conda-env-mouse_brain_cells-py"
  },
  "language_info": {
   "codemirror_mode": {
    "name": "ipython",
    "version": 3
   },
   "file_extension": ".py",
   "mimetype": "text/x-python",
   "name": "python",
   "nbconvert_exporter": "python",
   "pygments_lexer": "ipython3",
   "version": "3.10.6"
  }
 },
 "nbformat": 4,
 "nbformat_minor": 5
}
