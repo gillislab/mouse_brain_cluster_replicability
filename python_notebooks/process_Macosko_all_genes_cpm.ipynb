{
 "cells": [
  {
   "cell_type": "code",
   "execution_count": 1,
   "id": "457fa279",
   "metadata": {},
   "outputs": [],
   "source": [
    "import numpy as np\n",
    "import pandas as pd\n",
    "import scanpy as sc\n",
    "import pymn\n",
    "import anndata as ad\n",
    "import time\n",
    "import os\n",
    "from pyprojroot import here\n",
    "import resource"
   ]
  },
  {
   "cell_type": "code",
   "execution_count": 2,
   "id": "dc5e7945",
   "metadata": {},
   "outputs": [],
   "source": [
    "here()\n",
    "base_data_folder = \"/vault/lfrench/mouse_brain_cluster_replicability/data/\""
   ]
  },
  {
   "cell_type": "code",
   "execution_count": 4,
   "id": "76234464",
   "metadata": {},
   "outputs": [],
   "source": [
    "adata_Macosko = sc.read_h5ad(base_data_folder + \"/whole_mouse_brain/macosko/from_google_drive/Macosko_Mouse_Atlas_Single_Nuclei.Use_Backed.h5ad\")\n"
   ]
  },
  {
   "cell_type": "code",
   "execution_count": null,
   "id": "f1bd0530",
   "metadata": {},
   "outputs": [],
   "source": [
    "sc.pp.normalize_total(adata_Macosko, target_sum=1e6, inplace=True)"
   ]
  },
  {
   "cell_type": "code",
   "execution_count": null,
   "id": "dca83125",
   "metadata": {},
   "outputs": [],
   "source": [
    "#write out full"
   ]
  },
  {
   "cell_type": "code",
   "execution_count": null,
   "id": "4fa78fb9",
   "metadata": {},
   "outputs": [],
   "source": [
    "adata_Macosko.obs.index = adata_Macosko.obs.index.to_numpy(dtype=\"str\")"
   ]
  },
  {
   "cell_type": "code",
   "execution_count": null,
   "id": "ee769020",
   "metadata": {},
   "outputs": [],
   "source": [
    "adata_Macosko.write(base_data_folder + \"/whole_mouse_brain/processed/macosko/subsets/Macosko_Mouse_Atlas_Single_Nuclei.Use_Backed.cpm.h5ad\")"
   ]
  },
  {
   "cell_type": "code",
   "execution_count": null,
   "id": "c5bad1d9",
   "metadata": {},
   "outputs": [],
   "source": [
    "#write out with markers only? grab list from the Zeng file"
   ]
  },
  {
   "cell_type": "code",
   "execution_count": 5,
   "id": "fb2bf7cf",
   "metadata": {},
   "outputs": [],
   "source": [
    "all_Zeng_cpm = sc.read_h5ad(base_data_folder + \"/whole_mouse_brain/processed/zeng/subsets/AIT21.0.merged.with_multiome_3309_markers_only.cpm.h5ad\", backed=\"r\") "
   ]
  },
  {
   "cell_type": "code",
   "execution_count": 9,
   "id": "62fdee6c",
   "metadata": {},
   "outputs": [],
   "source": [
    "marker_gene_symbols = all_Zeng_cpm.var.index.tolist()"
   ]
  },
  {
   "cell_type": "code",
   "execution_count": 10,
   "id": "9c4fe585",
   "metadata": {},
   "outputs": [
    {
     "data": {
      "text/plain": [
       "3309"
      ]
     },
     "execution_count": 10,
     "metadata": {},
     "output_type": "execute_result"
    }
   ],
   "source": [
    "len(marker_gene_symbols)"
   ]
  },
  {
   "cell_type": "code",
   "execution_count": 11,
   "id": "059863e7",
   "metadata": {},
   "outputs": [],
   "source": [
    "#check for multiple genes"
   ]
  },
  {
   "cell_type": "code",
   "execution_count": 14,
   "id": "39ec6bfb",
   "metadata": {},
   "outputs": [],
   "source": [
    "adata_Macosko.var[\"is_marker\"] = adata_Macosko.var.gene_name.isin(marker_gene_symbols)\n"
   ]
  },
  {
   "cell_type": "code",
   "execution_count": 16,
   "id": "176d7242",
   "metadata": {},
   "outputs": [],
   "source": [
    "adata_Macosko = adata_Macosko[:, adata_Macosko.var[\"is_marker\"]]"
   ]
  },
  {
   "cell_type": "code",
   "execution_count": null,
   "id": "01287b33",
   "metadata": {},
   "outputs": [],
   "source": [
    "adata_Macosko.write(base_data_folder + \"/whole_mouse_brain/processed/macosko/subsets/Macosko_Mouse_Atlas_Single_Nuclei.Use_Backed_3309_markers_only.cpm.h5ad\")"
   ]
  },
  {
   "cell_type": "code",
   "execution_count": 28,
   "id": "c81e9820",
   "metadata": {},
   "outputs": [
    {
     "data": {
      "text/html": [
       "<div>\n",
       "<style scoped>\n",
       "    .dataframe tbody tr th:only-of-type {\n",
       "        vertical-align: middle;\n",
       "    }\n",
       "\n",
       "    .dataframe tbody tr th {\n",
       "        vertical-align: top;\n",
       "    }\n",
       "\n",
       "    .dataframe thead th {\n",
       "        text-align: right;\n",
       "    }\n",
       "</style>\n",
       "<table border=\"1\" class=\"dataframe\">\n",
       "  <thead>\n",
       "    <tr style=\"text-align: right;\">\n",
       "      <th></th>\n",
       "      <th>is_marker</th>\n",
       "    </tr>\n",
       "    <tr>\n",
       "      <th>gene_name</th>\n",
       "      <th></th>\n",
       "    </tr>\n",
       "  </thead>\n",
       "  <tbody>\n",
       "    <tr>\n",
       "      <th>Nrg1</th>\n",
       "      <td>2</td>\n",
       "    </tr>\n",
       "  </tbody>\n",
       "</table>\n",
       "</div>"
      ],
      "text/plain": [
       "           is_marker\n",
       "gene_name           \n",
       "Nrg1               2"
      ]
     },
     "execution_count": 28,
     "metadata": {},
     "output_type": "execute_result"
    }
   ],
   "source": [
    "adata_Macosko.var.groupby('gene_name').count()[(adata_Macosko.var.groupby('gene_name').count().is_marker>1).tolist()]"
   ]
  },
  {
   "cell_type": "code",
   "execution_count": 29,
   "id": "54d29b30",
   "metadata": {},
   "outputs": [
    {
     "data": {
      "text/html": [
       "<div>\n",
       "<style scoped>\n",
       "    .dataframe tbody tr th:only-of-type {\n",
       "        vertical-align: middle;\n",
       "    }\n",
       "\n",
       "    .dataframe tbody tr th {\n",
       "        vertical-align: top;\n",
       "    }\n",
       "\n",
       "    .dataframe thead th {\n",
       "        text-align: right;\n",
       "    }\n",
       "</style>\n",
       "<table border=\"1\" class=\"dataframe\">\n",
       "  <thead>\n",
       "    <tr style=\"text-align: right;\">\n",
       "      <th></th>\n",
       "      <th>gene_name</th>\n",
       "      <th>is_marker</th>\n",
       "    </tr>\n",
       "  </thead>\n",
       "  <tbody>\n",
       "    <tr>\n",
       "      <th>ENSMUSG00000062991</th>\n",
       "      <td>Nrg1</td>\n",
       "      <td>True</td>\n",
       "    </tr>\n",
       "    <tr>\n",
       "      <th>ENSMUSG00000118541</th>\n",
       "      <td>Nrg1</td>\n",
       "      <td>True</td>\n",
       "    </tr>\n",
       "  </tbody>\n",
       "</table>\n",
       "</div>"
      ],
      "text/plain": [
       "                   gene_name  is_marker\n",
       "ENSMUSG00000062991      Nrg1       True\n",
       "ENSMUSG00000118541      Nrg1       True"
      ]
     },
     "execution_count": 29,
     "metadata": {},
     "output_type": "execute_result"
    }
   ],
   "source": [
    "adata_Macosko.var[adata_Macosko.var.gene_name == \"Nrg1\"]"
   ]
  },
  {
   "cell_type": "code",
   "execution_count": null,
   "id": "76b7c362",
   "metadata": {},
   "outputs": [],
   "source": []
  }
 ],
 "metadata": {
  "kernelspec": {
   "display_name": "Python 3 (ipykernel)",
   "language": "python",
   "name": "python3"
  },
  "language_info": {
   "codemirror_mode": {
    "name": "ipython",
    "version": 3
   },
   "file_extension": ".py",
   "mimetype": "text/x-python",
   "name": "python",
   "nbconvert_exporter": "python",
   "pygments_lexer": "ipython3",
   "version": "3.10.6"
  }
 },
 "nbformat": 4,
 "nbformat_minor": 5
}
