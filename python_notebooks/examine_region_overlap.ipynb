{
 "cells": [
  {
   "cell_type": "code",
   "execution_count": 6,
   "id": "d1fe3ec2",
   "metadata": {},
   "outputs": [],
   "source": [
    "import numpy as np\n",
    "import pandas as pd\n",
    "import scanpy as sc\n",
    "import pymn\n",
    "import anndata as ad\n",
    "import time\n",
    "import os\n",
    "from pyprojroot import here\n",
    "import resource\n",
    "from scipy.stats import chi2_contingency"
   ]
  },
  {
   "cell_type": "code",
   "execution_count": 7,
   "id": "2dfb9aeb",
   "metadata": {},
   "outputs": [],
   "source": [
    "base_data_folder = \"/vault/lfrench/mouse_brain_cluster_replicability/data/\"\n",
    "base_results_folder = os.path.join(here(), \"results\")"
   ]
  },
  {
   "cell_type": "code",
   "execution_count": 11,
   "id": "c82505b2",
   "metadata": {},
   "outputs": [],
   "source": [
    "adata_macosko = sc.read_h5ad(base_data_folder + \"/whole_mouse_brain/macosko/from_google_drive/Macosko_Mouse_Atlas_Single_Nuclei.Use_Backed.h5ad\", backed=\"r\")"
   ]
  },
  {
   "cell_type": "code",
   "execution_count": 10,
   "id": "cf74a03f",
   "metadata": {},
   "outputs": [],
   "source": [
    "macosko_meta_data = pd.read_csv(base_data_folder + \"/whole_mouse_brain/macosko/from_google_drive/Library_Metadata.tsv\", sep = '\\t')"
   ]
  },
  {
   "cell_type": "code",
   "execution_count": 12,
   "id": "56a7814a",
   "metadata": {},
   "outputs": [],
   "source": [
    "macosko_meta_data = macosko_meta_data[['library', 'region', 'brain_struct']]"
   ]
  },
  {
   "cell_type": "code",
   "execution_count": 13,
   "id": "4d9efb06",
   "metadata": {},
   "outputs": [],
   "source": [
    "macosko_meta_data = macosko_meta_data.rename(columns = {\"library\": \"derived_cell_libs\"})"
   ]
  },
  {
   "cell_type": "code",
   "execution_count": 15,
   "id": "ca480909",
   "metadata": {},
   "outputs": [],
   "source": [
    "adata_macosko.obs = adata_macosko.obs.merge(macosko_meta_data)"
   ]
  },
  {
   "cell_type": "code",
   "execution_count": 16,
   "id": "6a145b2c",
   "metadata": {},
   "outputs": [
    {
     "data": {
      "text/plain": [
       "brain_struct\n",
       "Isocortex    879639\n",
       "MB           696170\n",
       "CB           600320\n",
       "MY           465753\n",
       "TH           427206\n",
       "HPF          372153\n",
       "PAL          254759\n",
       "P            251060\n",
       "OLF          179563\n",
       "HY           109517\n",
       "CTXsp         89065\n",
       "STR           82091\n",
       "Name: count, dtype: int64"
      ]
     },
     "execution_count": 16,
     "metadata": {},
     "output_type": "execute_result"
    }
   ],
   "source": [
    "adata_macosko.obs.brain_struct.value_counts()"
   ]
  },
  {
   "cell_type": "code",
   "execution_count": 17,
   "id": "823f78a4",
   "metadata": {},
   "outputs": [
    {
     "data": {
      "text/plain": [
       "region\n",
       "MB      696170\n",
       "BS      674619\n",
       "CB      566290\n",
       "TH      427206\n",
       "ENT     192866\n",
       "OLF     179563\n",
       "MOp     164819\n",
       "CTX     159201\n",
       "HPF     151474\n",
       "RSP     146733\n",
       "AUD     129453\n",
       "ACA     119307\n",
       "HY      109517\n",
       "BNST    106826\n",
       "AMY      89065\n",
       "PALm     72031\n",
       "VISP     62088\n",
       "VIS      49556\n",
       "S1       48482\n",
       "STRd     45812\n",
       "NTS      42194\n",
       "PALv     41116\n",
       "LSX      36279\n",
       "PALd     34786\n",
       "DCN      34030\n",
       "SUB      27813\n",
       "Name: count, dtype: int64"
      ]
     },
     "execution_count": 17,
     "metadata": {},
     "output_type": "execute_result"
    }
   ],
   "source": [
    "adata_macosko.obs.region.value_counts()"
   ]
  },
  {
   "cell_type": "code",
   "execution_count": 18,
   "id": "dc33346a",
   "metadata": {},
   "outputs": [],
   "source": [
    "Macosko_regions = adata_macosko.obs"
   ]
  },
  {
   "cell_type": "code",
   "execution_count": 19,
   "id": "7f056ca7",
   "metadata": {},
   "outputs": [],
   "source": [
    "Macosko_regions[\"region_remap\"] = Macosko_regions.region.copy()\n",
    "regions_for_annotation = Macosko_regions.groupby(['region_remap']).size().sort_values(ascending=False)\n",
    "regions_for_annotation = pd.DataFrame(regions_for_annotation).reset_index()\n",
    "regions_for_annotation = regions_for_annotation.rename(columns={0 : \"cell_count\"})"
   ]
  },
  {
   "cell_type": "code",
   "execution_count": 20,
   "id": "57f79de8",
   "metadata": {},
   "outputs": [],
   "source": [
    "#less manual mappings in Macosko as it is more sparse\n",
    "Macosko_regions[\"region_remap\"] = Macosko_regions[\"region_remap\"].str.replace(\"PALd\", \"PAL\")\n",
    "Macosko_regions[\"region_remap\"] = Macosko_regions[\"region_remap\"].str.replace(\"PALm\", \"PAL\")\n",
    "Macosko_regions[\"region_remap\"] = Macosko_regions[\"region_remap\"].str.replace(\"PALv\", \"PAL\")"
   ]
  },
  {
   "cell_type": "code",
   "execution_count": 21,
   "id": "1b30ff08",
   "metadata": {},
   "outputs": [
    {
     "name": "stderr",
     "output_type": "stream",
     "text": [
      "/tmp/ipykernel_2453348/2938584066.py:1: FutureWarning: The default of observed=False is deprecated and will be changed to True in a future version of pandas. Pass observed=False to retain current behavior or observed=True to adopt the future default and silence this warning.\n",
      "  Macosko_regions = Macosko_regions.groupby(['region_remap', 'ClusterNm']).size()\n"
     ]
    }
   ],
   "source": [
    "Macosko_regions = Macosko_regions.groupby(['region_remap', 'ClusterNm']).size()"
   ]
  },
  {
   "cell_type": "code",
   "execution_count": 22,
   "id": "174c4201",
   "metadata": {},
   "outputs": [],
   "source": [
    "Macosko_regions = Macosko_regions.reset_index()"
   ]
  },
  {
   "cell_type": "code",
   "execution_count": 23,
   "id": "46150bc8",
   "metadata": {},
   "outputs": [],
   "source": [
    "Macosko_regions = Macosko_regions.rename(columns={0 : \"cell_count_Macosko\"})"
   ]
  },
  {
   "cell_type": "code",
   "execution_count": 24,
   "id": "9187ba08",
   "metadata": {},
   "outputs": [
    {
     "data": {
      "text/html": [
       "<div>\n",
       "<style scoped>\n",
       "    .dataframe tbody tr th:only-of-type {\n",
       "        vertical-align: middle;\n",
       "    }\n",
       "\n",
       "    .dataframe tbody tr th {\n",
       "        vertical-align: top;\n",
       "    }\n",
       "\n",
       "    .dataframe thead th {\n",
       "        text-align: right;\n",
       "    }\n",
       "</style>\n",
       "<table border=\"1\" class=\"dataframe\">\n",
       "  <thead>\n",
       "    <tr style=\"text-align: right;\">\n",
       "      <th></th>\n",
       "      <th>region_remap</th>\n",
       "      <th>ClusterNm</th>\n",
       "      <th>cell_count_Macosko</th>\n",
       "    </tr>\n",
       "  </thead>\n",
       "  <tbody>\n",
       "    <tr>\n",
       "      <th>0</th>\n",
       "      <td>ACA</td>\n",
       "      <td>Astro_Agt_Sntg1</td>\n",
       "      <td>6</td>\n",
       "    </tr>\n",
       "    <tr>\n",
       "      <th>1</th>\n",
       "      <td>ACA</td>\n",
       "      <td>Astro_Emid1_Cd38</td>\n",
       "      <td>0</td>\n",
       "    </tr>\n",
       "    <tr>\n",
       "      <th>2</th>\n",
       "      <td>ACA</td>\n",
       "      <td>Astro_Emid1_Gdf10</td>\n",
       "      <td>0</td>\n",
       "    </tr>\n",
       "    <tr>\n",
       "      <th>3</th>\n",
       "      <td>ACA</td>\n",
       "      <td>Astro_Ephb1_Fzd2</td>\n",
       "      <td>12215</td>\n",
       "    </tr>\n",
       "    <tr>\n",
       "      <th>4</th>\n",
       "      <td>ACA</td>\n",
       "      <td>Astro_Ephb1_Gfap</td>\n",
       "      <td>402</td>\n",
       "    </tr>\n",
       "    <tr>\n",
       "      <th>...</th>\n",
       "      <td>...</td>\n",
       "      <td>...</td>\n",
       "      <td>...</td>\n",
       "    </tr>\n",
       "    <tr>\n",
       "      <th>120715</th>\n",
       "      <td>VISP</td>\n",
       "      <td>Ser_Fev_Wfdc12</td>\n",
       "      <td>0</td>\n",
       "    </tr>\n",
       "    <tr>\n",
       "      <th>120716</th>\n",
       "      <td>VISP</td>\n",
       "      <td>Ser_Nkx6-1_Trh</td>\n",
       "      <td>0</td>\n",
       "    </tr>\n",
       "    <tr>\n",
       "      <th>120717</th>\n",
       "      <td>VISP</td>\n",
       "      <td>Tanycyte_Rax_Ccdc170</td>\n",
       "      <td>0</td>\n",
       "    </tr>\n",
       "    <tr>\n",
       "      <th>120718</th>\n",
       "      <td>VISP</td>\n",
       "      <td>Tanycyte_Rax_Fndc3c1_1</td>\n",
       "      <td>0</td>\n",
       "    </tr>\n",
       "    <tr>\n",
       "      <th>120719</th>\n",
       "      <td>VISP</td>\n",
       "      <td>Tanycyte_Rax_Fndc3c1_2</td>\n",
       "      <td>0</td>\n",
       "    </tr>\n",
       "  </tbody>\n",
       "</table>\n",
       "<p>120720 rows × 3 columns</p>\n",
       "</div>"
      ],
      "text/plain": [
       "       region_remap               ClusterNm  cell_count_Macosko\n",
       "0               ACA         Astro_Agt_Sntg1                   6\n",
       "1               ACA        Astro_Emid1_Cd38                   0\n",
       "2               ACA       Astro_Emid1_Gdf10                   0\n",
       "3               ACA        Astro_Ephb1_Fzd2               12215\n",
       "4               ACA        Astro_Ephb1_Gfap                 402\n",
       "...             ...                     ...                 ...\n",
       "120715         VISP          Ser_Fev_Wfdc12                   0\n",
       "120716         VISP          Ser_Nkx6-1_Trh                   0\n",
       "120717         VISP    Tanycyte_Rax_Ccdc170                   0\n",
       "120718         VISP  Tanycyte_Rax_Fndc3c1_1                   0\n",
       "120719         VISP  Tanycyte_Rax_Fndc3c1_2                   0\n",
       "\n",
       "[120720 rows x 3 columns]"
      ]
     },
     "execution_count": 24,
     "metadata": {},
     "output_type": "execute_result"
    }
   ],
   "source": [
    "Macosko_regions"
   ]
  },
  {
   "cell_type": "code",
   "execution_count": 25,
   "id": "8641a082",
   "metadata": {},
   "outputs": [],
   "source": [
    "############\n",
    "### Zeng\n",
    "############"
   ]
  },
  {
   "cell_type": "code",
   "execution_count": 32,
   "id": "bd66f2e1",
   "metadata": {},
   "outputs": [],
   "source": [
    "adata_Zeng = sc.read_h5ad(base_data_folder + \"/whole_mouse_brain/processed/zeng/subsets/AIT21.0.merged.with_multiome.h5ad\", backed='r')"
   ]
  },
  {
   "cell_type": "code",
   "execution_count": null,
   "id": "6aaa51d6",
   "metadata": {},
   "outputs": [],
   "source": []
  },
  {
   "cell_type": "code",
   "execution_count": 33,
   "id": "096c5921",
   "metadata": {},
   "outputs": [],
   "source": [
    "Zeng_regions = adata_Zeng.obs"
   ]
  },
  {
   "cell_type": "code",
   "execution_count": 34,
   "id": "533f4a8a",
   "metadata": {},
   "outputs": [],
   "source": [
    "Zeng_regions[\"region_remap\"] = Zeng_regions.roi.copy()"
   ]
  },
  {
   "cell_type": "code",
   "execution_count": 35,
   "id": "c8a11e5f",
   "metadata": {},
   "outputs": [],
   "source": [
    "#manual mapping to line up the regions as best as posible\n",
    "Zeng_regions[\"region_remap\"] = Zeng_regions[\"region_remap\"].str.replace(\"^Mouse Multiome \", \"\", regex=True) \n",
    "Zeng_regions[\"region_remap\"] = Zeng_regions[\"region_remap\"].str.replace(\"^SSp$\", \"S1\", regex=True)\n",
    "Zeng_regions[\"region_remap\"] = Zeng_regions[\"region_remap\"].str.replace(\"^STR - STRd$\", \"STRd\", regex=True)\n",
    "Zeng_regions[\"region_remap\"] = Zeng_regions[\"region_remap\"].str.replace(\"^PAR-POST-PRE-SUB-ProS$\", \"SUB\", regex=True)\n",
    "Zeng_regions[\"region_remap\"] = Zeng_regions[\"region_remap\"].str.replace(\"^PAR-POST-PRE-SUB-ProS$\", \"SUB\", regex=True)\n",
    "Zeng_regions[\"region_remap\"] = Zeng_regions[\"region_remap\"].str.replace(\"^HY LZ$\", \"HY\", regex=True)\n",
    "Zeng_regions[\"region_remap\"] = Zeng_regions[\"region_remap\"].str.replace(\"^CNU - PAL$\", \"PAL\", regex=True)\n",
    "Zeng_regions[\"region_remap\"] = Zeng_regions[\"region_remap\"].str.replace(\"^VISp$\", \"VISP\", regex=True)\n",
    "Zeng_regions[\"region_remap\"] = Zeng_regions[\"region_remap\"].str.replace(\"^VISl$\", \"VIS\", regex=True)\n",
    "Zeng_regions[\"region_remap\"] = Zeng_regions[\"region_remap\"].str.replace(\"^VISa$\", \"VIS\", regex=True)\n",
    "Zeng_regions[\"region_remap\"] = Zeng_regions[\"region_remap\"].str.replace(\"^VISm$\", \"VIS\", regex=True)\n",
    "Zeng_regions[\"region_remap\"] = Zeng_regions[\"region_remap\"].str.replace(\"^VISpos$\", \"VIS\", regex=True)\n",
    "Zeng_regions[\"region_remap\"] = Zeng_regions[\"region_remap\"].str.replace(\"^STR - LSX$\", \"LSX\", regex=True)\n"
   ]
  },
  {
   "cell_type": "code",
   "execution_count": 36,
   "id": "b508845a",
   "metadata": {},
   "outputs": [],
   "source": [
    "split_values = Zeng_regions['region_remap'].str.split(' - ', expand=True)"
   ]
  },
  {
   "cell_type": "code",
   "execution_count": 37,
   "id": "993e8507",
   "metadata": {},
   "outputs": [
    {
     "data": {
      "text/plain": [
       "{'ACA',\n",
       " 'AI-CLA',\n",
       " 'AId-AIv',\n",
       " 'AId-AIv-AIp',\n",
       " 'AUD',\n",
       " 'AUD-TEa-PERI-ECT',\n",
       " 'CB',\n",
       " 'CTXsp',\n",
       " 'ENT',\n",
       " 'HB',\n",
       " 'HIP',\n",
       " 'HY',\n",
       " 'LSX',\n",
       " 'MB',\n",
       " 'MB-PONS',\n",
       " 'MO-FRP',\n",
       " 'MOp',\n",
       " 'MOs-FRP',\n",
       " 'MY',\n",
       " 'OLF',\n",
       " 'PAL',\n",
       " 'PL-ILA-ORB',\n",
       " 'PONS',\n",
       " 'PTLp',\n",
       " 'RSP',\n",
       " 'S1',\n",
       " 'SS-GU-VISC',\n",
       " 'SSs-GU-VISC-AIp',\n",
       " 'STR',\n",
       " 'STRd',\n",
       " 'SUB',\n",
       " 'TEa-PERI-ECT',\n",
       " 'TH',\n",
       " 'VIS',\n",
       " 'VIS-PTLp',\n",
       " 'VISP'}"
      ]
     },
     "execution_count": 37,
     "metadata": {},
     "output_type": "execute_result"
    }
   ],
   "source": [
    "set(split_values[0])"
   ]
  },
  {
   "cell_type": "code",
   "execution_count": 38,
   "id": "7f48c1ca",
   "metadata": {},
   "outputs": [],
   "source": [
    "Zeng_regions['region_remap'] = split_values[0]"
   ]
  },
  {
   "cell_type": "code",
   "execution_count": 39,
   "id": "96444c7d",
   "metadata": {},
   "outputs": [],
   "source": [
    "#applied after shortening\n",
    "Zeng_regions[\"region_remap\"] = Zeng_regions[\"region_remap\"].str.replace(\"^PONS$\", \"BS\", regex=True)\n",
    "Zeng_regions[\"region_remap\"] = Zeng_regions[\"region_remap\"].str.replace(\"^HIP$\", \"HPF\", regex=True) #excludes subiculum\n",
    "Zeng_regions[\"region_remap\"] = Zeng_regions[\"region_remap\"].str.replace(\"^HB$\", \"BS\", regex=True)\n",
    "Zeng_regions[\"region_remap\"] = Zeng_regions[\"region_remap\"].str.replace(\"^MY$\", \"BS\", regex=True)\n"
   ]
  },
  {
   "cell_type": "code",
   "execution_count": 40,
   "id": "d8b3fb32",
   "metadata": {},
   "outputs": [
    {
     "data": {
      "text/plain": [
       "{'AI-CLA',\n",
       " 'AId-AIv',\n",
       " 'AId-AIv-AIp',\n",
       " 'AUD-TEa-PERI-ECT',\n",
       " 'CTXsp',\n",
       " 'MB-PONS',\n",
       " 'MO-FRP',\n",
       " 'MOs-FRP',\n",
       " 'PL-ILA-ORB',\n",
       " 'PTLp',\n",
       " 'SS-GU-VISC',\n",
       " 'SSs-GU-VISC-AIp',\n",
       " 'STR',\n",
       " 'TEa-PERI-ECT',\n",
       " 'VIS-PTLp'}"
      ]
     },
     "execution_count": 40,
     "metadata": {},
     "output_type": "execute_result"
    }
   ],
   "source": [
    "set(Zeng_regions[\"region_remap\"]).difference(Macosko_regions[\"region_remap\"])"
   ]
  },
  {
   "cell_type": "code",
   "execution_count": 41,
   "id": "8531eda9",
   "metadata": {},
   "outputs": [],
   "source": [
    "shared_regions = set(Zeng_regions[\"region_remap\"]).intersection(Macosko_regions[\"region_remap\"])"
   ]
  },
  {
   "cell_type": "code",
   "execution_count": 42,
   "id": "d717a4a1",
   "metadata": {},
   "outputs": [
    {
     "data": {
      "text/plain": [
       "{'ACA',\n",
       " 'AUD',\n",
       " 'BS',\n",
       " 'CB',\n",
       " 'ENT',\n",
       " 'HPF',\n",
       " 'HY',\n",
       " 'LSX',\n",
       " 'MB',\n",
       " 'MOp',\n",
       " 'OLF',\n",
       " 'PAL',\n",
       " 'RSP',\n",
       " 'S1',\n",
       " 'STRd',\n",
       " 'SUB',\n",
       " 'TH',\n",
       " 'VIS',\n",
       " 'VISP'}"
      ]
     },
     "execution_count": 42,
     "metadata": {},
     "output_type": "execute_result"
    }
   ],
   "source": [
    "shared_regions"
   ]
  },
  {
   "cell_type": "code",
   "execution_count": 43,
   "id": "7baebfd6",
   "metadata": {},
   "outputs": [
    {
     "data": {
      "text/plain": [
       "19"
      ]
     },
     "execution_count": 43,
     "metadata": {},
     "output_type": "execute_result"
    }
   ],
   "source": [
    "len(shared_regions)"
   ]
  },
  {
   "cell_type": "code",
   "execution_count": 44,
   "id": "fe04445a",
   "metadata": {},
   "outputs": [
    {
     "data": {
      "text/plain": [
       "{'AMY', 'BNST', 'CTX', 'DCN', 'NTS'}"
      ]
     },
     "execution_count": 44,
     "metadata": {},
     "output_type": "execute_result"
    }
   ],
   "source": [
    "set(Macosko_regions[\"region_remap\"]).difference(Zeng_regions[\"region_remap\"])"
   ]
  },
  {
   "cell_type": "code",
   "execution_count": 45,
   "id": "42c778c4",
   "metadata": {},
   "outputs": [
    {
     "data": {
      "text/plain": [
       "{'AI-CLA',\n",
       " 'AId-AIv',\n",
       " 'AId-AIv-AIp',\n",
       " 'AUD-TEa-PERI-ECT',\n",
       " 'CTXsp',\n",
       " 'MB-PONS',\n",
       " 'MO-FRP',\n",
       " 'MOs-FRP',\n",
       " 'PL-ILA-ORB',\n",
       " 'PTLp',\n",
       " 'SS-GU-VISC',\n",
       " 'SSs-GU-VISC-AIp',\n",
       " 'STR',\n",
       " 'TEa-PERI-ECT',\n",
       " 'VIS-PTLp'}"
      ]
     },
     "execution_count": 45,
     "metadata": {},
     "output_type": "execute_result"
    }
   ],
   "source": [
    "set(Zeng_regions[\"region_remap\"]).difference(Macosko_regions[\"region_remap\"])"
   ]
  },
  {
   "cell_type": "code",
   "execution_count": 46,
   "id": "8d529cee",
   "metadata": {},
   "outputs": [
    {
     "name": "stderr",
     "output_type": "stream",
     "text": [
      "/tmp/ipykernel_2453348/907190998.py:1: FutureWarning: The default of observed=False is deprecated and will be changed to True in a future version of pandas. Pass observed=False to retain current behavior or observed=True to adopt the future default and silence this warning.\n",
      "  Zeng_regions.groupby(['region_remap', 'cl']).size().sum()\n"
     ]
    },
    {
     "data": {
      "text/plain": [
       "4044536"
      ]
     },
     "execution_count": 46,
     "metadata": {},
     "output_type": "execute_result"
    }
   ],
   "source": [
    "Zeng_regions.groupby(['region_remap', 'cl']).size().sum()"
   ]
  },
  {
   "cell_type": "code",
   "execution_count": 47,
   "id": "1642e73a",
   "metadata": {},
   "outputs": [
    {
     "name": "stderr",
     "output_type": "stream",
     "text": [
      "/tmp/ipykernel_2453348/2772952892.py:2: FutureWarning: The default of observed=False is deprecated and will be changed to True in a future version of pandas. Pass observed=False to retain current behavior or observed=True to adopt the future default and silence this warning.\n",
      "  Zeng_regions = Zeng_regions.groupby(['region_remap', 'cl']).size()\n"
     ]
    }
   ],
   "source": [
    "#Count cells per region and cluster\n",
    "Zeng_regions = Zeng_regions.groupby(['region_remap', 'cl']).size()"
   ]
  },
  {
   "cell_type": "code",
   "execution_count": 48,
   "id": "6c236c35",
   "metadata": {},
   "outputs": [],
   "source": [
    "Zeng_regions = Zeng_regions.reset_index()"
   ]
  },
  {
   "cell_type": "code",
   "execution_count": 49,
   "id": "9282c1d1",
   "metadata": {},
   "outputs": [],
   "source": [
    "Zeng_regions = Zeng_regions.rename(columns={0 : \"cell_count_Zeng\"})"
   ]
  },
  {
   "cell_type": "code",
   "execution_count": 50,
   "id": "4b3a5e7c",
   "metadata": {},
   "outputs": [],
   "source": [
    "Macosko_regions_all = Macosko_regions.copy()\n",
    "Macosko_regions = Macosko_regions[Macosko_regions[\"region_remap\"].isin(shared_regions)]\n",
    "Zeng_regions_all = Zeng_regions.copy()\n",
    "Zeng_regions = Zeng_regions[Zeng_regions[\"region_remap\"].isin(shared_regions)]\n",
    "\n"
   ]
  },
  {
   "cell_type": "code",
   "execution_count": 51,
   "id": "e6036b5b",
   "metadata": {},
   "outputs": [],
   "source": [
    "os.makedirs(base_results_folder + \"/region_profile_compare/\", exist_ok=True)"
   ]
  },
  {
   "cell_type": "code",
   "execution_count": 53,
   "id": "8f51f4c9",
   "metadata": {},
   "outputs": [],
   "source": [
    "Zeng_regions.to_csv(base_results_folder + \"/region_profile_compare/Zeng_region_counts.csv\", index=False)\n",
    "Macosko_regions.to_csv(base_results_folder + \"/region_profile_compare/Macosko_region_counts.csv\", index=False)"
   ]
  },
  {
   "cell_type": "code",
   "execution_count": 54,
   "id": "286a4b29",
   "metadata": {},
   "outputs": [
    {
     "data": {
      "text/plain": [
       "'/vault/lfrench/mouse_brain_cluster_replicability/results//region_profile_compare/Zeng_region_counts.csv'"
      ]
     },
     "execution_count": 54,
     "metadata": {},
     "output_type": "execute_result"
    }
   ],
   "source": [
    "base_results_folder + \"/region_profile_compare/Zeng_region_counts.csv\""
   ]
  },
  {
   "cell_type": "code",
   "execution_count": null,
   "id": "65ae41c9",
   "metadata": {},
   "outputs": [],
   "source": []
  }
 ],
 "metadata": {
  "kernelspec": {
   "display_name": "Python [conda env:mouse_brain_cells] *",
   "language": "python",
   "name": "conda-env-mouse_brain_cells-py"
  },
  "language_info": {
   "codemirror_mode": {
    "name": "ipython",
    "version": 3
   },
   "file_extension": ".py",
   "mimetype": "text/x-python",
   "name": "python",
   "nbconvert_exporter": "python",
   "pygments_lexer": "ipython3",
   "version": "3.10.6"
  }
 },
 "nbformat": 4,
 "nbformat_minor": 5
}
