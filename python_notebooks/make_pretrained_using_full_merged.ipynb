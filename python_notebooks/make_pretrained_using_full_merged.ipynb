{
 "cells": [
  {
   "cell_type": "code",
   "execution_count": null,
   "id": "c90355f4",
   "metadata": {},
   "outputs": [],
   "source": [
    "import numpy as np\n",
    "import pandas as pd\n",
    "import scanpy as sc\n",
    "import pymn\n",
    "import anndata as ad\n",
    "import time\n",
    "import datetime\n",
    "import os\n",
    "from pyprojroot import here\n",
    "import resource"
   ]
  },
  {
   "cell_type": "code",
   "execution_count": null,
   "id": "07681077",
   "metadata": {},
   "outputs": [],
   "source": [
    "here()\n",
    "start_time = time.time()\n",
    "\n",
    "base_data_folder = \"/vault/lfrench/mouse_brain_cluster_replicability/data/\""
   ]
  },
  {
   "cell_type": "code",
   "execution_count": null,
   "id": "f16fafc8",
   "metadata": {},
   "outputs": [],
   "source": [
    "merged = sc.read_h5ad(base_data_folder + '/whole_mouse_brain/processed/merged_Zeng_AWS.Oct2023.h5ad', backed=True)"
   ]
  },
  {
   "cell_type": "code",
   "execution_count": null,
   "id": "bdebc7a2",
   "metadata": {},
   "outputs": [],
   "source": [
    "merged.obs['cell.type'] = merged.obs['cell.type'].astype(str)\n",
    "merged.obs['study_id'] = merged.obs['study_id'].astype(str)"
   ]
  },
  {
   "cell_type": "code",
   "execution_count": null,
   "id": "1aa5114d",
   "metadata": {},
   "outputs": [],
   "source": [
    "#filter for cells of Zeng\n",
    "merged = merged[merged.obs['study_id']==\"Zeng\"]"
   ]
  },
  {
   "cell_type": "code",
   "execution_count": null,
   "id": "46335153",
   "metadata": {},
   "outputs": [],
   "source": [
    "%%time\n",
    "merged_in_memory = merged.to_memory() #9 minutes on an inkwell, ~60Gb RAM"
   ]
  },
  {
   "cell_type": "code",
   "execution_count": null,
   "id": "b6a670d2",
   "metadata": {},
   "outputs": [],
   "source": [
    "%%time\n",
    "ptrained_Zeng = pymn.trainModel(merged_in_memory, 'study_id', 'cell.type')"
   ]
  },
  {
   "cell_type": "code",
   "execution_count": null,
   "id": "87599342",
   "metadata": {},
   "outputs": [],
   "source": [
    "ptrained_Zeng.to_csv(base_data_folder + '/whole_mouse_brain/processed/zeng/merged_Zeng_AWS.Oct2023.pretrained_Zeng.csv.gz', compression = 'gzip')"
   ]
  },
  {
   "cell_type": "code",
   "execution_count": null,
   "id": "91190096",
   "metadata": {},
   "outputs": [],
   "source": [
    "#Minor code duplication for Macosko, may need a restart to free up memory"
   ]
  },
  {
   "cell_type": "code",
   "execution_count": null,
   "id": "06663928",
   "metadata": {},
   "outputs": [],
   "source": [
    "merged = sc.read_h5ad(base_data_folder + '/whole_mouse_brain/processed/merged_Zeng_AWS.Oct2023.h5ad', backed=True)\n",
    "merged.obs['cell.type'] = merged.obs['cell.type'].astype(str)\n",
    "merged.obs['study_id'] = merged.obs['study_id'].astype(str)"
   ]
  },
  {
   "cell_type": "code",
   "execution_count": null,
   "id": "1ac63cb3",
   "metadata": {},
   "outputs": [],
   "source": [
    "#filter for cells\n",
    "merged = merged[merged.obs['study_id']==\"Macosko\"]"
   ]
  },
  {
   "cell_type": "code",
   "execution_count": null,
   "id": "1d4d4a3b",
   "metadata": {},
   "outputs": [],
   "source": [
    "%%time\n",
    "merged_in_memory = merged.to_memory()"
   ]
  },
  {
   "cell_type": "code",
   "execution_count": null,
   "id": "8d568148",
   "metadata": {},
   "outputs": [],
   "source": [
    "%%time\n",
    "ptrained_Mac = pymn.trainModel(merged_in_memory, 'study_id', 'cell.type')"
   ]
  },
  {
   "cell_type": "code",
   "execution_count": null,
   "id": "553c92a3",
   "metadata": {},
   "outputs": [],
   "source": [
    "ptrained_Mac.to_csv(base_data_folder + '/whole_mouse_brain/processed/macosko/merged_Zeng_AWS.Oct2023.pretrained_Macosko.csv.gz', compression = 'gzip')"
   ]
  },
  {
   "cell_type": "code",
   "execution_count": null,
   "id": "15abf90f",
   "metadata": {},
   "outputs": [],
   "source": []
  },
  {
   "cell_type": "code",
   "execution_count": null,
   "id": "f518ca64",
   "metadata": {},
   "outputs": [],
   "source": [
    "###########################################\n",
    "#the 109 BARseq genes\n",
    "###########################################"
   ]
  },
  {
   "cell_type": "code",
   "execution_count": null,
   "id": "0d09c3ac",
   "metadata": {},
   "outputs": [],
   "source": [
    "barseq_genes = pd.read_csv(base_data_folder + \"/whole_mouse_brain/processed/barseq/barseq_gene_ids.csv\")"
   ]
  },
  {
   "cell_type": "code",
   "execution_count": null,
   "id": "c9795e5a",
   "metadata": {},
   "outputs": [],
   "source": [
    "#needs the original data as only 90 of 109 overlap with HVGs\n",
    "len(set(barseq_genes[\"ENSEMBL\"].tolist()).intersection(merged.var.index.tolist()))"
   ]
  },
  {
   "cell_type": "code",
   "execution_count": null,
   "id": "554916c7",
   "metadata": {},
   "outputs": [],
   "source": [
    "adata_macosko = sc.read_h5ad(base_data_folder + \"/whole_mouse_brain/processed/macosko/subsets/Macosko_Mouse_Atlas_Single_Nuclei.Use_Backed.barseq_109.h5ad\")\n",
    "adata_zeng = sc.read_h5ad(base_data_folder + \"/whole_mouse_brain/processed/zeng/subsets/AIT21.0.merged.with_multiome.barseq_109.h5ad\")"
   ]
  },
  {
   "cell_type": "code",
   "execution_count": null,
   "id": "828871fe",
   "metadata": {},
   "outputs": [],
   "source": [
    "adata_zeng.obs[\"cell.type\"] = adata_zeng.obs.cl\n",
    "adata_zeng.obs[\"study_id\"] = \"Zeng\""
   ]
  },
  {
   "cell_type": "code",
   "execution_count": null,
   "id": "7ddca9d1",
   "metadata": {},
   "outputs": [],
   "source": [
    "adata_macosko.var['highly_variable'] = True\n",
    "adata_zeng.var['highly_variable'] = True"
   ]
  },
  {
   "cell_type": "code",
   "execution_count": null,
   "id": "500963af",
   "metadata": {},
   "outputs": [],
   "source": [
    "%%time\n",
    "ptrained_Mac_109 = pymn.trainModel(adata_macosko, 'study_id', 'cell.type')"
   ]
  },
  {
   "cell_type": "code",
   "execution_count": null,
   "id": "dfb2797b",
   "metadata": {},
   "outputs": [],
   "source": [
    "ptrained_Mac_109.to_csv(base_data_folder + '/whole_mouse_brain/processed/macosko/Macosko_Mouse_Atlas_Single_Nuclei.pretrained_Macosko_109_genes.csv.gz', compression = 'gzip')"
   ]
  },
  {
   "cell_type": "code",
   "execution_count": null,
   "id": "d1ca4f2b",
   "metadata": {},
   "outputs": [],
   "source": [
    "%%time\n",
    "ptrained_Zeng_109 = pymn.trainModel(adata_zeng, 'study_id', 'cell.type')"
   ]
  },
  {
   "cell_type": "code",
   "execution_count": null,
   "id": "5f5b1b4a",
   "metadata": {},
   "outputs": [],
   "source": [
    "ptrained_Zeng_109.to_csv(base_data_folder + '/whole_mouse_brain/processed/zeng/subsets/AIT21.0.merged.with_multiome.pretrained_Zeng_109_genes.csv.gz', compression = 'gzip')"
   ]
  },
  {
   "cell_type": "code",
   "execution_count": null,
   "id": "4d2c3e05",
   "metadata": {},
   "outputs": [],
   "source": []
  }
 ],
 "metadata": {
  "kernelspec": {
   "display_name": "Python [conda env:mouse_brain_cells] *",
   "language": "python",
   "name": "conda-env-mouse_brain_cells-py"
  },
  "language_info": {
   "codemirror_mode": {
    "name": "ipython",
    "version": 3
   },
   "file_extension": ".py",
   "mimetype": "text/x-python",
   "name": "python",
   "nbconvert_exporter": "python",
   "pygments_lexer": "ipython3",
   "version": "3.10.6"
  }
 },
 "nbformat": 4,
 "nbformat_minor": 5
}
