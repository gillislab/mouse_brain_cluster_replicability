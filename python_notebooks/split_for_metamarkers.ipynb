{
 "cells": [
  {
   "cell_type": "code",
   "execution_count": null,
   "id": "095161bd",
   "metadata": {},
   "outputs": [],
   "source": [
    "import numpy as np\n",
    "import pandas as pd\n",
    "import scanpy as sc\n",
    "import pymn\n",
    "import anndata as ad\n",
    "import time\n",
    "import os\n",
    "from pyprojroot import here\n",
    "import resource"
   ]
  },
  {
   "cell_type": "code",
   "execution_count": null,
   "id": "b13576c7",
   "metadata": {},
   "outputs": [],
   "source": [
    "#load, then run cpm"
   ]
  },
  {
   "cell_type": "code",
   "execution_count": null,
   "id": "1a62fc14",
   "metadata": {},
   "outputs": [],
   "source": [
    "here()\n",
    "base_data_folder = \"/vault/lfrench/mouse_brain_cluster_replicability/data/\""
   ]
  },
  {
   "cell_type": "code",
   "execution_count": null,
   "id": "263a1b82",
   "metadata": {},
   "outputs": [],
   "source": [
    "## Won't run on Dactyl\n",
    "adata_Zeng = sc.read_h5ad(base_data_folder + \"/whole_mouse_brain/processed/zeng/subsets/AIT21.0.merged.with_multiome.h5ad\")\n"
   ]
  },
  {
   "cell_type": "code",
   "execution_count": null,
   "id": "4edba65f",
   "metadata": {},
   "outputs": [],
   "source": [
    "Zeng_cluster_info_AWS = pd.read_csv(base_data_folder + \"/whole_mouse_brain/zeng/from_aws/AIT21.0/AIT21_annotation_freeze_081523.tsv\", sep = '\\t')\n",
    "#set study ID here to prevent view as actual memory grabs \n",
    "Zeng_cluster_info_AWS['study_id'] = \"Zeng\"\n",
    "#set it to be strings\n",
    "adata_Zeng.obs['cl'] = adata_Zeng.obs['cl'].astype(str)\n",
    "Zeng_cluster_info_AWS['cl'] = Zeng_cluster_info_AWS['cl'].astype(str)\n",
    "adata_Zeng.obs.index = adata_Zeng.obs.index.astype(str)\n",
    "adata_Zeng.obs = adata_Zeng.obs.merge(Zeng_cluster_info_AWS, how=\"left\", on='cl')\n",
    "#use ensmbl ID as index\n",
    "adata_Zeng.var = adata_Zeng.var.set_index(\"gene_identifier\")\n",
    "#LQ or low quality cells\n",
    "sum(adata_Zeng.obs['subclass_label'] == \"LQ\")\n",
    "#remove #LQ\n",
    "adata_Zeng.obs.index = adata_Zeng.obs.index.astype(str)\n",
    "adata_Zeng.obs[\"filter_out\"] = adata_Zeng.obs['subclass_label'] == \"LQ\"\n",
    "adata_Zeng = adata_Zeng[~adata_Zeng.obs[\"filter_out\"],:]\n",
    "adata_Zeng.obs.index = adata_Zeng.obs.index.astype(str)\n"
   ]
  },
  {
   "cell_type": "code",
   "execution_count": null,
   "id": "dc2e0d5e",
   "metadata": {},
   "outputs": [],
   "source": []
  },
  {
   "cell_type": "code",
   "execution_count": null,
   "id": "a3990ec4",
   "metadata": {},
   "outputs": [],
   "source": [
    "print(adata_Zeng)"
   ]
  },
  {
   "cell_type": "code",
   "execution_count": null,
   "id": "95d32de8",
   "metadata": {},
   "outputs": [],
   "source": [
    "adata_Zeng.var"
   ]
  },
  {
   "cell_type": "code",
   "execution_count": null,
   "id": "4bb57a3b",
   "metadata": {},
   "outputs": [],
   "source": [
    "sc.pp.normalize_total(adata_Zeng, target_sum=1e6, inplace=True)"
   ]
  },
  {
   "cell_type": "code",
   "execution_count": null,
   "id": "1985952b",
   "metadata": {},
   "outputs": [],
   "source": [
    "# Split the index into parts\n",
    "index_parts = np.array_split(adata_Zeng.var.index, 40)\n",
    "\n",
    "# write out the parts\n",
    "for i, part in enumerate(index_parts):\n",
    "    print(str(i))\n",
    "    adata_Zeng[:, part].write(base_data_folder + \"/whole_mouse_brain/processed/zeng/subsets/AIT21.0.merged.with_multiome.cpm.part_\"+str(i) + \".h5ad\")"
   ]
  },
  {
   "cell_type": "code",
   "execution_count": null,
   "id": "6c51de64",
   "metadata": {},
   "outputs": [],
   "source": [
    "base_data_folder"
   ]
  },
  {
   "cell_type": "code",
   "execution_count": null,
   "id": "541005fd",
   "metadata": {},
   "outputs": [],
   "source": [
    "############Macosko - code duplication"
   ]
  },
  {
   "cell_type": "code",
   "execution_count": null,
   "id": "a1db4d7f",
   "metadata": {},
   "outputs": [],
   "source": [
    "adata_Macosko = sc.read_h5ad(base_data_folder + \"/whole_mouse_brain/macosko/from_google_drive/Macosko_Mouse_Atlas_Single_Nuclei.Use_Backed.h5ad\")\n",
    "sc.pp.normalize_total(adata_Macosko, target_sum=1e6, inplace=True)\n"
   ]
  },
  {
   "cell_type": "code",
   "execution_count": null,
   "id": "fcb045f9",
   "metadata": {},
   "outputs": [],
   "source": [
    "adata_Macosko.obs['study_id'] = \"Macosko\"\n",
    "adata_Macosko.obs.index = adata_Macosko.obs.index.to_numpy(dtype=\"str\")"
   ]
  },
  {
   "cell_type": "code",
   "execution_count": null,
   "id": "ffbe0398",
   "metadata": {},
   "outputs": [],
   "source": [
    "# Split the index into parts\n",
    "\n",
    "index_parts = np.array_split(adata_Macosko.var.index, 20)\n",
    "\n",
    "# write out the parts\n",
    "for i, part in enumerate(index_parts):\n",
    "    print(str(i))\n",
    "    adata_Macosko[:, part].write(base_data_folder + \"/whole_mouse_brain/processed/macosko/subsets/Macosko_Mouse_Atlas_Single_Nuclei.Use_Backed.cpm.part_\"+str(i) + \".h5ad\")"
   ]
  },
  {
   "cell_type": "code",
   "execution_count": null,
   "id": "14d64315",
   "metadata": {},
   "outputs": [],
   "source": [
    "print(\"Done!\")"
   ]
  },
  {
   "cell_type": "code",
   "execution_count": null,
   "id": "9b3d8cc5",
   "metadata": {},
   "outputs": [],
   "source": []
  },
  {
   "cell_type": "code",
   "execution_count": null,
   "id": "105f950a",
   "metadata": {},
   "outputs": [],
   "source": []
  }
 ],
 "metadata": {
  "kernelspec": {
   "display_name": "Python 3 (ipykernel)",
   "language": "python",
   "name": "python3"
  },
  "language_info": {
   "codemirror_mode": {
    "name": "ipython",
    "version": 3
   },
   "file_extension": ".py",
   "mimetype": "text/x-python",
   "name": "python",
   "nbconvert_exporter": "python",
   "pygments_lexer": "ipython3",
   "version": "3.10.6"
  }
 },
 "nbformat": 4,
 "nbformat_minor": 5
}
