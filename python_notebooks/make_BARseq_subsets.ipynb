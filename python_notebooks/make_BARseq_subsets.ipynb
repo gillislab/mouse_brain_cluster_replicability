{
 "cells": [
  {
   "cell_type": "code",
   "execution_count": 1,
   "id": "2baa7162",
   "metadata": {
    "scrolled": true
   },
   "outputs": [
    {
     "name": "stderr",
     "output_type": "stream",
     "text": [
      "/home/leon/miniconda3/envs/mouse_brain_cells/lib/python3.10/site-packages/pandas/core/computation/expressions.py:21: UserWarning: Pandas requires version '2.8.4' or newer of 'numexpr' (version '2.8.3' currently installed).\n",
      "  from pandas.core.computation.check import NUMEXPR_INSTALLED\n",
      "/home/leon/miniconda3/envs/mouse_brain_cells/lib/python3.10/site-packages/pandas/core/arrays/masked.py:60: UserWarning: Pandas requires version '1.3.6' or newer of 'bottleneck' (version '1.3.5' currently installed).\n",
      "  from pandas.core import (\n",
      "/home/leon/miniconda3/envs/mouse_brain_cells/lib/python3.10/site-packages/anndata/utils.py:429: FutureWarning: Importing read_csv from `anndata` is deprecated. Import anndata.io.read_csv instead.\n",
      "  warnings.warn(msg, FutureWarning)\n",
      "/home/leon/miniconda3/envs/mouse_brain_cells/lib/python3.10/site-packages/anndata/utils.py:429: FutureWarning: Importing read_excel from `anndata` is deprecated. Import anndata.io.read_excel instead.\n",
      "  warnings.warn(msg, FutureWarning)\n",
      "/home/leon/miniconda3/envs/mouse_brain_cells/lib/python3.10/site-packages/anndata/utils.py:429: FutureWarning: Importing read_hdf from `anndata` is deprecated. Import anndata.io.read_hdf instead.\n",
      "  warnings.warn(msg, FutureWarning)\n",
      "/home/leon/miniconda3/envs/mouse_brain_cells/lib/python3.10/site-packages/anndata/utils.py:429: FutureWarning: Importing read_loom from `anndata` is deprecated. Import anndata.io.read_loom instead.\n",
      "  warnings.warn(msg, FutureWarning)\n",
      "/home/leon/miniconda3/envs/mouse_brain_cells/lib/python3.10/site-packages/anndata/utils.py:429: FutureWarning: Importing read_mtx from `anndata` is deprecated. Import anndata.io.read_mtx instead.\n",
      "  warnings.warn(msg, FutureWarning)\n",
      "/home/leon/miniconda3/envs/mouse_brain_cells/lib/python3.10/site-packages/anndata/utils.py:429: FutureWarning: Importing read_text from `anndata` is deprecated. Import anndata.io.read_text instead.\n",
      "  warnings.warn(msg, FutureWarning)\n",
      "/home/leon/miniconda3/envs/mouse_brain_cells/lib/python3.10/site-packages/anndata/utils.py:429: FutureWarning: Importing read_umi_tools from `anndata` is deprecated. Import anndata.io.read_umi_tools instead.\n",
      "  warnings.warn(msg, FutureWarning)\n"
     ]
    }
   ],
   "source": [
    "import numpy as np\n",
    "import pandas as pd\n",
    "import scanpy as sc\n",
    "import pymn\n",
    "import anndata as ad\n",
    "import time\n",
    "import os\n",
    "from pyprojroot import here\n",
    "import resource"
   ]
  },
  {
   "cell_type": "code",
   "execution_count": 2,
   "id": "b8d99a79",
   "metadata": {},
   "outputs": [],
   "source": [
    "here()\n",
    "start_time = time.time()\n",
    "\n",
    "base_data_folder = \"/vault/lfrench/mouse_brain_cluster_replicability/data/\""
   ]
  },
  {
   "cell_type": "code",
   "execution_count": null,
   "id": "dd022417",
   "metadata": {},
   "outputs": [],
   "source": [
    "zeng_adata = sc.read_h5ad(base_data_folder + \"/whole_mouse_brain/processed/zeng/subsets/AIT21.0.merged.with_multiome.h5ad\", backed='r')"
   ]
  },
  {
   "cell_type": "code",
   "execution_count": 3,
   "id": "76ec38b8",
   "metadata": {},
   "outputs": [],
   "source": [
    "barseq_genes = pd.read_csv(base_data_folder + \"/whole_mouse_brain/processed/barseq/barseq_gene_ids.csv\")"
   ]
  },
  {
   "cell_type": "code",
   "execution_count": null,
   "id": "4831ab34",
   "metadata": {},
   "outputs": [],
   "source": [
    "#check that all 109 are there\n",
    "len(set(barseq_genes[\"ENSEMBL\"].tolist()).intersection(zeng_adata.var['gene_identifier'].tolist()))"
   ]
  },
  {
   "cell_type": "code",
   "execution_count": null,
   "id": "75199910",
   "metadata": {},
   "outputs": [],
   "source": [
    "zeng_adata.var = zeng_adata.var.set_index(\"gene_identifier\")"
   ]
  },
  {
   "cell_type": "code",
   "execution_count": null,
   "id": "be93c828",
   "metadata": {},
   "outputs": [],
   "source": [
    "zeng_adata = zeng_adata[:, barseq_genes[\"ENSEMBL\"].tolist()]"
   ]
  },
  {
   "cell_type": "code",
   "execution_count": null,
   "id": "74aee745",
   "metadata": {},
   "outputs": [],
   "source": [
    "%%time\n",
    "zeng_adata.write(base_data_folder + \"/whole_mouse_brain/processed/zeng/subsets/AIT21.0.merged.with_multiome.barseq_109.h5ad\")"
   ]
  },
  {
   "cell_type": "code",
   "execution_count": 4,
   "id": "ba3b708c",
   "metadata": {},
   "outputs": [],
   "source": [
    "#Macosko\n",
    "adata_macosko = sc.read_h5ad(base_data_folder + \"/whole_mouse_brain/macosko/from_google_drive/Macosko_Mouse_Atlas_Single_Nuclei.Use_Backed.h5ad\", backed='r')"
   ]
  },
  {
   "cell_type": "code",
   "execution_count": 5,
   "id": "561c62db",
   "metadata": {},
   "outputs": [],
   "source": [
    "adata_macosko.obs['cell.type'] = adata_macosko.obs['ClusterNm'].astype(str)\n",
    "adata_macosko.obs['study_id'] = \"Macosko\""
   ]
  },
  {
   "cell_type": "code",
   "execution_count": 6,
   "id": "8a7397dd",
   "metadata": {},
   "outputs": [],
   "source": [
    "adata_macosko = adata_macosko[:, barseq_genes[\"ENSEMBL\"].tolist()]"
   ]
  },
  {
   "cell_type": "code",
   "execution_count": 8,
   "id": "dda3f14e",
   "metadata": {},
   "outputs": [],
   "source": [
    "adata_macosko = adata_macosko.to_memory()"
   ]
  },
  {
   "cell_type": "code",
   "execution_count": 9,
   "id": "e609ee96",
   "metadata": {},
   "outputs": [],
   "source": [
    "adata_macosko.strings_to_categoricals()"
   ]
  },
  {
   "cell_type": "code",
   "execution_count": 10,
   "id": "88656467",
   "metadata": {},
   "outputs": [
    {
     "name": "stdout",
     "output_type": "stream",
     "text": [
      "CPU times: user 1.5 s, sys: 1.66 s, total: 3.16 s\n",
      "Wall time: 5.35 s\n"
     ]
    }
   ],
   "source": [
    "%%time\n",
    "adata_macosko.write(base_data_folder + \"/whole_mouse_brain/processed/macosko/subsets/Macosko_Mouse_Atlas_Single_Nuclei.Use_Backed.barseq_109.h5ad\")"
   ]
  },
  {
   "cell_type": "code",
   "execution_count": null,
   "id": "3602edc8",
   "metadata": {},
   "outputs": [],
   "source": []
  },
  {
   "cell_type": "code",
   "execution_count": null,
   "id": "ea5536f4",
   "metadata": {},
   "outputs": [],
   "source": []
  },
  {
   "cell_type": "code",
   "execution_count": null,
   "id": "2c792081",
   "metadata": {},
   "outputs": [],
   "source": []
  }
 ],
 "metadata": {
  "kernelspec": {
   "display_name": "Python [conda env:mouse_brain_cells] *",
   "language": "python",
   "name": "conda-env-mouse_brain_cells-py"
  },
  "language_info": {
   "codemirror_mode": {
    "name": "ipython",
    "version": 3
   },
   "file_extension": ".py",
   "mimetype": "text/x-python",
   "name": "python",
   "nbconvert_exporter": "python",
   "pygments_lexer": "ipython3",
   "version": "3.10.6"
  }
 },
 "nbformat": 4,
 "nbformat_minor": 5
}
