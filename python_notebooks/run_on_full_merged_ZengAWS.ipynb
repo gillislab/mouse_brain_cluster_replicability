{
 "cells": [
  {
   "cell_type": "code",
   "execution_count": 1,
   "id": "987856b3",
   "metadata": {},
   "outputs": [],
   "source": [
    "import numpy as np\n",
    "import pandas as pd\n",
    "import scanpy as sc\n",
    "import pymn\n",
    "import anndata as ad\n",
    "import time\n",
    "import datetime\n",
    "import os\n",
    "from pyprojroot import here\n",
    "import resource"
   ]
  },
  {
   "cell_type": "code",
   "execution_count": 2,
   "id": "7467338c",
   "metadata": {},
   "outputs": [],
   "source": [
    "here()\n",
    "start_time = time.time()\n",
    "base_data_folder = \"/vault/lfrench/mouse_brain_cluster_replicability/data/\"\n"
   ]
  },
  {
   "cell_type": "code",
   "execution_count": 3,
   "id": "63eba9d1",
   "metadata": {},
   "outputs": [],
   "source": [
    "if not os.path.isdir(os.path.join(here(), \"results\")):\n",
    "  os.mkdir(os.path.join(here(), \"results\"))"
   ]
  },
  {
   "cell_type": "code",
   "execution_count": 4,
   "id": "332b3289",
   "metadata": {},
   "outputs": [
    {
     "name": "stdout",
     "output_type": "stream",
     "text": [
      "/home/lfrench/projects/mouse_brain_comparison/results/full_run_ZengAWS.1718116036\n"
     ]
    }
   ],
   "source": [
    "result_folder = \"full_run_ZengAWS.\" + str(round(time.time()))\n",
    "result_folder = os.path.join(here(), \"results\", result_folder)\n",
    "os.mkdir(result_folder)\n",
    "print(result_folder)"
   ]
  },
  {
   "cell_type": "code",
   "execution_count": 7,
   "id": "7208066f",
   "metadata": {},
   "outputs": [],
   "source": [
    "merged = sc.read_h5ad(base_data_folder + '/whole_mouse_brain/processed/merged_Zeng_AWS.Oct2023.h5ad')\n"
   ]
  },
  {
   "cell_type": "code",
   "execution_count": 8,
   "id": "a7ded6a1",
   "metadata": {},
   "outputs": [
    {
     "name": "stdout",
     "output_type": "stream",
     "text": [
      "After loading merged h5ad\n"
     ]
    }
   ],
   "source": [
    "print(\"After loading merged h5ad\")"
   ]
  },
  {
   "cell_type": "code",
   "execution_count": 9,
   "id": "ad763fe3",
   "metadata": {},
   "outputs": [],
   "source": [
    "merged.obs['cell.type'] = merged.obs['cell.type'].astype(str)\n",
    "merged.obs['study_id'] = merged.obs['study_id'].astype(str)"
   ]
  },
  {
   "cell_type": "code",
   "execution_count": 10,
   "id": "521bf021",
   "metadata": {},
   "outputs": [
    {
     "name": "stdout",
     "output_type": "stream",
     "text": [
      "Done changing obs columns to strings\n"
     ]
    }
   ],
   "source": [
    "print(\"Done changing obs columns to strings\")"
   ]
  },
  {
   "cell_type": "code",
   "execution_count": null,
   "id": "b665cbfd",
   "metadata": {},
   "outputs": [],
   "source": [
    "pymn.MetaNeighborUS(merged,\n",
    "                    study_col='study_id',\n",
    "                    ct_col='cell.type',\n",
    "                    fast_version=True, symmetric_output=True)"
   ]
  },
  {
   "cell_type": "code",
   "execution_count": null,
   "id": "0dfa032d",
   "metadata": {},
   "outputs": [],
   "source": [
    "print(\"After running metaneighbor all vs all\")\n",
    "aurocs = merged.uns[\"MetaNeighborUS\"]\n",
    "aurocs.to_csv(result_folder + \"/aurocs_full.csv.gz\", compression=\"gzip\")"
   ]
  },
  {
   "cell_type": "code",
   "execution_count": null,
   "id": "918b864f",
   "metadata": {},
   "outputs": [],
   "source": [
    "#run 1 vs best\n",
    "pymn.MetaNeighborUS(merged,\n",
    "                    study_col='study_id',\n",
    "                    ct_col='cell.type', one_vs_best=True,\n",
    "                    fast_version=True, symmetric_output=True)"
   ]
  },
  {
   "cell_type": "code",
   "execution_count": null,
   "id": "37535b64",
   "metadata": {},
   "outputs": [],
   "source": [
    "aurocs = merged.uns[\"MetaNeighborUS_1v1\"]"
   ]
  },
  {
   "cell_type": "code",
   "execution_count": null,
   "id": "3fd634ee",
   "metadata": {},
   "outputs": [],
   "source": [
    "aurocs.to_csv(result_folder + \"/aurocs_1v1.csv.gz\", compression=\"gzip\")"
   ]
  },
  {
   "cell_type": "code",
   "execution_count": null,
   "id": "7cc74700",
   "metadata": {},
   "outputs": [],
   "source": [
    "cell_counts = merged.obs.groupby(\"study_id\").size()\n",
    "cell_counts.to_csv(result_folder + \"/cell_study_counts.csv\")\n",
    "cell_type_counts = merged.obs[[\"study_id\", \"cell.type\"]].drop_duplicates().groupby(\"study_id\").size()\n",
    "cell_type_counts.to_csv(result_folder + \"/cell_type_per_study_counts.csv\")"
   ]
  },
  {
   "cell_type": "code",
   "execution_count": null,
   "id": "308c9556",
   "metadata": {},
   "outputs": [],
   "source": [
    "for set_threshold in [0.95, 0.99, 0.999]:\n",
    "    print(set_threshold)\n",
    "    pymn.topHits(merged, threshold=set_threshold)\n",
    "    tophit_table = merged.uns['MetaNeighborUS_topHits']\n",
    "    tophit_table.to_csv(result_folder + \"/top_hits.\"+str(set_threshold)+\".csv\")"
   ]
  },
  {
   "cell_type": "code",
   "execution_count": null,
   "id": "f1ec8a6a",
   "metadata": {},
   "outputs": [],
   "source": [
    "merged.obs.to_csv(result_folder + \"/merged.obs.csv.zip\", compression=\"gzip\")\n",
    "merged.var.to_csv(result_folder + \"/merged.var.csv.zip\", compression=\"gzip\")"
   ]
  },
  {
   "cell_type": "code",
   "execution_count": null,
   "id": "3ea6e5c0",
   "metadata": {},
   "outputs": [],
   "source": [
    "#write out peak memory at end\n",
    "mem_usage = resource.getrusage(resource.RUSAGE_SELF).ru_maxrss\n",
    "# print the memory usage in megabytes\n",
    "print(\"Peak memory use in Gb  \" + str(round(mem_usage / 1024 / 1024,2 )) + \" PID  \" + str(os.getpid()))\n",
    "\n",
    "os.mkdir(os.path.join(result_folder, \"Peak memory use in Gb \" + str(round(mem_usage / 1024 / 1024 ,2))))"
   ]
  },
  {
   "cell_type": "code",
   "execution_count": null,
   "id": "2fc180f6",
   "metadata": {},
   "outputs": [],
   "source": [
    "end_time = time.time()\n",
    "print(\"Time taken h_m_s \" + str(datetime.timedelta(seconds=end_time-start_time)).replace(':', '_').split('.')[0])\n",
    "os.mkdir(os.path.join(result_folder, \"Time taken h_m_s \" + str(datetime.timedelta(seconds=end_time-start_time)).replace(':', '_').split('.')[0]))"
   ]
  },
  {
   "cell_type": "code",
   "execution_count": null,
   "id": "b254d5d0",
   "metadata": {},
   "outputs": [],
   "source": []
  }
 ],
 "metadata": {
  "kernelspec": {
   "display_name": "Python 3 (ipykernel)",
   "language": "python",
   "name": "python3"
  },
  "language_info": {
   "codemirror_mode": {
    "name": "ipython",
    "version": 3
   },
   "file_extension": ".py",
   "mimetype": "text/x-python",
   "name": "python",
   "nbconvert_exporter": "python",
   "pygments_lexer": "ipython3",
   "version": "3.10.6"
  }
 },
 "nbformat": 4,
 "nbformat_minor": 5
}
